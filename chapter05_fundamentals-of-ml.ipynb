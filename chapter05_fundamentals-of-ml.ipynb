{
  "cells": [
    {
      "cell_type": "markdown",
      "metadata": {
        "id": "uFOn2rCqbbew"
      },
      "source": [
        "This is a companion notebook for the book [Deep Learning with Python, Second Edition](https://www.manning.com/books/deep-learning-with-python-second-edition?a_aid=keras&a_bid=76564dff). For readability, it only contains runnable code blocks and section titles, and omits everything else in the book: text paragraphs, figures, and pseudocode.\n",
        "\n",
        "**If you want to be able to follow what's going on, I recommend reading the notebook side by side with your copy of the book.**\n",
        "\n",
        "This notebook was generated for TensorFlow 2.6."
      ]
    },
    {
      "cell_type": "markdown",
      "metadata": {
        "id": "8i8t5ufMbbez"
      },
      "source": [
        "# Fundamentals of machine learning"
      ]
    },
    {
      "cell_type": "markdown",
      "metadata": {
        "id": "XSIVcqj2bbe0"
      },
      "source": [
        "## Generalization: The goal of machine learning"
      ]
    },
    {
      "cell_type": "markdown",
      "metadata": {
        "id": "sOJwjBu1bbe0"
      },
      "source": [
        "### Underfitting and overfitting"
      ]
    },
    {
      "cell_type": "markdown",
      "metadata": {
        "id": "qU9kfN6Ubbe0"
      },
      "source": [
        "#### Noisy training data"
      ]
    },
    {
      "cell_type": "markdown",
      "metadata": {
        "id": "mbK8SlW-bbe0"
      },
      "source": [
        "#### Ambiguous features"
      ]
    },
    {
      "cell_type": "markdown",
      "metadata": {
        "id": "Cq4q61Rhbbe1"
      },
      "source": [
        "#### Rare features and spurious correlations"
      ]
    },
    {
      "cell_type": "markdown",
      "metadata": {
        "id": "cT7ISnSebbe1"
      },
      "source": [
        "**Adding white-noise channels or all-zeros channels to MNIST**"
      ]
    },
    {
      "cell_type": "code",
      "execution_count": 2,
      "metadata": {
        "colab": {
          "base_uri": "https://localhost:8080/"
        },
        "id": "7MZ6tqxTbbe2",
        "outputId": "6c1c7a14-c6a9-410c-8547-13f5ab59682d"
      },
      "outputs": [
        {
          "output_type": "stream",
          "name": "stdout",
          "text": [
            "Downloading data from https://storage.googleapis.com/tensorflow/tf-keras-datasets/mnist.npz\n",
            "11493376/11490434 [==============================] - 0s 0us/step\n",
            "11501568/11490434 [==============================] - 0s 0us/step\n"
          ]
        }
      ],
      "source": [
        "from tensorflow.keras.datasets import mnist\n",
        "import numpy as np\n",
        "\n",
        "(train_images, train_labels), _ = mnist.load_data()\n",
        "train_images = train_images.reshape((60000, 28 * 28))\n",
        "train_images = train_images.astype(\"float32\") / 255\n",
        "\n",
        "train_images_with_noise_channels = np.concatenate(\n",
        "    [train_images, np.random.random((len(train_images), 784))], axis=1)\n",
        "\n",
        "train_images_with_zeros_channels = np.concatenate(\n",
        "    [train_images, np.zeros((len(train_images), 784))], axis=1)"
      ]
    },
    {
      "cell_type": "code",
      "source": [
        "train_images.shape"
      ],
      "metadata": {
        "colab": {
          "base_uri": "https://localhost:8080/"
        },
        "id": "dh48-t23btd1",
        "outputId": "44825c82-9253-4c04-f4a7-bc45c38500cb"
      },
      "execution_count": 3,
      "outputs": [
        {
          "output_type": "execute_result",
          "data": {
            "text/plain": [
              "(60000, 784)"
            ]
          },
          "metadata": {},
          "execution_count": 3
        }
      ]
    },
    {
      "cell_type": "code",
      "source": [
        "(len(train_images), 784)"
      ],
      "metadata": {
        "colab": {
          "base_uri": "https://localhost:8080/"
        },
        "id": "nKHM632KcB_n",
        "outputId": "d1858ce9-90c8-4d39-f344-017b3ea67f9c"
      },
      "execution_count": 4,
      "outputs": [
        {
          "output_type": "execute_result",
          "data": {
            "text/plain": [
              "(60000, 784)"
            ]
          },
          "metadata": {},
          "execution_count": 4
        }
      ]
    },
    {
      "cell_type": "code",
      "source": [
        "train_images_with_noise_channels.shape"
      ],
      "metadata": {
        "colab": {
          "base_uri": "https://localhost:8080/"
        },
        "id": "PI9PYgUqcIG4",
        "outputId": "77ec471c-895b-4cc1-d19a-724aa405f09c"
      },
      "execution_count": 5,
      "outputs": [
        {
          "output_type": "execute_result",
          "data": {
            "text/plain": [
              "(60000, 1568)"
            ]
          },
          "metadata": {},
          "execution_count": 5
        }
      ]
    },
    {
      "cell_type": "code",
      "source": [
        "train_images_with_zeros_channels.shape"
      ],
      "metadata": {
        "colab": {
          "base_uri": "https://localhost:8080/"
        },
        "id": "CRNZr1aqcLAI",
        "outputId": "77f5f542-1ed8-4543-aea5-1e924c3745b2"
      },
      "execution_count": 6,
      "outputs": [
        {
          "output_type": "execute_result",
          "data": {
            "text/plain": [
              "(60000, 1568)"
            ]
          },
          "metadata": {},
          "execution_count": 6
        }
      ]
    },
    {
      "cell_type": "markdown",
      "metadata": {
        "id": "nFfh56JAbbe3"
      },
      "source": [
        "**Training the same model on MNIST data with noise channels or all-zero channels**"
      ]
    },
    {
      "cell_type": "code",
      "execution_count": 7,
      "metadata": {
        "colab": {
          "base_uri": "https://localhost:8080/"
        },
        "id": "6U9HR4Vxbbe3",
        "outputId": "27f11ace-5f11-422a-df32-d0a3b22ca3cd"
      },
      "outputs": [
        {
          "output_type": "stream",
          "name": "stdout",
          "text": [
            "Epoch 1/10\n",
            "375/375 [==============================] - 6s 7ms/step - loss: 0.6184 - accuracy: 0.8143 - val_loss: 0.2443 - val_accuracy: 0.9266\n",
            "Epoch 2/10\n",
            "375/375 [==============================] - 2s 5ms/step - loss: 0.2453 - accuracy: 0.9241 - val_loss: 0.1643 - val_accuracy: 0.9513\n",
            "Epoch 3/10\n",
            "375/375 [==============================] - 2s 5ms/step - loss: 0.1599 - accuracy: 0.9501 - val_loss: 0.1801 - val_accuracy: 0.9457\n",
            "Epoch 4/10\n",
            "375/375 [==============================] - 2s 5ms/step - loss: 0.1111 - accuracy: 0.9653 - val_loss: 0.1461 - val_accuracy: 0.9562\n",
            "Epoch 5/10\n",
            "375/375 [==============================] - 2s 5ms/step - loss: 0.0798 - accuracy: 0.9747 - val_loss: 0.1185 - val_accuracy: 0.9663\n",
            "Epoch 6/10\n",
            "375/375 [==============================] - 2s 5ms/step - loss: 0.0593 - accuracy: 0.9813 - val_loss: 0.1833 - val_accuracy: 0.9496\n",
            "Epoch 7/10\n",
            "375/375 [==============================] - 2s 5ms/step - loss: 0.0447 - accuracy: 0.9856 - val_loss: 0.1475 - val_accuracy: 0.9606\n",
            "Epoch 8/10\n",
            "375/375 [==============================] - 2s 5ms/step - loss: 0.0341 - accuracy: 0.9887 - val_loss: 0.1225 - val_accuracy: 0.9691\n",
            "Epoch 9/10\n",
            "375/375 [==============================] - 2s 5ms/step - loss: 0.0261 - accuracy: 0.9914 - val_loss: 0.1718 - val_accuracy: 0.9563\n",
            "Epoch 10/10\n",
            "375/375 [==============================] - 2s 5ms/step - loss: 0.0193 - accuracy: 0.9941 - val_loss: 0.1475 - val_accuracy: 0.9667\n",
            "Epoch 1/10\n",
            "375/375 [==============================] - 3s 6ms/step - loss: 0.2834 - accuracy: 0.9178 - val_loss: 0.1568 - val_accuracy: 0.9531\n",
            "Epoch 2/10\n",
            "375/375 [==============================] - 2s 5ms/step - loss: 0.1175 - accuracy: 0.9656 - val_loss: 0.1060 - val_accuracy: 0.9674\n",
            "Epoch 3/10\n",
            "375/375 [==============================] - 2s 5ms/step - loss: 0.0778 - accuracy: 0.9764 - val_loss: 0.0924 - val_accuracy: 0.9728\n",
            "Epoch 4/10\n",
            "375/375 [==============================] - 2s 5ms/step - loss: 0.0554 - accuracy: 0.9835 - val_loss: 0.0841 - val_accuracy: 0.9757\n",
            "Epoch 5/10\n",
            "375/375 [==============================] - 2s 5ms/step - loss: 0.0418 - accuracy: 0.9879 - val_loss: 0.0776 - val_accuracy: 0.9780\n",
            "Epoch 6/10\n",
            "375/375 [==============================] - 2s 5ms/step - loss: 0.0321 - accuracy: 0.9905 - val_loss: 0.0780 - val_accuracy: 0.9787\n",
            "Epoch 7/10\n",
            "375/375 [==============================] - 2s 5ms/step - loss: 0.0242 - accuracy: 0.9926 - val_loss: 0.0782 - val_accuracy: 0.9777\n",
            "Epoch 8/10\n",
            "375/375 [==============================] - 2s 5ms/step - loss: 0.0179 - accuracy: 0.9949 - val_loss: 0.0823 - val_accuracy: 0.9789\n",
            "Epoch 9/10\n",
            "375/375 [==============================] - 2s 5ms/step - loss: 0.0137 - accuracy: 0.9961 - val_loss: 0.0902 - val_accuracy: 0.9784\n",
            "Epoch 10/10\n",
            "375/375 [==============================] - 2s 5ms/step - loss: 0.0102 - accuracy: 0.9973 - val_loss: 0.0964 - val_accuracy: 0.9773\n"
          ]
        }
      ],
      "source": [
        "from tensorflow import keras\n",
        "from tensorflow.keras import layers\n",
        "\n",
        "#model 정의\n",
        "def get_model():\n",
        "    model = keras.Sequential([\n",
        "        layers.Dense(512, activation=\"relu\"),\n",
        "        layers.Dense(10, activation=\"softmax\")\n",
        "    ])\n",
        "    model.compile(optimizer=\"rmsprop\",\n",
        "                  loss=\"sparse_categorical_crossentropy\",\n",
        "                  metrics=[\"accuracy\"])\n",
        "    return model\n",
        "\n",
        "#model training\n",
        "model = get_model()\n",
        "history_noise = model.fit(\n",
        "    train_images_with_noise_channels, train_labels,\n",
        "    epochs=10,\n",
        "    batch_size=128,\n",
        "    validation_split=0.2)\n",
        "\n",
        "model = get_model()\n",
        "history_zeros = model.fit(\n",
        "    train_images_with_zeros_channels, train_labels,\n",
        "    epochs=10,\n",
        "    batch_size=128,\n",
        "    validation_split=0.2)"
      ]
    },
    {
      "cell_type": "code",
      "source": [
        "#noise와 zero가 각각 accuracy에 미치는 영향을 알아보기 위해 original data를 만드는 과정\n",
        "model = get_model()\n",
        "history1 = model.fit(\n",
        "    train_images_with_zeros_channels, train_labels,\n",
        "    epochs=10,\n",
        "    batch_size=128,\n",
        "    validation_split=0.2)"
      ],
      "metadata": {
        "colab": {
          "base_uri": "https://localhost:8080/"
        },
        "id": "t9gyNkCFdQFO",
        "outputId": "91035f08-482b-44f0-eec7-3994bdfc0b96"
      },
      "execution_count": 8,
      "outputs": [
        {
          "output_type": "stream",
          "name": "stdout",
          "text": [
            "Epoch 1/10\n",
            "375/375 [==============================] - 3s 6ms/step - loss: 0.2904 - accuracy: 0.9146 - val_loss: 0.1488 - val_accuracy: 0.9573\n",
            "Epoch 2/10\n",
            "375/375 [==============================] - 2s 5ms/step - loss: 0.1191 - accuracy: 0.9647 - val_loss: 0.1218 - val_accuracy: 0.9632\n",
            "Epoch 3/10\n",
            "375/375 [==============================] - 2s 5ms/step - loss: 0.0783 - accuracy: 0.9765 - val_loss: 0.0895 - val_accuracy: 0.9732\n",
            "Epoch 4/10\n",
            "375/375 [==============================] - 2s 5ms/step - loss: 0.0554 - accuracy: 0.9832 - val_loss: 0.0879 - val_accuracy: 0.9753\n",
            "Epoch 5/10\n",
            "375/375 [==============================] - 2s 5ms/step - loss: 0.0416 - accuracy: 0.9884 - val_loss: 0.0821 - val_accuracy: 0.9756\n",
            "Epoch 6/10\n",
            "375/375 [==============================] - 3s 7ms/step - loss: 0.0314 - accuracy: 0.9908 - val_loss: 0.0817 - val_accuracy: 0.9785\n",
            "Epoch 7/10\n",
            "375/375 [==============================] - 2s 6ms/step - loss: 0.0236 - accuracy: 0.9933 - val_loss: 0.0804 - val_accuracy: 0.9787\n",
            "Epoch 8/10\n",
            "375/375 [==============================] - 2s 5ms/step - loss: 0.0176 - accuracy: 0.9955 - val_loss: 0.0851 - val_accuracy: 0.9783\n",
            "Epoch 9/10\n",
            "375/375 [==============================] - 2s 5ms/step - loss: 0.0138 - accuracy: 0.9960 - val_loss: 0.0828 - val_accuracy: 0.9787\n",
            "Epoch 10/10\n",
            "375/375 [==============================] - 2s 5ms/step - loss: 0.0106 - accuracy: 0.9970 - val_loss: 0.0874 - val_accuracy: 0.9787\n"
          ]
        }
      ]
    },
    {
      "cell_type": "markdown",
      "metadata": {
        "id": "G1UROm5Zbbe4"
      },
      "source": [
        "**Plotting a validation accuracy comparison**"
      ]
    },
    {
      "cell_type": "code",
      "execution_count": 9,
      "metadata": {
        "colab": {
          "base_uri": "https://localhost:8080/",
          "height": 313
        },
        "id": "kaanOl5Vbbe4",
        "outputId": "b9d2fa7d-279d-4076-e278-ff8750749cba"
      },
      "outputs": [
        {
          "output_type": "execute_result",
          "data": {
            "text/plain": [
              "<matplotlib.legend.Legend at 0x7fe3f6ec0d90>"
            ]
          },
          "metadata": {},
          "execution_count": 9
        },
        {
          "output_type": "display_data",
          "data": {
            "text/plain": [
              "<Figure size 432x288 with 1 Axes>"
            ],
            "image/png": "[encoded data removed]"
          },
          "metadata": {
            "needs_background": "light"
          }
        }
      ],
      "source": [
        "#zero를 add하는 것은 accuracy에 큰 차이가 없어 보이지만, noise는 accuracy에 심각한 bad effect를 가져온다 -> noise는 피하자\n",
        "import matplotlib.pyplot as plt\n",
        "val_acc_noise = history_noise.history[\"val_accuracy\"]\n",
        "val_acc_zeros = history_zeros.history[\"val_accuracy\"]\n",
        "epochs = range(1, 11)\n",
        "plt.plot(epochs, val_acc_noise, \"b-\",\n",
        "         label=\"Validation accuracy with noise channels\")\n",
        "plt.plot(epochs, val_acc_zeros, \"b--\",\n",
        "         label=\"Validation accuracy with zeros channels\")\n",
        "plt.title(\"Effect of noise channels on validation accuracy\")\n",
        "plt.xlabel(\"Epochs\")\n",
        "plt.ylabel(\"Accuracy\")\n",
        "plt.legend()"
      ]
    },
    {
      "cell_type": "code",
      "source": [
        "#zero channels는 original data의 accuracy와 큰 차이가 없어보임\n",
        "import matplotlib.pyplot as plt\n",
        "val_acc = history1.history[\"val_accuracy\"]\n",
        "val_acc_zeros = history_zeros.history[\"val_accuracy\"]\n",
        "epochs = range(1, 11)\n",
        "plt.plot(epochs, val_acc, \"b-\",\n",
        "         label=\"Validation accuracy with original data\")\n",
        "plt.plot(epochs, val_acc_zeros, \"b--\",\n",
        "         label=\"Validation accuracy with zeros channels\")\n",
        "plt.title(\"Effect of original channels on validation accuracy\")\n",
        "plt.xlabel(\"Epochs\")\n",
        "plt.ylabel(\"Accuracy\")\n",
        "plt.legend()"
      ],
      "metadata": {
        "colab": {
          "base_uri": "https://localhost:8080/",
          "height": 313
        },
        "id": "4ke00vIxc2N4",
        "outputId": "97a20ccb-5f26-450e-8fcc-7f666a039d58"
      },
      "execution_count": 10,
      "outputs": [
        {
          "output_type": "execute_result",
          "data": {
            "text/plain": [
              "<matplotlib.legend.Legend at 0x7fe470040250>"
            ]
          },
          "metadata": {},
          "execution_count": 10
        },
        {
          "output_type": "display_data",
          "data": {
            "text/plain": [
              "<Figure size 432x288 with 1 Axes>"
            ],
            "image/png": "[encoded data removed]"
          },
          "metadata": {
            "needs_background": "light"
          }
        }
      ]
    },
    {
      "cell_type": "markdown",
      "metadata": {
        "id": "-XHvMPtHbbe4"
      },
      "source": [
        "### The nature of generalization in deep learning"
      ]
    },
    {
      "cell_type": "markdown",
      "metadata": {
        "id": "F7h8FbBWbbe5"
      },
      "source": [
        "**Fitting a MNIST model with randomly shuffled labels**"
      ]
    },
    {
      "cell_type": "code",
      "execution_count": 11,
      "metadata": {
        "colab": {
          "base_uri": "https://localhost:8080/"
        },
        "id": "o9TdJrZsbbe5",
        "outputId": "43a442d0-1498-4e51-8bb5-8f67f5e7b563"
      },
      "outputs": [
        {
          "output_type": "stream",
          "name": "stdout",
          "text": [
            "Epoch 1/100\n",
            "375/375 [==============================] - 3s 5ms/step - loss: 2.3163 - accuracy: 0.1031 - val_loss: 2.3058 - val_accuracy: 0.1101\n",
            "Epoch 2/100\n",
            "375/375 [==============================] - 2s 5ms/step - loss: 2.2997 - accuracy: 0.1148 - val_loss: 2.3090 - val_accuracy: 0.0978\n",
            "Epoch 3/100\n",
            "375/375 [==============================] - 2s 6ms/step - loss: 2.2883 - accuracy: 0.1286 - val_loss: 2.3249 - val_accuracy: 0.0987\n",
            "Epoch 4/100\n",
            "375/375 [==============================] - 2s 4ms/step - loss: 2.2742 - accuracy: 0.1420 - val_loss: 2.3314 - val_accuracy: 0.0990\n",
            "Epoch 5/100\n",
            "375/375 [==============================] - 2s 4ms/step - loss: 2.2556 - accuracy: 0.1577 - val_loss: 2.3409 - val_accuracy: 0.0982\n",
            "Epoch 6/100\n",
            "375/375 [==============================] - 2s 4ms/step - loss: 2.2331 - accuracy: 0.1700 - val_loss: 2.3594 - val_accuracy: 0.0993\n",
            "Epoch 7/100\n",
            "375/375 [==============================] - 2s 4ms/step - loss: 2.2075 - accuracy: 0.1851 - val_loss: 2.3735 - val_accuracy: 0.0970\n",
            "Epoch 8/100\n",
            "375/375 [==============================] - 2s 4ms/step - loss: 2.1791 - accuracy: 0.2034 - val_loss: 2.3903 - val_accuracy: 0.0968\n",
            "Epoch 9/100\n",
            "375/375 [==============================] - 2s 4ms/step - loss: 2.1480 - accuracy: 0.2216 - val_loss: 2.4234 - val_accuracy: 0.0956\n",
            "Epoch 10/100\n",
            "375/375 [==============================] - 2s 4ms/step - loss: 2.1190 - accuracy: 0.2343 - val_loss: 2.4430 - val_accuracy: 0.0989\n",
            "Epoch 11/100\n",
            "375/375 [==============================] - 2s 4ms/step - loss: 2.0839 - accuracy: 0.2507 - val_loss: 2.4610 - val_accuracy: 0.0964\n",
            "Epoch 12/100\n",
            "375/375 [==============================] - 2s 4ms/step - loss: 2.0501 - accuracy: 0.2652 - val_loss: 2.4939 - val_accuracy: 0.1002\n",
            "Epoch 13/100\n",
            "375/375 [==============================] - 2s 4ms/step - loss: 2.0154 - accuracy: 0.2801 - val_loss: 2.5247 - val_accuracy: 0.0985\n",
            "Epoch 14/100\n",
            "375/375 [==============================] - 2s 4ms/step - loss: 1.9809 - accuracy: 0.2969 - val_loss: 2.5472 - val_accuracy: 0.0970\n",
            "Epoch 15/100\n",
            "375/375 [==============================] - 2s 5ms/step - loss: 1.9461 - accuracy: 0.3135 - val_loss: 2.5760 - val_accuracy: 0.0983\n",
            "Epoch 16/100\n",
            "375/375 [==============================] - 2s 4ms/step - loss: 1.9099 - accuracy: 0.3270 - val_loss: 2.6056 - val_accuracy: 0.0965\n",
            "Epoch 17/100\n",
            "375/375 [==============================] - 2s 4ms/step - loss: 1.8750 - accuracy: 0.3414 - val_loss: 2.6602 - val_accuracy: 0.0988\n",
            "Epoch 18/100\n",
            "375/375 [==============================] - 2s 4ms/step - loss: 1.8416 - accuracy: 0.3543 - val_loss: 2.6705 - val_accuracy: 0.1005\n",
            "Epoch 19/100\n",
            "375/375 [==============================] - 2s 4ms/step - loss: 1.8083 - accuracy: 0.3671 - val_loss: 2.7096 - val_accuracy: 0.0983\n",
            "Epoch 20/100\n",
            "375/375 [==============================] - 2s 4ms/step - loss: 1.7766 - accuracy: 0.3780 - val_loss: 2.7642 - val_accuracy: 0.0978\n",
            "Epoch 21/100\n",
            "375/375 [==============================] - 2s 4ms/step - loss: 1.7447 - accuracy: 0.3918 - val_loss: 2.7970 - val_accuracy: 0.0963\n",
            "Epoch 22/100\n",
            "375/375 [==============================] - 2s 4ms/step - loss: 1.7136 - accuracy: 0.4053 - val_loss: 2.8611 - val_accuracy: 0.0956\n",
            "Epoch 23/100\n",
            "375/375 [==============================] - 2s 5ms/step - loss: 1.6817 - accuracy: 0.4177 - val_loss: 2.8793 - val_accuracy: 0.0988\n",
            "Epoch 24/100\n",
            "375/375 [==============================] - 2s 4ms/step - loss: 1.6522 - accuracy: 0.4283 - val_loss: 2.9306 - val_accuracy: 0.0973\n",
            "Epoch 25/100\n",
            "375/375 [==============================] - 2s 5ms/step - loss: 1.6221 - accuracy: 0.4420 - val_loss: 2.9438 - val_accuracy: 0.0977\n",
            "Epoch 26/100\n",
            "375/375 [==============================] - 2s 5ms/step - loss: 1.5947 - accuracy: 0.4502 - val_loss: 3.0143 - val_accuracy: 0.0992\n",
            "Epoch 27/100\n",
            "375/375 [==============================] - 2s 4ms/step - loss: 1.5687 - accuracy: 0.4580 - val_loss: 3.0531 - val_accuracy: 0.0950\n",
            "Epoch 28/100\n",
            "375/375 [==============================] - 2s 4ms/step - loss: 1.5405 - accuracy: 0.4699 - val_loss: 3.0897 - val_accuracy: 0.0926\n",
            "Epoch 29/100\n",
            "375/375 [==============================] - 2s 5ms/step - loss: 1.5129 - accuracy: 0.4800 - val_loss: 3.1381 - val_accuracy: 0.0948\n",
            "Epoch 30/100\n",
            "375/375 [==============================] - 2s 4ms/step - loss: 1.4860 - accuracy: 0.4905 - val_loss: 3.1756 - val_accuracy: 0.0963\n",
            "Epoch 31/100\n",
            "375/375 [==============================] - 2s 4ms/step - loss: 1.4621 - accuracy: 0.4992 - val_loss: 3.2222 - val_accuracy: 0.0980\n",
            "Epoch 32/100\n",
            "375/375 [==============================] - 2s 5ms/step - loss: 1.4387 - accuracy: 0.5054 - val_loss: 3.2622 - val_accuracy: 0.0989\n",
            "Epoch 33/100\n",
            "375/375 [==============================] - 2s 4ms/step - loss: 1.4138 - accuracy: 0.5167 - val_loss: 3.3155 - val_accuracy: 0.0994\n",
            "Epoch 34/100\n",
            "375/375 [==============================] - 2s 4ms/step - loss: 1.3898 - accuracy: 0.5273 - val_loss: 3.4038 - val_accuracy: 0.0989\n",
            "Epoch 35/100\n",
            "375/375 [==============================] - 2s 5ms/step - loss: 1.3666 - accuracy: 0.5345 - val_loss: 3.3947 - val_accuracy: 0.0993\n",
            "Epoch 36/100\n",
            "375/375 [==============================] - 2s 4ms/step - loss: 1.3433 - accuracy: 0.5429 - val_loss: 3.4911 - val_accuracy: 0.0969\n",
            "Epoch 37/100\n",
            "375/375 [==============================] - 2s 5ms/step - loss: 1.3193 - accuracy: 0.5521 - val_loss: 3.5193 - val_accuracy: 0.0981\n",
            "Epoch 38/100\n",
            "375/375 [==============================] - 2s 4ms/step - loss: 1.2997 - accuracy: 0.5589 - val_loss: 3.5347 - val_accuracy: 0.0973\n",
            "Epoch 39/100\n",
            "375/375 [==============================] - 2s 5ms/step - loss: 1.2783 - accuracy: 0.5671 - val_loss: 3.5966 - val_accuracy: 0.0977\n",
            "Epoch 40/100\n",
            "375/375 [==============================] - 2s 4ms/step - loss: 1.2586 - accuracy: 0.5748 - val_loss: 3.6597 - val_accuracy: 0.0972\n",
            "Epoch 41/100\n",
            "375/375 [==============================] - 2s 4ms/step - loss: 1.2371 - accuracy: 0.5816 - val_loss: 3.7147 - val_accuracy: 0.1006\n",
            "Epoch 42/100\n",
            "375/375 [==============================] - 2s 5ms/step - loss: 1.2176 - accuracy: 0.5899 - val_loss: 3.7520 - val_accuracy: 0.0963\n",
            "Epoch 43/100\n",
            "375/375 [==============================] - 2s 5ms/step - loss: 1.1963 - accuracy: 0.5972 - val_loss: 3.8243 - val_accuracy: 0.0993\n",
            "Epoch 44/100\n",
            "375/375 [==============================] - 2s 4ms/step - loss: 1.1785 - accuracy: 0.6027 - val_loss: 3.8710 - val_accuracy: 0.0999\n",
            "Epoch 45/100\n",
            "375/375 [==============================] - 2s 4ms/step - loss: 1.1589 - accuracy: 0.6107 - val_loss: 3.9351 - val_accuracy: 0.0971\n",
            "Epoch 46/100\n",
            "375/375 [==============================] - 2s 4ms/step - loss: 1.1434 - accuracy: 0.6152 - val_loss: 3.9621 - val_accuracy: 0.0988\n",
            "Epoch 47/100\n",
            "375/375 [==============================] - 2s 5ms/step - loss: 1.1241 - accuracy: 0.6231 - val_loss: 4.0312 - val_accuracy: 0.0972\n",
            "Epoch 48/100\n",
            "375/375 [==============================] - 2s 5ms/step - loss: 1.1066 - accuracy: 0.6286 - val_loss: 4.0707 - val_accuracy: 0.0984\n",
            "Epoch 49/100\n",
            "375/375 [==============================] - 2s 5ms/step - loss: 1.0895 - accuracy: 0.6349 - val_loss: 4.1304 - val_accuracy: 0.0983\n",
            "Epoch 50/100\n",
            "375/375 [==============================] - 2s 5ms/step - loss: 1.0721 - accuracy: 0.6395 - val_loss: 4.2098 - val_accuracy: 0.1013\n",
            "Epoch 51/100\n",
            "375/375 [==============================] - 2s 4ms/step - loss: 1.0575 - accuracy: 0.6450 - val_loss: 4.2331 - val_accuracy: 0.0985\n",
            "Epoch 52/100\n",
            "375/375 [==============================] - 2s 4ms/step - loss: 1.0390 - accuracy: 0.6522 - val_loss: 4.2858 - val_accuracy: 0.0983\n",
            "Epoch 53/100\n",
            "375/375 [==============================] - 2s 4ms/step - loss: 1.0227 - accuracy: 0.6552 - val_loss: 4.3651 - val_accuracy: 0.0980\n",
            "Epoch 54/100\n",
            "375/375 [==============================] - 2s 5ms/step - loss: 1.0061 - accuracy: 0.6646 - val_loss: 4.4231 - val_accuracy: 0.0991\n",
            "Epoch 55/100\n",
            "375/375 [==============================] - 2s 5ms/step - loss: 0.9939 - accuracy: 0.6703 - val_loss: 4.4629 - val_accuracy: 0.0984\n",
            "Epoch 56/100\n",
            "375/375 [==============================] - 2s 5ms/step - loss: 0.9756 - accuracy: 0.6754 - val_loss: 4.5339 - val_accuracy: 0.0974\n",
            "Epoch 57/100\n",
            "375/375 [==============================] - 2s 5ms/step - loss: 0.9611 - accuracy: 0.6778 - val_loss: 4.5670 - val_accuracy: 0.0983\n",
            "Epoch 58/100\n",
            "375/375 [==============================] - 2s 4ms/step - loss: 0.9473 - accuracy: 0.6841 - val_loss: 4.6794 - val_accuracy: 0.0993\n",
            "Epoch 59/100\n",
            "375/375 [==============================] - 2s 4ms/step - loss: 0.9346 - accuracy: 0.6893 - val_loss: 4.7074 - val_accuracy: 0.0978\n",
            "Epoch 60/100\n",
            "375/375 [==============================] - 2s 4ms/step - loss: 0.9170 - accuracy: 0.6965 - val_loss: 4.7693 - val_accuracy: 0.0999\n",
            "Epoch 61/100\n",
            "375/375 [==============================] - 2s 4ms/step - loss: 0.9052 - accuracy: 0.6989 - val_loss: 4.8146 - val_accuracy: 0.0985\n",
            "Epoch 62/100\n",
            "375/375 [==============================] - 2s 5ms/step - loss: 0.8907 - accuracy: 0.7038 - val_loss: 4.8722 - val_accuracy: 0.0966\n",
            "Epoch 63/100\n",
            "375/375 [==============================] - 2s 5ms/step - loss: 0.8801 - accuracy: 0.7080 - val_loss: 4.9323 - val_accuracy: 0.0962\n",
            "Epoch 64/100\n",
            "375/375 [==============================] - 2s 5ms/step - loss: 0.8666 - accuracy: 0.7120 - val_loss: 4.9950 - val_accuracy: 0.0994\n",
            "Epoch 65/100\n",
            "375/375 [==============================] - 2s 5ms/step - loss: 0.8526 - accuracy: 0.7170 - val_loss: 5.0914 - val_accuracy: 0.1018\n",
            "Epoch 66/100\n",
            "375/375 [==============================] - 2s 5ms/step - loss: 0.8401 - accuracy: 0.7211 - val_loss: 5.1331 - val_accuracy: 0.0968\n",
            "Epoch 67/100\n",
            "375/375 [==============================] - 2s 4ms/step - loss: 0.8288 - accuracy: 0.7254 - val_loss: 5.2348 - val_accuracy: 0.0946\n",
            "Epoch 68/100\n",
            "375/375 [==============================] - 2s 5ms/step - loss: 0.8131 - accuracy: 0.7298 - val_loss: 5.2624 - val_accuracy: 0.0978\n",
            "Epoch 69/100\n",
            "375/375 [==============================] - 2s 4ms/step - loss: 0.8026 - accuracy: 0.7347 - val_loss: 5.2682 - val_accuracy: 0.0976\n",
            "Epoch 70/100\n",
            "375/375 [==============================] - 2s 5ms/step - loss: 0.7906 - accuracy: 0.7398 - val_loss: 5.3815 - val_accuracy: 0.0989\n",
            "Epoch 71/100\n",
            "375/375 [==============================] - 2s 5ms/step - loss: 0.7802 - accuracy: 0.7435 - val_loss: 5.4534 - val_accuracy: 0.0967\n",
            "Epoch 72/100\n",
            "375/375 [==============================] - 2s 5ms/step - loss: 0.7682 - accuracy: 0.7459 - val_loss: 5.4685 - val_accuracy: 0.0999\n",
            "Epoch 73/100\n",
            "375/375 [==============================] - 2s 5ms/step - loss: 0.7573 - accuracy: 0.7483 - val_loss: 5.5585 - val_accuracy: 0.1009\n",
            "Epoch 74/100\n",
            "375/375 [==============================] - 2s 4ms/step - loss: 0.7452 - accuracy: 0.7553 - val_loss: 5.6395 - val_accuracy: 0.0991\n",
            "Epoch 75/100\n",
            "375/375 [==============================] - 2s 4ms/step - loss: 0.7355 - accuracy: 0.7587 - val_loss: 5.6724 - val_accuracy: 0.0996\n",
            "Epoch 76/100\n",
            "375/375 [==============================] - 2s 5ms/step - loss: 0.7251 - accuracy: 0.7631 - val_loss: 5.7221 - val_accuracy: 0.0988\n",
            "Epoch 77/100\n",
            "375/375 [==============================] - 2s 5ms/step - loss: 0.7124 - accuracy: 0.7653 - val_loss: 5.8062 - val_accuracy: 0.1013\n",
            "Epoch 78/100\n",
            "375/375 [==============================] - 2s 5ms/step - loss: 0.7032 - accuracy: 0.7702 - val_loss: 5.8834 - val_accuracy: 0.1013\n",
            "Epoch 79/100\n",
            "375/375 [==============================] - 2s 4ms/step - loss: 0.6936 - accuracy: 0.7719 - val_loss: 5.9332 - val_accuracy: 0.0996\n",
            "Epoch 80/100\n",
            "375/375 [==============================] - 2s 4ms/step - loss: 0.6843 - accuracy: 0.7751 - val_loss: 6.0027 - val_accuracy: 0.1002\n",
            "Epoch 81/100\n",
            "375/375 [==============================] - 2s 5ms/step - loss: 0.6715 - accuracy: 0.7813 - val_loss: 6.0944 - val_accuracy: 0.0987\n",
            "Epoch 82/100\n",
            "375/375 [==============================] - 2s 4ms/step - loss: 0.6629 - accuracy: 0.7847 - val_loss: 6.1131 - val_accuracy: 0.0975\n",
            "Epoch 83/100\n",
            "375/375 [==============================] - 2s 4ms/step - loss: 0.6531 - accuracy: 0.7880 - val_loss: 6.2081 - val_accuracy: 0.0962\n",
            "Epoch 84/100\n",
            "375/375 [==============================] - 2s 4ms/step - loss: 0.6444 - accuracy: 0.7904 - val_loss: 6.2506 - val_accuracy: 0.0986\n",
            "Epoch 85/100\n",
            "375/375 [==============================] - 2s 5ms/step - loss: 0.6341 - accuracy: 0.7936 - val_loss: 6.3788 - val_accuracy: 0.0994\n",
            "Epoch 86/100\n",
            "375/375 [==============================] - 2s 4ms/step - loss: 0.6268 - accuracy: 0.7958 - val_loss: 6.4370 - val_accuracy: 0.0954\n",
            "Epoch 87/100\n",
            "375/375 [==============================] - 2s 4ms/step - loss: 0.6177 - accuracy: 0.7989 - val_loss: 6.4743 - val_accuracy: 0.0980\n",
            "Epoch 88/100\n",
            "375/375 [==============================] - 2s 4ms/step - loss: 0.6096 - accuracy: 0.8008 - val_loss: 6.5238 - val_accuracy: 0.0983\n",
            "Epoch 89/100\n",
            "375/375 [==============================] - 2s 4ms/step - loss: 0.6004 - accuracy: 0.8040 - val_loss: 6.6000 - val_accuracy: 0.1005\n",
            "Epoch 90/100\n",
            "375/375 [==============================] - 2s 5ms/step - loss: 0.5921 - accuracy: 0.8070 - val_loss: 6.7842 - val_accuracy: 0.0991\n",
            "Epoch 91/100\n",
            "375/375 [==============================] - 2s 4ms/step - loss: 0.5824 - accuracy: 0.8129 - val_loss: 6.7461 - val_accuracy: 0.0976\n",
            "Epoch 92/100\n",
            "375/375 [==============================] - 2s 4ms/step - loss: 0.5740 - accuracy: 0.8131 - val_loss: 6.8257 - val_accuracy: 0.0993\n",
            "Epoch 93/100\n",
            "375/375 [==============================] - 2s 4ms/step - loss: 0.5674 - accuracy: 0.8160 - val_loss: 6.8865 - val_accuracy: 0.0996\n",
            "Epoch 94/100\n",
            "375/375 [==============================] - 2s 5ms/step - loss: 0.5591 - accuracy: 0.8204 - val_loss: 6.9196 - val_accuracy: 0.1002\n",
            "Epoch 95/100\n",
            "375/375 [==============================] - 2s 5ms/step - loss: 0.5515 - accuracy: 0.8206 - val_loss: 7.0251 - val_accuracy: 0.0990\n",
            "Epoch 96/100\n",
            "375/375 [==============================] - 2s 5ms/step - loss: 0.5425 - accuracy: 0.8248 - val_loss: 7.1229 - val_accuracy: 0.0975\n",
            "Epoch 97/100\n",
            "375/375 [==============================] - 2s 5ms/step - loss: 0.5364 - accuracy: 0.8270 - val_loss: 7.1724 - val_accuracy: 0.0965\n",
            "Epoch 98/100\n",
            "375/375 [==============================] - 2s 4ms/step - loss: 0.5286 - accuracy: 0.8283 - val_loss: 7.1968 - val_accuracy: 0.1001\n",
            "Epoch 99/100\n",
            "375/375 [==============================] - 2s 5ms/step - loss: 0.5218 - accuracy: 0.8313 - val_loss: 7.3290 - val_accuracy: 0.0993\n",
            "Epoch 100/100\n",
            "375/375 [==============================] - 2s 5ms/step - loss: 0.5157 - accuracy: 0.8339 - val_loss: 7.3456 - val_accuracy: 0.0994\n"
          ]
        },
        {
          "output_type": "execute_result",
          "data": {
            "text/plain": [
              "<keras.callbacks.History at 0x7fe4f2462350>"
            ]
          },
          "metadata": {},
          "execution_count": 11
        }
      ],
      "source": [
        "(train_images, train_labels), _ = mnist.load_data()\n",
        "train_images = train_images.reshape((60000, 28 * 28))\n",
        "train_images = train_images.astype(\"float32\") / 255\n",
        "\n",
        "random_train_labels = train_labels[:]\n",
        "np.random.shuffle(random_train_labels)\n",
        "\n",
        "#model training 과정 : Deep Learning의 특성 'fit anything'으로 인해 epoch가 진행될 수록 accuracy는 높아지지만, val_accuaracy는 지지부진함 = 오버피팅의 발생\n",
        "model = keras.Sequential([\n",
        "    layers.Dense(512, activation=\"relu\"),\n",
        "    layers.Dense(10, activation=\"softmax\")\n",
        "])\n",
        "model.compile(optimizer=\"rmsprop\",\n",
        "              loss=\"sparse_categorical_crossentropy\",\n",
        "              metrics=[\"accuracy\"])\n",
        "model.fit(train_images, random_train_labels,\n",
        "          epochs=100,\n",
        "          batch_size=128,\n",
        "          validation_split=0.2)"
      ]
    },
    {
      "cell_type": "markdown",
      "metadata": {
        "id": "TmKN-8Y0bbe5"
      },
      "source": [
        "#### The manifold hypothesis"
      ]
    },
    {
      "cell_type": "markdown",
      "metadata": {
        "id": "bNIjItN6bbe5"
      },
      "source": [
        "#### Interpolation as a source of generalization"
      ]
    },
    {
      "cell_type": "markdown",
      "metadata": {
        "id": "ebriY204bbe5"
      },
      "source": [
        "#### Why deep learning works"
      ]
    },
    {
      "cell_type": "markdown",
      "metadata": {
        "id": "FLK0FDD8bbe5"
      },
      "source": [
        "#### Training data is paramount"
      ]
    },
    {
      "cell_type": "markdown",
      "metadata": {
        "id": "3HpCq8rEbbe6"
      },
      "source": [
        "## Evaluating machine-learning models"
      ]
    },
    {
      "cell_type": "markdown",
      "metadata": {
        "id": "DuFOzCgtbbe6"
      },
      "source": [
        "### Training, validation, and test sets"
      ]
    },
    {
      "cell_type": "markdown",
      "metadata": {
        "id": "_e66xZkRbbe6"
      },
      "source": [
        "#### Simple hold-out validation"
      ]
    },
    {
      "cell_type": "markdown",
      "metadata": {
        "id": "BwFxxxfObbe6"
      },
      "source": [
        "#### K-fold validation"
      ]
    },
    {
      "cell_type": "markdown",
      "metadata": {
        "id": "cjgkx7lAbbe6"
      },
      "source": [
        "#### Iterated K-fold validation with shuffling"
      ]
    },
    {
      "cell_type": "markdown",
      "metadata": {
        "id": "Og4mGdAQbbe6"
      },
      "source": [
        "### Beating a common-sense baseline"
      ]
    },
    {
      "cell_type": "markdown",
      "metadata": {
        "id": "vMYlCLY1bbe6"
      },
      "source": [
        "### Things to keep in mind about model evaluation"
      ]
    },
    {
      "cell_type": "markdown",
      "metadata": {
        "id": "tXVB9Y5-bbe7"
      },
      "source": [
        "## Improving model fit"
      ]
    },
    {
      "cell_type": "markdown",
      "metadata": {
        "id": "guloHkeSbbe7"
      },
      "source": [
        "### Tuning key gradient descent parameters"
      ]
    },
    {
      "cell_type": "markdown",
      "metadata": {
        "id": "LHyh-OoRbbe7"
      },
      "source": [
        "**Training a MNIST model with an incorrectly high learning rate**"
      ]
    },
    {
      "cell_type": "code",
      "execution_count": 12,
      "metadata": {
        "colab": {
          "base_uri": "https://localhost:8080/"
        },
        "id": "49uenBxjbbe7",
        "outputId": "fb32a3b8-9ed3-42c5-88a1-a582a8b2651c"
      },
      "outputs": [
        {
          "output_type": "stream",
          "name": "stdout",
          "text": [
            "Epoch 1/10\n",
            "375/375 [==============================] - 2s 5ms/step - loss: 970.2356 - accuracy: 0.4388 - val_loss: 2.8595 - val_accuracy: 0.2888\n",
            "Epoch 2/10\n",
            "375/375 [==============================] - 2s 5ms/step - loss: 3.8925 - accuracy: 0.2847 - val_loss: 3.1043 - val_accuracy: 0.2874\n",
            "Epoch 3/10\n",
            "375/375 [==============================] - 2s 4ms/step - loss: 3.4136 - accuracy: 0.2939 - val_loss: 2.2238 - val_accuracy: 0.3214\n",
            "Epoch 4/10\n",
            "375/375 [==============================] - 2s 4ms/step - loss: 2.8482 - accuracy: 0.2948 - val_loss: 2.2867 - val_accuracy: 0.3192\n",
            "Epoch 5/10\n",
            "375/375 [==============================] - 2s 4ms/step - loss: 3.6308 - accuracy: 0.3201 - val_loss: 7.4108 - val_accuracy: 0.2652\n",
            "Epoch 6/10\n",
            "375/375 [==============================] - 2s 4ms/step - loss: 2.8287 - accuracy: 0.2901 - val_loss: 2.7533 - val_accuracy: 0.2838\n",
            "Epoch 7/10\n",
            "375/375 [==============================] - 2s 4ms/step - loss: 2.6610 - accuracy: 0.3158 - val_loss: 2.4277 - val_accuracy: 0.3241\n",
            "Epoch 8/10\n",
            "375/375 [==============================] - 2s 4ms/step - loss: 2.5923 - accuracy: 0.2952 - val_loss: 2.3232 - val_accuracy: 0.3010\n",
            "Epoch 9/10\n",
            "375/375 [==============================] - 2s 4ms/step - loss: 2.9498 - accuracy: 0.3111 - val_loss: 2.3547 - val_accuracy: 0.3019\n",
            "Epoch 10/10\n",
            "375/375 [==============================] - 2s 4ms/step - loss: 2.6383 - accuracy: 0.3028 - val_loss: 5.0128 - val_accuracy: 0.2399\n"
          ]
        },
        {
          "output_type": "execute_result",
          "data": {
            "text/plain": [
              "<keras.callbacks.History at 0x7fe47029f650>"
            ]
          },
          "metadata": {},
          "execution_count": 12
        }
      ],
      "source": [
        "(train_images, train_labels), _ = mnist.load_data()\n",
        "train_images = train_images.reshape((60000, 28 * 28))\n",
        "train_images = train_images.astype(\"float32\") / 255\n",
        "\n",
        "model = keras.Sequential([\n",
        "    layers.Dense(512, activation=\"relu\"),\n",
        "    layers.Dense(10, activation=\"softmax\")\n",
        "])\n",
        "model.compile(optimizer=keras.optimizers.RMSprop(1.),\n",
        "              loss=\"sparse_categorical_crossentropy\",\n",
        "              metrics=[\"accuracy\"])\n",
        "model.fit(train_images, train_labels,\n",
        "          epochs=10,\n",
        "          batch_size=128,\n",
        "          validation_split=0.2)"
      ]
    },
    {
      "cell_type": "markdown",
      "metadata": {
        "id": "UxADfNRnbbe7"
      },
      "source": [
        "**The same model with a more appropriate learning rate**"
      ]
    },
    {
      "cell_type": "code",
      "execution_count": 13,
      "metadata": {
        "colab": {
          "base_uri": "https://localhost:8080/"
        },
        "id": "zuh4cKurbbe7",
        "outputId": "567a3977-6886-439e-f300-5dd9e39bde8c"
      },
      "outputs": [
        {
          "output_type": "stream",
          "name": "stdout",
          "text": [
            "Epoch 1/10\n",
            "375/375 [==============================] - 2s 5ms/step - loss: 0.3527 - accuracy: 0.9125 - val_loss: 0.1955 - val_accuracy: 0.9479\n",
            "Epoch 2/10\n",
            "375/375 [==============================] - 2s 4ms/step - loss: 0.1349 - accuracy: 0.9640 - val_loss: 0.1761 - val_accuracy: 0.9578\n",
            "Epoch 3/10\n",
            "375/375 [==============================] - 2s 4ms/step - loss: 0.1135 - accuracy: 0.9732 - val_loss: 0.1415 - val_accuracy: 0.9743\n",
            "Epoch 4/10\n",
            "375/375 [==============================] - 2s 4ms/step - loss: 0.0961 - accuracy: 0.9787 - val_loss: 0.1879 - val_accuracy: 0.9703\n",
            "Epoch 5/10\n",
            "375/375 [==============================] - 2s 4ms/step - loss: 0.0854 - accuracy: 0.9818 - val_loss: 0.1651 - val_accuracy: 0.9738\n",
            "Epoch 6/10\n",
            "375/375 [==============================] - 2s 4ms/step - loss: 0.0771 - accuracy: 0.9840 - val_loss: 0.2763 - val_accuracy: 0.9698\n",
            "Epoch 7/10\n",
            "375/375 [==============================] - 2s 4ms/step - loss: 0.0674 - accuracy: 0.9864 - val_loss: 0.2946 - val_accuracy: 0.9655\n",
            "Epoch 8/10\n",
            "375/375 [==============================] - 2s 4ms/step - loss: 0.0629 - accuracy: 0.9880 - val_loss: 0.2975 - val_accuracy: 0.9702\n",
            "Epoch 9/10\n",
            "375/375 [==============================] - 2s 4ms/step - loss: 0.0656 - accuracy: 0.9886 - val_loss: 0.3212 - val_accuracy: 0.9708\n",
            "Epoch 10/10\n",
            "375/375 [==============================] - 2s 4ms/step - loss: 0.0548 - accuracy: 0.9908 - val_loss: 0.3520 - val_accuracy: 0.9692\n"
          ]
        },
        {
          "output_type": "execute_result",
          "data": {
            "text/plain": [
              "<keras.callbacks.History at 0x7fe3f4ebaf50>"
            ]
          },
          "metadata": {},
          "execution_count": 13
        }
      ],
      "source": [
        "model = keras.Sequential([\n",
        "    layers.Dense(512, activation=\"relu\"),\n",
        "    layers.Dense(10, activation=\"softmax\")\n",
        "])\n",
        "model.compile(optimizer=keras.optimizers.RMSprop(1e-2),\n",
        "              loss=\"sparse_categorical_crossentropy\",\n",
        "              metrics=[\"accuracy\"])\n",
        "model.fit(train_images, train_labels,\n",
        "          epochs=10,\n",
        "          batch_size=128,\n",
        "          validation_split=0.2)"
      ]
    },
    {
      "cell_type": "markdown",
      "metadata": {
        "id": "VvexLqlobbe7"
      },
      "source": [
        "### Leveraging better architecture priors"
      ]
    },
    {
      "cell_type": "markdown",
      "metadata": {
        "id": "dK2eviqBbbe7"
      },
      "source": [
        "### Increasing model capacity"
      ]
    },
    {
      "cell_type": "markdown",
      "metadata": {
        "id": "KyN2-9Hubbe7"
      },
      "source": [
        "**A simple logistic regression on MNIST**"
      ]
    },
    {
      "cell_type": "code",
      "execution_count": 14,
      "metadata": {
        "colab": {
          "base_uri": "https://localhost:8080/"
        },
        "id": "y96exZuJbbe8",
        "outputId": "af3c35c7-3d67-4699-8aa9-2e80076f83e2"
      },
      "outputs": [
        {
          "output_type": "stream",
          "name": "stdout",
          "text": [
            "Epoch 1/20\n",
            "375/375 [==============================] - 2s 4ms/step - loss: 0.6688 - accuracy: 0.8368 - val_loss: 0.3573 - val_accuracy: 0.9026\n",
            "Epoch 2/20\n",
            "375/375 [==============================] - 1s 3ms/step - loss: 0.3516 - accuracy: 0.9027 - val_loss: 0.3070 - val_accuracy: 0.9153\n",
            "Epoch 3/20\n",
            "375/375 [==============================] - 1s 3ms/step - loss: 0.3157 - accuracy: 0.9124 - val_loss: 0.2922 - val_accuracy: 0.9190\n",
            "Epoch 4/20\n",
            "375/375 [==============================] - 1s 3ms/step - loss: 0.2992 - accuracy: 0.9158 - val_loss: 0.2807 - val_accuracy: 0.9225\n",
            "Epoch 5/20\n",
            "375/375 [==============================] - 1s 4ms/step - loss: 0.2896 - accuracy: 0.9192 - val_loss: 0.2753 - val_accuracy: 0.9247\n",
            "Epoch 6/20\n",
            "375/375 [==============================] - 1s 3ms/step - loss: 0.2829 - accuracy: 0.9207 - val_loss: 0.2728 - val_accuracy: 0.9248\n",
            "Epoch 7/20\n",
            "375/375 [==============================] - 1s 4ms/step - loss: 0.2779 - accuracy: 0.9224 - val_loss: 0.2712 - val_accuracy: 0.9267\n",
            "Epoch 8/20\n",
            "375/375 [==============================] - 1s 3ms/step - loss: 0.2746 - accuracy: 0.9231 - val_loss: 0.2665 - val_accuracy: 0.9279\n",
            "Epoch 9/20\n",
            "375/375 [==============================] - 1s 3ms/step - loss: 0.2713 - accuracy: 0.9250 - val_loss: 0.2650 - val_accuracy: 0.9282\n",
            "Epoch 10/20\n",
            "375/375 [==============================] - 1s 3ms/step - loss: 0.2685 - accuracy: 0.9257 - val_loss: 0.2656 - val_accuracy: 0.9268\n",
            "Epoch 11/20\n",
            "375/375 [==============================] - 1s 3ms/step - loss: 0.2664 - accuracy: 0.9262 - val_loss: 0.2636 - val_accuracy: 0.9287\n",
            "Epoch 12/20\n",
            "375/375 [==============================] - 1s 3ms/step - loss: 0.2647 - accuracy: 0.9268 - val_loss: 0.2627 - val_accuracy: 0.9295\n",
            "Epoch 13/20\n",
            "375/375 [==============================] - 1s 4ms/step - loss: 0.2629 - accuracy: 0.9275 - val_loss: 0.2605 - val_accuracy: 0.9298\n",
            "Epoch 14/20\n",
            "375/375 [==============================] - 1s 3ms/step - loss: 0.2616 - accuracy: 0.9285 - val_loss: 0.2628 - val_accuracy: 0.9293\n",
            "Epoch 15/20\n",
            "375/375 [==============================] - 1s 4ms/step - loss: 0.2601 - accuracy: 0.9283 - val_loss: 0.2601 - val_accuracy: 0.9309\n",
            "Epoch 16/20\n",
            "375/375 [==============================] - 1s 3ms/step - loss: 0.2590 - accuracy: 0.9288 - val_loss: 0.2607 - val_accuracy: 0.9307\n",
            "Epoch 17/20\n",
            "375/375 [==============================] - 1s 4ms/step - loss: 0.2580 - accuracy: 0.9290 - val_loss: 0.2618 - val_accuracy: 0.9310\n",
            "Epoch 18/20\n",
            "375/375 [==============================] - 1s 3ms/step - loss: 0.2574 - accuracy: 0.9294 - val_loss: 0.2613 - val_accuracy: 0.9306\n",
            "Epoch 19/20\n",
            "375/375 [==============================] - 1s 4ms/step - loss: 0.2561 - accuracy: 0.9305 - val_loss: 0.2605 - val_accuracy: 0.9316\n",
            "Epoch 20/20\n",
            "375/375 [==============================] - 1s 4ms/step - loss: 0.2555 - accuracy: 0.9301 - val_loss: 0.2597 - val_accuracy: 0.9316\n"
          ]
        }
      ],
      "source": [
        "model = keras.Sequential([layers.Dense(10, activation=\"softmax\")])\n",
        "model.compile(optimizer=\"rmsprop\",\n",
        "              loss=\"sparse_categorical_crossentropy\",\n",
        "              metrics=[\"accuracy\"])\n",
        "history_small_model = model.fit(\n",
        "    train_images, train_labels,\n",
        "    epochs=20,\n",
        "    batch_size=128,\n",
        "    validation_split=0.2)"
      ]
    },
    {
      "cell_type": "code",
      "execution_count": 15,
      "metadata": {
        "colab": {
          "base_uri": "https://localhost:8080/",
          "height": 313
        },
        "id": "t3WhCLuRbbe8",
        "outputId": "802ec0fd-063a-4c67-df0e-1830dd0fd623"
      },
      "outputs": [
        {
          "output_type": "execute_result",
          "data": {
            "text/plain": [
              "<matplotlib.legend.Legend at 0x7fe3f4c40fd0>"
            ]
          },
          "metadata": {},
          "execution_count": 15
        },
        {
          "output_type": "display_data",
          "data": {
            "text/plain": [
              "<Figure size 432x288 with 1 Axes>"
            ],
            "image/png": "[encoded data removed]"
          },
          "metadata": {
            "needs_background": "light"
          }
        }
      ],
      "source": [
        "import matplotlib.pyplot as plt\n",
        "val_loss = history_small_model.history[\"val_loss\"]\n",
        "epochs = range(1, 21)\n",
        "plt.plot(epochs, val_loss, \"b--\",\n",
        "         label=\"Validation loss\")\n",
        "plt.title(\"Effect of insufficient model capacity on validation loss\")\n",
        "plt.xlabel(\"Epochs\")\n",
        "plt.ylabel(\"Loss\")\n",
        "plt.legend()"
      ]
    },
    {
      "cell_type": "code",
      "execution_count": 16,
      "metadata": {
        "colab": {
          "base_uri": "https://localhost:8080/"
        },
        "id": "0pNN93hRbbe8",
        "outputId": "cd76475b-22c9-4417-fa57-db8246c67840"
      },
      "outputs": [
        {
          "output_type": "stream",
          "name": "stdout",
          "text": [
            "Epoch 1/20\n",
            "375/375 [==============================] - 2s 5ms/step - loss: 0.3620 - accuracy: 0.8973 - val_loss: 0.1933 - val_accuracy: 0.9429\n",
            "Epoch 2/20\n",
            "375/375 [==============================] - 2s 4ms/step - loss: 0.1600 - accuracy: 0.9521 - val_loss: 0.1382 - val_accuracy: 0.9574\n",
            "Epoch 3/20\n",
            "375/375 [==============================] - 2s 4ms/step - loss: 0.1130 - accuracy: 0.9661 - val_loss: 0.1083 - val_accuracy: 0.9675\n",
            "Epoch 4/20\n",
            "375/375 [==============================] - 2s 4ms/step - loss: 0.0867 - accuracy: 0.9733 - val_loss: 0.1009 - val_accuracy: 0.9688\n",
            "Epoch 5/20\n",
            "375/375 [==============================] - 1s 4ms/step - loss: 0.0693 - accuracy: 0.9791 - val_loss: 0.0975 - val_accuracy: 0.9718\n",
            "Epoch 6/20\n",
            "375/375 [==============================] - 2s 4ms/step - loss: 0.0568 - accuracy: 0.9824 - val_loss: 0.1022 - val_accuracy: 0.9690\n",
            "Epoch 7/20\n",
            "375/375 [==============================] - 1s 4ms/step - loss: 0.0471 - accuracy: 0.9853 - val_loss: 0.0853 - val_accuracy: 0.9751\n",
            "Epoch 8/20\n",
            "375/375 [==============================] - 2s 4ms/step - loss: 0.0393 - accuracy: 0.9881 - val_loss: 0.0912 - val_accuracy: 0.9747\n",
            "Epoch 9/20\n",
            "375/375 [==============================] - 2s 4ms/step - loss: 0.0332 - accuracy: 0.9901 - val_loss: 0.0920 - val_accuracy: 0.9747\n",
            "Epoch 10/20\n",
            "375/375 [==============================] - 2s 4ms/step - loss: 0.0281 - accuracy: 0.9916 - val_loss: 0.1043 - val_accuracy: 0.9732\n",
            "Epoch 11/20\n",
            "375/375 [==============================] - 2s 4ms/step - loss: 0.0237 - accuracy: 0.9924 - val_loss: 0.0966 - val_accuracy: 0.9762\n",
            "Epoch 12/20\n",
            "375/375 [==============================] - 2s 4ms/step - loss: 0.0201 - accuracy: 0.9937 - val_loss: 0.1016 - val_accuracy: 0.9752\n",
            "Epoch 13/20\n",
            "375/375 [==============================] - 2s 4ms/step - loss: 0.0170 - accuracy: 0.9946 - val_loss: 0.0969 - val_accuracy: 0.9786\n",
            "Epoch 14/20\n",
            "375/375 [==============================] - 2s 4ms/step - loss: 0.0143 - accuracy: 0.9957 - val_loss: 0.1007 - val_accuracy: 0.9760\n",
            "Epoch 15/20\n",
            "375/375 [==============================] - 2s 4ms/step - loss: 0.0129 - accuracy: 0.9960 - val_loss: 0.1122 - val_accuracy: 0.9765\n",
            "Epoch 16/20\n",
            "375/375 [==============================] - 2s 4ms/step - loss: 0.0106 - accuracy: 0.9966 - val_loss: 0.1265 - val_accuracy: 0.9731\n",
            "Epoch 17/20\n",
            "375/375 [==============================] - 1s 4ms/step - loss: 0.0090 - accuracy: 0.9969 - val_loss: 0.1344 - val_accuracy: 0.9726\n",
            "Epoch 18/20\n",
            "375/375 [==============================] - 2s 4ms/step - loss: 0.0075 - accuracy: 0.9977 - val_loss: 0.1147 - val_accuracy: 0.9784\n",
            "Epoch 19/20\n",
            "375/375 [==============================] - 2s 4ms/step - loss: 0.0059 - accuracy: 0.9983 - val_loss: 0.1240 - val_accuracy: 0.9762\n",
            "Epoch 20/20\n",
            "375/375 [==============================] - 2s 4ms/step - loss: 0.0062 - accuracy: 0.9980 - val_loss: 0.1302 - val_accuracy: 0.9760\n"
          ]
        }
      ],
      "source": [
        "model = keras.Sequential([\n",
        "    layers.Dense(96, activation=\"relu\"),\n",
        "    layers.Dense(96, activation=\"relu\"),\n",
        "    layers.Dense(10, activation=\"softmax\"),\n",
        "])\n",
        "model.compile(optimizer=\"rmsprop\",\n",
        "              loss=\"sparse_categorical_crossentropy\",\n",
        "              metrics=[\"accuracy\"])\n",
        "history_large_model = model.fit(\n",
        "    train_images, train_labels,\n",
        "    epochs=20,\n",
        "    batch_size=128,\n",
        "    validation_split=0.2)"
      ]
    },
    {
      "cell_type": "markdown",
      "metadata": {
        "id": "Ut9uOE3abbe8"
      },
      "source": [
        "## Improving generalization"
      ]
    },
    {
      "cell_type": "markdown",
      "metadata": {
        "id": "_LK2f7Jcbbe8"
      },
      "source": [
        "### Dataset curation"
      ]
    },
    {
      "cell_type": "markdown",
      "metadata": {
        "id": "5GmIsLHKbbe8"
      },
      "source": [
        "### Feature engineering"
      ]
    },
    {
      "cell_type": "markdown",
      "metadata": {
        "id": "gltm24yVbbe8"
      },
      "source": [
        "### Using early stopping"
      ]
    },
    {
      "cell_type": "markdown",
      "metadata": {
        "id": "eHbKs6Dcbbe8"
      },
      "source": [
        "### Regularizing your model"
      ]
    },
    {
      "cell_type": "markdown",
      "metadata": {
        "id": "jOHHrsn1bbe8"
      },
      "source": [
        "#### Reducing the network's size"
      ]
    },
    {
      "cell_type": "markdown",
      "metadata": {
        "id": "Vr2ZWZ5Tbbe9"
      },
      "source": [
        "**Original model**"
      ]
    },
    {
      "cell_type": "code",
      "execution_count": 17,
      "metadata": {
        "colab": {
          "base_uri": "https://localhost:8080/"
        },
        "id": "sFPwJtxpbbe9",
        "outputId": "5e2bcdd3-b7f8-49bc-8fab-6a17cd518fd1"
      },
      "outputs": [
        {
          "output_type": "stream",
          "name": "stdout",
          "text": [
            "Downloading data from https://storage.googleapis.com/tensorflow/tf-keras-datasets/imdb.npz\n",
            "17465344/17464789 [==============================] - 0s 0us/step\n",
            "17473536/17464789 [==============================] - 0s 0us/step\n",
            "Epoch 1/20\n",
            "30/30 [==============================] - 3s 40ms/step - loss: 0.5215 - accuracy: 0.7849 - val_loss: 0.3948 - val_accuracy: 0.8745\n",
            "Epoch 2/20\n",
            "30/30 [==============================] - 1s 22ms/step - loss: 0.3229 - accuracy: 0.9036 - val_loss: 0.3143 - val_accuracy: 0.8883\n",
            "Epoch 3/20\n",
            "30/30 [==============================] - 1s 21ms/step - loss: 0.2376 - accuracy: 0.9267 - val_loss: 0.2844 - val_accuracy: 0.8900\n",
            "Epoch 4/20\n",
            "30/30 [==============================] - 1s 25ms/step - loss: 0.1860 - accuracy: 0.9413 - val_loss: 0.2727 - val_accuracy: 0.8912\n",
            "Epoch 5/20\n",
            "30/30 [==============================] - 1s 22ms/step - loss: 0.1510 - accuracy: 0.9527 - val_loss: 0.2742 - val_accuracy: 0.8908\n",
            "Epoch 6/20\n",
            "30/30 [==============================] - 1s 22ms/step - loss: 0.1253 - accuracy: 0.9624 - val_loss: 0.3018 - val_accuracy: 0.8845\n",
            "Epoch 7/20\n",
            "30/30 [==============================] - 1s 22ms/step - loss: 0.1062 - accuracy: 0.9665 - val_loss: 0.3017 - val_accuracy: 0.8864\n",
            "Epoch 8/20\n",
            "30/30 [==============================] - 1s 22ms/step - loss: 0.0853 - accuracy: 0.9769 - val_loss: 0.3201 - val_accuracy: 0.8831\n",
            "Epoch 9/20\n",
            "30/30 [==============================] - 1s 24ms/step - loss: 0.0699 - accuracy: 0.9813 - val_loss: 0.3730 - val_accuracy: 0.8731\n",
            "Epoch 10/20\n",
            "30/30 [==============================] - 1s 22ms/step - loss: 0.0597 - accuracy: 0.9847 - val_loss: 0.3675 - val_accuracy: 0.8800\n",
            "Epoch 11/20\n",
            "30/30 [==============================] - 1s 22ms/step - loss: 0.0480 - accuracy: 0.9883 - val_loss: 0.4006 - val_accuracy: 0.8761\n",
            "Epoch 12/20\n",
            "30/30 [==============================] - 1s 21ms/step - loss: 0.0362 - accuracy: 0.9925 - val_loss: 0.4761 - val_accuracy: 0.8671\n",
            "Epoch 13/20\n",
            "30/30 [==============================] - 1s 22ms/step - loss: 0.0310 - accuracy: 0.9935 - val_loss: 0.4571 - val_accuracy: 0.8736\n",
            "Epoch 14/20\n",
            "30/30 [==============================] - 1s 25ms/step - loss: 0.0248 - accuracy: 0.9951 - val_loss: 0.5148 - val_accuracy: 0.8691\n",
            "Epoch 15/20\n",
            "30/30 [==============================] - 1s 22ms/step - loss: 0.0191 - accuracy: 0.9971 - val_loss: 0.5302 - val_accuracy: 0.8689\n",
            "Epoch 16/20\n",
            "30/30 [==============================] - 1s 22ms/step - loss: 0.0151 - accuracy: 0.9980 - val_loss: 0.5586 - val_accuracy: 0.8693\n",
            "Epoch 17/20\n",
            "30/30 [==============================] - 1s 22ms/step - loss: 0.0115 - accuracy: 0.9987 - val_loss: 0.6619 - val_accuracy: 0.8553\n",
            "Epoch 18/20\n",
            "30/30 [==============================] - 1s 21ms/step - loss: 0.0089 - accuracy: 0.9991 - val_loss: 0.6636 - val_accuracy: 0.8648\n",
            "Epoch 19/20\n",
            "30/30 [==============================] - 1s 22ms/step - loss: 0.0056 - accuracy: 0.9996 - val_loss: 0.6649 - val_accuracy: 0.8677\n",
            "Epoch 20/20\n",
            "30/30 [==============================] - 1s 22ms/step - loss: 0.0080 - accuracy: 0.9982 - val_loss: 0.6975 - val_accuracy: 0.8676\n"
          ]
        }
      ],
      "source": [
        "from tensorflow.keras.datasets import imdb\n",
        "(train_data, train_labels), _ = imdb.load_data(num_words=10000)\n",
        "\n",
        "def vectorize_sequences(sequences, dimension=10000):\n",
        "    results = np.zeros((len(sequences), dimension))\n",
        "    for i, sequence in enumerate(sequences):\n",
        "        results[i, sequence] = 1.\n",
        "    return results\n",
        "train_data = vectorize_sequences(train_data)\n",
        "\n",
        "model = keras.Sequential([\n",
        "    layers.Dense(16, activation=\"relu\"),\n",
        "    layers.Dense(16, activation=\"relu\"),\n",
        "    layers.Dense(1, activation=\"sigmoid\")\n",
        "])\n",
        "model.compile(optimizer=\"rmsprop\",\n",
        "              loss=\"binary_crossentropy\",\n",
        "              metrics=[\"accuracy\"])\n",
        "history_original = model.fit(train_data, train_labels,\n",
        "                             epochs=20, batch_size=512, validation_split=0.4)"
      ]
    },
    {
      "cell_type": "markdown",
      "metadata": {
        "id": "uyXP9J63bbe9"
      },
      "source": [
        "**Version of the model with lower capacity**"
      ]
    },
    {
      "cell_type": "code",
      "execution_count": 18,
      "metadata": {
        "colab": {
          "base_uri": "https://localhost:8080/"
        },
        "id": "KerRxDXQbbe9",
        "outputId": "10200397-cda2-424a-803a-0e9baa43ba10"
      },
      "outputs": [
        {
          "output_type": "stream",
          "name": "stdout",
          "text": [
            "Epoch 1/20\n",
            "30/30 [==============================] - 2s 40ms/step - loss: 0.6276 - accuracy: 0.7438 - val_loss: 0.5473 - val_accuracy: 0.8421\n",
            "Epoch 2/20\n",
            "30/30 [==============================] - 1s 22ms/step - loss: 0.4918 - accuracy: 0.8687 - val_loss: 0.4596 - val_accuracy: 0.8610\n",
            "Epoch 3/20\n",
            "30/30 [==============================] - 1s 24ms/step - loss: 0.4006 - accuracy: 0.8878 - val_loss: 0.3781 - val_accuracy: 0.8702\n",
            "Epoch 4/20\n",
            "30/30 [==============================] - 1s 21ms/step - loss: 0.3155 - accuracy: 0.9067 - val_loss: 0.3314 - val_accuracy: 0.8834\n",
            "Epoch 5/20\n",
            "30/30 [==============================] - 1s 21ms/step - loss: 0.2633 - accuracy: 0.9199 - val_loss: 0.3015 - val_accuracy: 0.8858\n",
            "Epoch 6/20\n",
            "30/30 [==============================] - 1s 21ms/step - loss: 0.2248 - accuracy: 0.9302 - val_loss: 0.2853 - val_accuracy: 0.8872\n",
            "Epoch 7/20\n",
            "30/30 [==============================] - 1s 22ms/step - loss: 0.1953 - accuracy: 0.9386 - val_loss: 0.2778 - val_accuracy: 0.8906\n",
            "Epoch 8/20\n",
            "30/30 [==============================] - 1s 25ms/step - loss: 0.1722 - accuracy: 0.9461 - val_loss: 0.2727 - val_accuracy: 0.8915\n",
            "Epoch 9/20\n",
            "30/30 [==============================] - 1s 24ms/step - loss: 0.1534 - accuracy: 0.9535 - val_loss: 0.2743 - val_accuracy: 0.8902\n",
            "Epoch 10/20\n",
            "30/30 [==============================] - 1s 21ms/step - loss: 0.1371 - accuracy: 0.9593 - val_loss: 0.2784 - val_accuracy: 0.8897\n",
            "Epoch 11/20\n",
            "30/30 [==============================] - 1s 21ms/step - loss: 0.1224 - accuracy: 0.9635 - val_loss: 0.2813 - val_accuracy: 0.8899\n",
            "Epoch 12/20\n",
            "30/30 [==============================] - 1s 21ms/step - loss: 0.1103 - accuracy: 0.9674 - val_loss: 0.2913 - val_accuracy: 0.8868\n",
            "Epoch 13/20\n",
            "30/30 [==============================] - 1s 22ms/step - loss: 0.0994 - accuracy: 0.9712 - val_loss: 0.2984 - val_accuracy: 0.8871\n",
            "Epoch 14/20\n",
            "30/30 [==============================] - 1s 25ms/step - loss: 0.0890 - accuracy: 0.9753 - val_loss: 0.3106 - val_accuracy: 0.8857\n",
            "Epoch 15/20\n",
            "30/30 [==============================] - 1s 21ms/step - loss: 0.0800 - accuracy: 0.9781 - val_loss: 0.3325 - val_accuracy: 0.8781\n",
            "Epoch 16/20\n",
            "30/30 [==============================] - 1s 22ms/step - loss: 0.0725 - accuracy: 0.9815 - val_loss: 0.3331 - val_accuracy: 0.8850\n",
            "Epoch 17/20\n",
            "30/30 [==============================] - 1s 22ms/step - loss: 0.0648 - accuracy: 0.9846 - val_loss: 0.3485 - val_accuracy: 0.8831\n",
            "Epoch 18/20\n",
            "30/30 [==============================] - 1s 21ms/step - loss: 0.0584 - accuracy: 0.9857 - val_loss: 0.3625 - val_accuracy: 0.8813\n",
            "Epoch 19/20\n",
            "30/30 [==============================] - 1s 25ms/step - loss: 0.0523 - accuracy: 0.9878 - val_loss: 0.3910 - val_accuracy: 0.8788\n",
            "Epoch 20/20\n",
            "30/30 [==============================] - 1s 21ms/step - loss: 0.0467 - accuracy: 0.9893 - val_loss: 0.4052 - val_accuracy: 0.8780\n"
          ]
        }
      ],
      "source": [
        "model = keras.Sequential([\n",
        "    layers.Dense(4, activation=\"relu\"),\n",
        "    layers.Dense(4, activation=\"relu\"),\n",
        "    layers.Dense(1, activation=\"sigmoid\")\n",
        "])\n",
        "model.compile(optimizer=\"rmsprop\",\n",
        "              loss=\"binary_crossentropy\",\n",
        "              metrics=[\"accuracy\"])\n",
        "history_smaller_model = model.fit(\n",
        "    train_data, train_labels,\n",
        "    epochs=20, batch_size=512, validation_split=0.4)"
      ]
    },
    {
      "cell_type": "markdown",
      "metadata": {
        "id": "zNQyccikbbe9"
      },
      "source": [
        "**Version of the model with higher capacity**"
      ]
    },
    {
      "cell_type": "code",
      "execution_count": 19,
      "metadata": {
        "colab": {
          "base_uri": "https://localhost:8080/"
        },
        "id": "YCJQHzJSbbe9",
        "outputId": "78e52c17-a365-492f-aa36-2c5ea6e3102a"
      },
      "outputs": [
        {
          "output_type": "stream",
          "name": "stdout",
          "text": [
            "Epoch 1/20\n",
            "30/30 [==============================] - 2s 47ms/step - loss: 0.5357 - accuracy: 0.7526 - val_loss: 0.3011 - val_accuracy: 0.8864\n",
            "Epoch 2/20\n",
            "30/30 [==============================] - 1s 33ms/step - loss: 0.2596 - accuracy: 0.8999 - val_loss: 0.3226 - val_accuracy: 0.8599\n",
            "Epoch 3/20\n",
            "30/30 [==============================] - 1s 31ms/step - loss: 0.1440 - accuracy: 0.9454 - val_loss: 0.3329 - val_accuracy: 0.8785\n",
            "Epoch 4/20\n",
            "30/30 [==============================] - 1s 30ms/step - loss: 0.0993 - accuracy: 0.9630 - val_loss: 0.2885 - val_accuracy: 0.8898\n",
            "Epoch 5/20\n",
            "30/30 [==============================] - 1s 30ms/step - loss: 0.0169 - accuracy: 0.9972 - val_loss: 0.4744 - val_accuracy: 0.8871\n",
            "Epoch 6/20\n",
            "30/30 [==============================] - 1s 30ms/step - loss: 0.1527 - accuracy: 0.9787 - val_loss: 0.4455 - val_accuracy: 0.8803\n",
            "Epoch 7/20\n",
            "30/30 [==============================] - 1s 30ms/step - loss: 0.0028 - accuracy: 0.9997 - val_loss: 0.5176 - val_accuracy: 0.8881\n",
            "Epoch 8/20\n",
            "30/30 [==============================] - 1s 30ms/step - loss: 5.9128e-04 - accuracy: 0.9999 - val_loss: 0.6292 - val_accuracy: 0.8872\n",
            "Epoch 9/20\n",
            "30/30 [==============================] - 1s 29ms/step - loss: 1.2209e-04 - accuracy: 1.0000 - val_loss: 0.7445 - val_accuracy: 0.8882\n",
            "Epoch 10/20\n",
            "30/30 [==============================] - 1s 29ms/step - loss: 2.5533e-05 - accuracy: 1.0000 - val_loss: 0.8434 - val_accuracy: 0.8872\n",
            "Epoch 11/20\n",
            "30/30 [==============================] - 1s 29ms/step - loss: 5.4406e-06 - accuracy: 1.0000 - val_loss: 0.9389 - val_accuracy: 0.8873\n",
            "Epoch 12/20\n",
            "30/30 [==============================] - 1s 29ms/step - loss: 1.4530e-06 - accuracy: 1.0000 - val_loss: 1.0597 - val_accuracy: 0.8843\n",
            "Epoch 13/20\n",
            "30/30 [==============================] - 1s 29ms/step - loss: 4.3660e-07 - accuracy: 1.0000 - val_loss: 1.1150 - val_accuracy: 0.8864\n",
            "Epoch 14/20\n",
            "30/30 [==============================] - 1s 30ms/step - loss: 1.4665e-07 - accuracy: 1.0000 - val_loss: 1.1855 - val_accuracy: 0.8866\n",
            "Epoch 15/20\n",
            "30/30 [==============================] - 1s 29ms/step - loss: 6.3715e-08 - accuracy: 1.0000 - val_loss: 1.2392 - val_accuracy: 0.8859\n",
            "Epoch 16/20\n",
            "30/30 [==============================] - 1s 29ms/step - loss: 3.3003e-08 - accuracy: 1.0000 - val_loss: 1.2779 - val_accuracy: 0.8862\n",
            "Epoch 17/20\n",
            "30/30 [==============================] - 1s 30ms/step - loss: 2.1162e-08 - accuracy: 1.0000 - val_loss: 1.3029 - val_accuracy: 0.8860\n",
            "Epoch 18/20\n",
            "30/30 [==============================] - 1s 30ms/step - loss: 1.5397e-08 - accuracy: 1.0000 - val_loss: 1.3216 - val_accuracy: 0.8862\n",
            "Epoch 19/20\n",
            "30/30 [==============================] - 1s 29ms/step - loss: 1.2122e-08 - accuracy: 1.0000 - val_loss: 1.3377 - val_accuracy: 0.8862\n",
            "Epoch 20/20\n",
            "30/30 [==============================] - 1s 28ms/step - loss: 9.9787e-09 - accuracy: 1.0000 - val_loss: 1.3509 - val_accuracy: 0.8862\n"
          ]
        }
      ],
      "source": [
        "model = keras.Sequential([\n",
        "    layers.Dense(512, activation=\"relu\"),\n",
        "    layers.Dense(512, activation=\"relu\"),\n",
        "    layers.Dense(1, activation=\"sigmoid\")\n",
        "])\n",
        "model.compile(optimizer=\"rmsprop\",\n",
        "              loss=\"binary_crossentropy\",\n",
        "              metrics=[\"accuracy\"])\n",
        "history_larger_model = model.fit(\n",
        "    train_data, train_labels,\n",
        "    epochs=20, batch_size=512, validation_split=0.4)"
      ]
    },
    {
      "cell_type": "markdown",
      "metadata": {
        "id": "4iEdhzN7bbe9"
      },
      "source": [
        "#### Adding weight regularization"
      ]
    },
    {
      "cell_type": "markdown",
      "metadata": {
        "id": "4bK9Feu8bbe9"
      },
      "source": [
        "**Adding L2 weight regularization to the model**"
      ]
    },
    {
      "cell_type": "code",
      "execution_count": 20,
      "metadata": {
        "colab": {
          "base_uri": "https://localhost:8080/"
        },
        "id": "asvnURRtbbe9",
        "outputId": "a224e154-3896-40b1-880a-670e5315a9c6"
      },
      "outputs": [
        {
          "output_type": "stream",
          "name": "stdout",
          "text": [
            "Epoch 1/20\n",
            "30/30 [==============================] - 2s 36ms/step - loss: 0.6003 - accuracy: 0.7821 - val_loss: 0.4678 - val_accuracy: 0.8731\n",
            "Epoch 2/20\n",
            "30/30 [==============================] - 1s 21ms/step - loss: 0.4033 - accuracy: 0.8963 - val_loss: 0.4098 - val_accuracy: 0.8712\n",
            "Epoch 3/20\n",
            "30/30 [==============================] - 1s 22ms/step - loss: 0.3409 - accuracy: 0.9118 - val_loss: 0.3793 - val_accuracy: 0.8813\n",
            "Epoch 4/20\n",
            "30/30 [==============================] - 1s 22ms/step - loss: 0.3094 - accuracy: 0.9230 - val_loss: 0.3653 - val_accuracy: 0.8880\n",
            "Epoch 5/20\n",
            "30/30 [==============================] - 1s 21ms/step - loss: 0.2894 - accuracy: 0.9321 - val_loss: 0.3607 - val_accuracy: 0.8882\n",
            "Epoch 6/20\n",
            "30/30 [==============================] - 1s 22ms/step - loss: 0.2743 - accuracy: 0.9327 - val_loss: 0.3999 - val_accuracy: 0.8694\n",
            "Epoch 7/20\n",
            "30/30 [==============================] - 1s 21ms/step - loss: 0.2650 - accuracy: 0.9382 - val_loss: 0.3696 - val_accuracy: 0.8834\n",
            "Epoch 8/20\n",
            "30/30 [==============================] - 1s 21ms/step - loss: 0.2594 - accuracy: 0.9386 - val_loss: 0.3767 - val_accuracy: 0.8810\n",
            "Epoch 9/20\n",
            "30/30 [==============================] - 1s 22ms/step - loss: 0.2544 - accuracy: 0.9401 - val_loss: 0.3760 - val_accuracy: 0.8818\n",
            "Epoch 10/20\n",
            "30/30 [==============================] - 1s 22ms/step - loss: 0.2427 - accuracy: 0.9470 - val_loss: 0.3801 - val_accuracy: 0.8818\n",
            "Epoch 11/20\n",
            "30/30 [==============================] - 1s 25ms/step - loss: 0.2422 - accuracy: 0.9447 - val_loss: 0.3783 - val_accuracy: 0.8813\n",
            "Epoch 12/20\n",
            "30/30 [==============================] - 1s 22ms/step - loss: 0.2377 - accuracy: 0.9461 - val_loss: 0.4345 - val_accuracy: 0.8629\n",
            "Epoch 13/20\n",
            "30/30 [==============================] - 1s 21ms/step - loss: 0.2306 - accuracy: 0.9518 - val_loss: 0.3856 - val_accuracy: 0.8786\n",
            "Epoch 14/20\n",
            "30/30 [==============================] - 1s 22ms/step - loss: 0.2273 - accuracy: 0.9512 - val_loss: 0.4114 - val_accuracy: 0.8729\n",
            "Epoch 15/20\n",
            "30/30 [==============================] - 1s 22ms/step - loss: 0.2280 - accuracy: 0.9517 - val_loss: 0.3949 - val_accuracy: 0.8776\n",
            "Epoch 16/20\n",
            "30/30 [==============================] - 1s 25ms/step - loss: 0.2202 - accuracy: 0.9543 - val_loss: 0.3969 - val_accuracy: 0.8778\n",
            "Epoch 17/20\n",
            "30/30 [==============================] - 1s 21ms/step - loss: 0.2253 - accuracy: 0.9507 - val_loss: 0.4040 - val_accuracy: 0.8766\n",
            "Epoch 18/20\n",
            "30/30 [==============================] - 1s 21ms/step - loss: 0.2140 - accuracy: 0.9571 - val_loss: 0.4051 - val_accuracy: 0.8758\n",
            "Epoch 19/20\n",
            "30/30 [==============================] - 1s 22ms/step - loss: 0.2228 - accuracy: 0.9508 - val_loss: 0.4051 - val_accuracy: 0.8771\n",
            "Epoch 20/20\n",
            "30/30 [==============================] - 1s 24ms/step - loss: 0.2056 - accuracy: 0.9605 - val_loss: 0.4248 - val_accuracy: 0.8727\n"
          ]
        }
      ],
      "source": [
        "from tensorflow.keras import regularizers\n",
        "model = keras.Sequential([\n",
        "    layers.Dense(16,\n",
        "                 kernel_regularizer=regularizers.l2(0.002),\n",
        "                 activation=\"relu\"),\n",
        "    layers.Dense(16,\n",
        "                 kernel_regularizer=regularizers.l2(0.002),\n",
        "                 activation=\"relu\"),\n",
        "    layers.Dense(1, activation=\"sigmoid\")\n",
        "])\n",
        "model.compile(optimizer=\"rmsprop\",\n",
        "              loss=\"binary_crossentropy\",\n",
        "              metrics=[\"accuracy\"])\n",
        "history_l2_reg = model.fit(\n",
        "    train_data, train_labels,\n",
        "    epochs=20, batch_size=512, validation_split=0.4)"
      ]
    },
    {
      "cell_type": "markdown",
      "metadata": {
        "id": "0CtrRurVbbe-"
      },
      "source": [
        "**Different weight regularizers available in Keras**"
      ]
    },
    {
      "cell_type": "code",
      "execution_count": 21,
      "metadata": {
        "colab": {
          "base_uri": "https://localhost:8080/"
        },
        "id": "2-lzN8GDbbe-",
        "outputId": "d28e81f1-191a-4dd5-ebec-f81e5178ef43"
      },
      "outputs": [
        {
          "output_type": "execute_result",
          "data": {
            "text/plain": [
              "<keras.regularizers.L1L2 at 0x7fe3e63ba910>"
            ]
          },
          "metadata": {},
          "execution_count": 21
        }
      ],
      "source": [
        "from tensorflow.keras import regularizers\n",
        "regularizers.l1(0.001)\n",
        "regularizers.l1_l2(l1=0.001, l2=0.001)"
      ]
    },
    {
      "cell_type": "markdown",
      "metadata": {
        "id": "9oVGuZ4ibbe-"
      },
      "source": [
        "#### Adding dropout"
      ]
    },
    {
      "cell_type": "markdown",
      "metadata": {
        "id": "Qdopvgfcbbe-"
      },
      "source": [
        "**Adding dropout to the IMDB model**"
      ]
    },
    {
      "cell_type": "code",
      "execution_count": 22,
      "metadata": {
        "colab": {
          "base_uri": "https://localhost:8080/"
        },
        "id": "nVxzTzI_bbe-",
        "outputId": "3864c45d-cce2-4c43-ff1d-8ee73fd96150"
      },
      "outputs": [
        {
          "output_type": "stream",
          "name": "stdout",
          "text": [
            "Epoch 1/20\n",
            "30/30 [==============================] - 2s 40ms/step - loss: 0.6228 - accuracy: 0.6442 - val_loss: 0.4730 - val_accuracy: 0.8451\n",
            "Epoch 2/20\n",
            "30/30 [==============================] - 1s 21ms/step - loss: 0.4971 - accuracy: 0.7673 - val_loss: 0.3939 - val_accuracy: 0.8684\n",
            "Epoch 3/20\n",
            "30/30 [==============================] - 1s 24ms/step - loss: 0.4157 - accuracy: 0.8297 - val_loss: 0.3202 - val_accuracy: 0.8846\n",
            "Epoch 4/20\n",
            "30/30 [==============================] - 1s 21ms/step - loss: 0.3547 - accuracy: 0.8619 - val_loss: 0.2884 - val_accuracy: 0.8871\n",
            "Epoch 5/20\n",
            "30/30 [==============================] - 1s 24ms/step - loss: 0.3043 - accuracy: 0.8877 - val_loss: 0.2761 - val_accuracy: 0.8918\n",
            "Epoch 6/20\n",
            "30/30 [==============================] - 1s 22ms/step - loss: 0.2659 - accuracy: 0.9028 - val_loss: 0.2854 - val_accuracy: 0.8859\n",
            "Epoch 7/20\n",
            "30/30 [==============================] - 1s 22ms/step - loss: 0.2338 - accuracy: 0.9181 - val_loss: 0.2810 - val_accuracy: 0.8905\n",
            "Epoch 8/20\n",
            "30/30 [==============================] - 1s 21ms/step - loss: 0.2080 - accuracy: 0.9278 - val_loss: 0.2886 - val_accuracy: 0.8903\n",
            "Epoch 9/20\n",
            "30/30 [==============================] - 1s 21ms/step - loss: 0.1892 - accuracy: 0.9387 - val_loss: 0.2995 - val_accuracy: 0.8885\n",
            "Epoch 10/20\n",
            "30/30 [==============================] - 1s 21ms/step - loss: 0.1694 - accuracy: 0.9449 - val_loss: 0.3269 - val_accuracy: 0.8892\n",
            "Epoch 11/20\n",
            "30/30 [==============================] - 1s 24ms/step - loss: 0.1517 - accuracy: 0.9522 - val_loss: 0.3599 - val_accuracy: 0.8893\n",
            "Epoch 12/20\n",
            "30/30 [==============================] - 1s 21ms/step - loss: 0.1327 - accuracy: 0.9563 - val_loss: 0.3613 - val_accuracy: 0.8868\n",
            "Epoch 13/20\n",
            "30/30 [==============================] - 1s 21ms/step - loss: 0.1193 - accuracy: 0.9611 - val_loss: 0.4092 - val_accuracy: 0.8886\n",
            "Epoch 14/20\n",
            "30/30 [==============================] - 1s 21ms/step - loss: 0.1065 - accuracy: 0.9660 - val_loss: 0.4166 - val_accuracy: 0.8860\n",
            "Epoch 15/20\n",
            "30/30 [==============================] - 1s 21ms/step - loss: 0.1013 - accuracy: 0.9661 - val_loss: 0.4230 - val_accuracy: 0.8857\n",
            "Epoch 16/20\n",
            "30/30 [==============================] - 1s 22ms/step - loss: 0.0977 - accuracy: 0.9681 - val_loss: 0.4699 - val_accuracy: 0.8830\n",
            "Epoch 17/20\n",
            "30/30 [==============================] - 1s 21ms/step - loss: 0.0916 - accuracy: 0.9701 - val_loss: 0.4864 - val_accuracy: 0.8862\n",
            "Epoch 18/20\n",
            "30/30 [==============================] - 1s 21ms/step - loss: 0.0816 - accuracy: 0.9740 - val_loss: 0.5716 - val_accuracy: 0.8776\n",
            "Epoch 19/20\n",
            "30/30 [==============================] - 1s 25ms/step - loss: 0.0753 - accuracy: 0.9745 - val_loss: 0.5344 - val_accuracy: 0.8847\n",
            "Epoch 20/20\n",
            "30/30 [==============================] - 1s 21ms/step - loss: 0.0708 - accuracy: 0.9759 - val_loss: 0.5946 - val_accuracy: 0.8846\n"
          ]
        }
      ],
      "source": [
        "model = keras.Sequential([\n",
        "    layers.Dense(16, activation=\"relu\"),\n",
        "    layers.Dropout(0.5),\n",
        "    layers.Dense(16, activation=\"relu\"),\n",
        "    layers.Dropout(0.5),\n",
        "    layers.Dense(1, activation=\"sigmoid\")\n",
        "])\n",
        "model.compile(optimizer=\"rmsprop\",\n",
        "              loss=\"binary_crossentropy\",\n",
        "              metrics=[\"accuracy\"])\n",
        "history_dropout = model.fit(\n",
        "    train_data, train_labels,\n",
        "    epochs=20, batch_size=512, validation_split=0.4)"
      ]
    },
    {
      "cell_type": "markdown",
      "metadata": {
        "id": "qdyqcIBkbbe-"
      },
      "source": [
        "## Summary"
      ]
    }
  ],
  "metadata": {
    "colab": {
      "collapsed_sections": [],
      "name": "chapter05_fundamentals-of-ml.i",
      "provenance": [],
      "toc_visible": true
    },
    "kernelspec": {
      "display_name": "Python 3",
      "language": "python",
      "name": "python3"
    },
    "language_info": {
      "codemirror_mode": {
        "name": "ipython",
        "version": 3
      },
      "file_extension": ".py",
      "mimetype": "text/x-python",
      "name": "python",
      "nbconvert_exporter": "python",
      "pygments_lexer": "ipython3",
      "version": "3.7.0"
    },
    "accelerator": "GPU"
  },
  "nbformat": 4,
  "nbformat_minor": 0
}