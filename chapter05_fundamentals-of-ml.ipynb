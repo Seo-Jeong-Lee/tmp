{
  "cells": [
    {
      "cell_type": "markdown",
      "metadata": {
        "id": "uFOn2rCqbbew"
      },
      "source": [
        "This is a companion notebook for the book [Deep Learning with Python, Second Edition](https://www.manning.com/books/deep-learning-with-python-second-edition?a_aid=keras&a_bid=76564dff). For readability, it only contains runnable code blocks and section titles, and omits everything else in the book: text paragraphs, figures, and pseudocode.\n",
        "\n",
        "**If you want to be able to follow what's going on, I recommend reading the notebook side by side with your copy of the book.**\n",
        "\n",
        "This notebook was generated for TensorFlow 2.6."
      ]
    },
    {
      "cell_type": "markdown",
      "metadata": {
        "id": "8i8t5ufMbbez"
      },
      "source": [
        "# Fundamentals of machine learning"
      ]
    },
    {
      "cell_type": "markdown",
      "metadata": {
        "id": "XSIVcqj2bbe0"
      },
      "source": [
        "## Generalization: The goal of machine learning"
      ]
    },
    {
      "cell_type": "markdown",
      "metadata": {
        "id": "sOJwjBu1bbe0"
      },
      "source": [
        "### Underfitting and overfitting"
      ]
    },
    {
      "cell_type": "markdown",
      "metadata": {
        "id": "qU9kfN6Ubbe0"
      },
      "source": [
        "#### Noisy training data"
      ]
    },
    {
      "cell_type": "markdown",
      "metadata": {
        "id": "mbK8SlW-bbe0"
      },
      "source": [
        "#### Ambiguous features"
      ]
    },
    {
      "cell_type": "markdown",
      "metadata": {
        "id": "Cq4q61Rhbbe1"
      },
      "source": [
        "#### Rare features and spurious correlations"
      ]
    },
    {
      "cell_type": "markdown",
      "metadata": {
        "id": "cT7ISnSebbe1"
      },
      "source": [
        "**Adding white-noise channels or all-zeros channels to MNIST**  \n",
        "**White-noise channel & all-zeros channel을 mnist 데이터에 추가하기**"
      ]
    },
    {
      "cell_type": "code",
      "execution_count": null,
      "metadata": {
        "id": "7MZ6tqxTbbe2"
      },
      "outputs": [],
      "source": [
        "from tensorflow.keras.datasets import mnist\n",
        "import numpy as np\n",
        "\n",
        "(train_images, train_labels), _ = mnist.load_data()\n",
        "train_images = train_images.reshape((60000, 28 * 28))\n",
        "train_images = train_images.astype(\"float32\") / 255\n",
        "\n",
        "train_images_with_noise_channels = np.concatenate(\n",
        "    [train_images, np.random.random((len(train_images), 784))], axis=1)    #np.random.random((len(train_images), 784)) 를 이용하여 noise 채널 생성\n",
        "\n",
        "train_images_with_zeros_channels = np.concatenate(                         #np.zero((len(train_images), 784)) 를 이용하여 zero 채널 생성\n",
        "    [train_images, np.zeros((len(train_images), 784))], axis=1)"
      ]
    },
    {
      "cell_type": "code",
      "source": [
        "from tensorflow.keras.datasets import mnist\n",
        "import numpy as np\n",
        "\n",
        "(train_images, train_labels), _ = mnist.load_data()"
      ],
      "metadata": {
        "id": "W9GR_8bgc6V2"
      },
      "execution_count": null,
      "outputs": []
    },
    {
      "cell_type": "code",
      "source": [
        "train_images.shape"
      ],
      "metadata": {
        "colab": {
          "base_uri": "https://localhost:8080/"
        },
        "id": "dh48-t23btd1",
        "outputId": "77cf76af-a5db-41f7-938e-389ed9ba249d"
      },
      "execution_count": null,
      "outputs": [
        {
          "output_type": "execute_result",
          "data": {
            "text/plain": [
              "(60000, 28, 28)"
            ]
          },
          "metadata": {},
          "execution_count": 5
        }
      ]
    },
    {
      "cell_type": "code",
      "source": [
        "(len(train_images), 784)"
      ],
      "metadata": {
        "colab": {
          "base_uri": "https://localhost:8080/"
        },
        "id": "nKHM632KcB_n",
        "outputId": "fbf51b32-e367-424c-a01e-bede38ef68f9"
      },
      "execution_count": null,
      "outputs": [
        {
          "output_type": "execute_result",
          "data": {
            "text/plain": [
              "(60000, 784)"
            ]
          },
          "metadata": {},
          "execution_count": 6
        }
      ]
    },
    {
      "cell_type": "code",
      "source": [
        "train_images_with_noise_channels.shape"
      ],
      "metadata": {
        "colab": {
          "base_uri": "https://localhost:8080/"
        },
        "id": "PI9PYgUqcIG4",
        "outputId": "0c683554-c958-40cc-dcfa-1f313fe468e2"
      },
      "execution_count": null,
      "outputs": [
        {
          "output_type": "execute_result",
          "data": {
            "text/plain": [
              "(60000, 1568)"
            ]
          },
          "metadata": {},
          "execution_count": 7
        }
      ]
    },
    {
      "cell_type": "code",
      "source": [
        "train_images_with_zeros_channels.shape"
      ],
      "metadata": {
        "colab": {
          "base_uri": "https://localhost:8080/"
        },
        "id": "CRNZr1aqcLAI",
        "outputId": "b3df78a0-5170-4dbb-e7f8-feaf840caab1"
      },
      "execution_count": null,
      "outputs": [
        {
          "output_type": "execute_result",
          "data": {
            "text/plain": [
              "(60000, 1568)"
            ]
          },
          "metadata": {},
          "execution_count": 10
        }
      ]
    },
    {
      "cell_type": "markdown",
      "metadata": {
        "id": "nFfh56JAbbe3"
      },
      "source": [
        "**Training the same model on MNIST data with noise channels or all-zero channels**"
      ]
    },
    {
      "cell_type": "code",
      "execution_count": null,
      "metadata": {
        "id": "6U9HR4Vxbbe3"
      },
      "outputs": [],
      "source": [
        "from tensorflow import keras\n",
        "from tensorflow.keras import layers\n",
        "\n",
        "#model 정의\n",
        "def get_model():\n",
        "    model = keras.Sequential([\n",
        "        layers.Dense(512, activation=\"relu\"),\n",
        "        layers.Dense(10, activation=\"softmax\")\n",
        "    ])\n",
        "    model.compile(optimizer=\"rmsprop\",\n",
        "                  loss=\"sparse_categorical_crossentropy\",\n",
        "                  metrics=[\"accuracy\"])\n",
        "    return model\n",
        "\n",
        "#model training\n",
        "model = get_model()\n",
        "history_noise = model.fit(\n",
        "    train_images_with_noise_channels, train_labels,\n",
        "    epochs=10,\n",
        "    batch_size=128,\n",
        "    validation_split=0.2)\n",
        "\n",
        "model = get_model()\n",
        "history_zeros = model.fit(\n",
        "    train_images_with_zeros_channels, train_labels,\n",
        "    epochs=10,\n",
        "    batch_size=128,\n",
        "    validation_split=0.2)"
      ]
    },
    {
      "cell_type": "markdown",
      "source": [
        "**validation_split :  원래 주어진 데이터셋을 얼마의 비율로 나워서 트레이닝 데이터셋과 테스트 데이터셋으로 사용할 지 결정할 수 있다.  \n",
        "예를 들어, 원래 데이터셋이 1000개 이고, fit 함수의 validation_split = 0.2 로 하면, training dataset 은 800개로 하여 training 시키고, 나머지 200개는 test dataset 으로 사용하여 모델을 평가하게 된다.**"
      ],
      "metadata": {
        "id": "rkJAXQBNhePG"
      }
    },
    {
      "cell_type": "code",
      "source": [
        "#noise와 zero가 각각 accuracy에 미치는 영향을 알아보기 위해 original data를 만드는 과정\n",
        "model = get_model()\n",
        "history1 = model.fit(\n",
        "    train_images_with_zeros_channels, train_labels,\n",
        "    epochs=10,\n",
        "    batch_size=128,\n",
        "    validation_split=0.2)"
      ],
      "metadata": {
        "colab": {
          "base_uri": "https://localhost:8080/"
        },
        "id": "t9gyNkCFdQFO",
        "outputId": "f0901ae8-a6cf-427f-9b4a-3b354e189bef"
      },
      "execution_count": null,
      "outputs": [
        {
          "output_type": "stream",
          "name": "stdout",
          "text": [
            "Epoch 1/10\n",
            "375/375 [==============================] - 3s 6ms/step - loss: 0.2918 - accuracy: 0.9166 - val_loss: 0.1628 - val_accuracy: 0.9506\n",
            "Epoch 2/10\n",
            "375/375 [==============================] - 2s 5ms/step - loss: 0.1185 - accuracy: 0.9652 - val_loss: 0.1040 - val_accuracy: 0.9670\n",
            "Epoch 3/10\n",
            "375/375 [==============================] - 2s 5ms/step - loss: 0.0766 - accuracy: 0.9772 - val_loss: 0.0938 - val_accuracy: 0.9714\n",
            "Epoch 4/10\n",
            "375/375 [==============================] - 2s 6ms/step - loss: 0.0549 - accuracy: 0.9841 - val_loss: 0.0912 - val_accuracy: 0.9735\n",
            "Epoch 5/10\n",
            "375/375 [==============================] - 2s 7ms/step - loss: 0.0416 - accuracy: 0.9876 - val_loss: 0.0803 - val_accuracy: 0.9782\n",
            "Epoch 6/10\n",
            "375/375 [==============================] - 2s 6ms/step - loss: 0.0309 - accuracy: 0.9909 - val_loss: 0.0773 - val_accuracy: 0.9795\n",
            "Epoch 7/10\n",
            "375/375 [==============================] - 2s 6ms/step - loss: 0.0237 - accuracy: 0.9934 - val_loss: 0.0747 - val_accuracy: 0.9793\n",
            "Epoch 8/10\n",
            "375/375 [==============================] - 3s 7ms/step - loss: 0.0181 - accuracy: 0.9947 - val_loss: 0.0842 - val_accuracy: 0.9776\n",
            "Epoch 9/10\n",
            "375/375 [==============================] - 2s 6ms/step - loss: 0.0134 - accuracy: 0.9961 - val_loss: 0.0838 - val_accuracy: 0.9802\n",
            "Epoch 10/10\n",
            "375/375 [==============================] - 2s 5ms/step - loss: 0.0100 - accuracy: 0.9970 - val_loss: 0.0933 - val_accuracy: 0.9788\n"
          ]
        }
      ]
    },
    {
      "cell_type": "markdown",
      "metadata": {
        "id": "G1UROm5Zbbe4"
      },
      "source": [
        "**Plotting a validation accuracy comparison**"
      ]
    },
    {
      "cell_type": "code",
      "execution_count": null,
      "metadata": {
        "colab": {
          "base_uri": "https://localhost:8080/",
          "height": 313
        },
        "id": "kaanOl5Vbbe4",
        "outputId": "4393f506-9f2a-4f4e-e5b8-9f7595869806"
      },
      "outputs": [
        {
          "output_type": "execute_result",
          "data": {
            "text/plain": [
              "<matplotlib.legend.Legend at 0x7f34b2cb8290>"
            ]
          },
          "metadata": {},
          "execution_count": 13
        },
        {
          "output_type": "display_data",
          "data": {
            "text/plain": [
              "<Figure size 432x288 with 1 Axes>"
            ],
            "image/png": "[encoded data removed]"
          },
          "metadata": {
            "needs_background": "light"
          }
        }
      ],
      "source": [
        "#zero를 add하는 것은 accuracy에 큰 차이가 없어 보이지만, noise는 accuracy에 심각한 bad effect를 가져온다 -> noise는 피하자\n",
        "import matplotlib.pyplot as plt\n",
        "val_acc_noise = history_noise.history[\"val_accuracy\"]\n",
        "val_acc_zeros = history_zeros.history[\"val_accuracy\"]\n",
        "epochs = range(1, 11)\n",
        "plt.plot(epochs, val_acc_noise, \"b-\",\n",
        "         label=\"Validation accuracy with noise channels\")\n",
        "plt.plot(epochs, val_acc_zeros, \"b--\",\n",
        "         label=\"Validation accuracy with zeros channels\")\n",
        "plt.title(\"Effect of noise channels on validation accuracy\")\n",
        "plt.xlabel(\"Epochs\")\n",
        "plt.ylabel(\"Accuracy\")\n",
        "plt.legend()"
      ]
    },
    {
      "cell_type": "code",
      "source": [
        "#zero channels는 original data의 accuracy와 큰 차이가 없어보임\n",
        "import matplotlib.pyplot as plt\n",
        "val_acc = history1.history[\"val_accuracy\"]\n",
        "val_acc_zeros = history_zeros.history[\"val_accuracy\"]\n",
        "epochs = range(1, 11)\n",
        "plt.plot(epochs, val_acc, \"b-\",\n",
        "         label=\"Validation accuracy with original data\")\n",
        "plt.plot(epochs, val_acc_zeros, \"b--\",\n",
        "         label=\"Validation accuracy with zeros channels\")\n",
        "plt.title(\"Effect of original channels on validation accuracy\")\n",
        "plt.xlabel(\"Epochs\")\n",
        "plt.ylabel(\"Accuracy\")\n",
        "plt.legend()"
      ],
      "metadata": {
        "colab": {
          "base_uri": "https://localhost:8080/",
          "height": 313
        },
        "id": "4ke00vIxc2N4",
        "outputId": "3175bb47-3a80-4b6c-a024-3c6236ba15dc"
      },
      "execution_count": null,
      "outputs": [
        {
          "output_type": "execute_result",
          "data": {
            "text/plain": [
              "<matplotlib.legend.Legend at 0x7f34ae7fa1d0>"
            ]
          },
          "metadata": {},
          "execution_count": 17
        },
        {
          "output_type": "display_data",
          "data": {
            "text/plain": [
              "<Figure size 432x288 with 1 Axes>"
            ],
            "image/png": "[encoded data removed]"
          },
          "metadata": {
            "needs_background": "light"
          }
        }
      ]
    },
    {
      "cell_type": "markdown",
      "metadata": {
        "id": "-XHvMPtHbbe4"
      },
      "source": [
        "### The nature of generalization in deep learning"
      ]
    },
    {
      "cell_type": "markdown",
      "metadata": {
        "id": "F7h8FbBWbbe5"
      },
      "source": [
        "**Fitting a MNIST model with randomly shuffled labels**"
      ]
    },
    {
      "cell_type": "code",
      "execution_count": null,
      "metadata": {
        "colab": {
          "base_uri": "https://localhost:8080/"
        },
        "id": "o9TdJrZsbbe5",
        "outputId": "b8a92f1a-1d42-4c3b-ceeb-95a22f755d62"
      },
      "outputs": [
        {
          "output_type": "stream",
          "name": "stdout",
          "text": [
            "Epoch 1/100\n",
            "375/375 [==============================] - 2s 5ms/step - loss: 2.3179 - accuracy: 0.1016 - val_loss: 2.3075 - val_accuracy: 0.1077\n",
            "Epoch 2/100\n",
            "375/375 [==============================] - 2s 4ms/step - loss: 2.2989 - accuracy: 0.1158 - val_loss: 2.3173 - val_accuracy: 0.1006\n",
            "Epoch 3/100\n",
            "375/375 [==============================] - 2s 4ms/step - loss: 2.2892 - accuracy: 0.1286 - val_loss: 2.3175 - val_accuracy: 0.1047\n",
            "Epoch 4/100\n",
            "375/375 [==============================] - 2s 4ms/step - loss: 2.2754 - accuracy: 0.1394 - val_loss: 2.3310 - val_accuracy: 0.0961\n",
            "Epoch 5/100\n",
            "375/375 [==============================] - 2s 5ms/step - loss: 2.2579 - accuracy: 0.1554 - val_loss: 2.3398 - val_accuracy: 0.1008\n",
            "Epoch 6/100\n",
            "375/375 [==============================] - 2s 5ms/step - loss: 2.2362 - accuracy: 0.1688 - val_loss: 2.3564 - val_accuracy: 0.1006\n",
            "Epoch 7/100\n",
            "375/375 [==============================] - 2s 4ms/step - loss: 2.2115 - accuracy: 0.1852 - val_loss: 2.3716 - val_accuracy: 0.0973\n",
            "Epoch 8/100\n",
            "375/375 [==============================] - 2s 4ms/step - loss: 2.1840 - accuracy: 0.2018 - val_loss: 2.3894 - val_accuracy: 0.0978\n",
            "Epoch 9/100\n",
            "375/375 [==============================] - 2s 4ms/step - loss: 2.1543 - accuracy: 0.2151 - val_loss: 2.4085 - val_accuracy: 0.1001\n",
            "Epoch 10/100\n",
            "375/375 [==============================] - 2s 5ms/step - loss: 2.1223 - accuracy: 0.2323 - val_loss: 2.4276 - val_accuracy: 0.1002\n",
            "Epoch 11/100\n",
            "375/375 [==============================] - 2s 5ms/step - loss: 2.0886 - accuracy: 0.2506 - val_loss: 2.4517 - val_accuracy: 0.1019\n",
            "Epoch 12/100\n",
            "375/375 [==============================] - 2s 4ms/step - loss: 2.0560 - accuracy: 0.2638 - val_loss: 2.4732 - val_accuracy: 0.0969\n",
            "Epoch 13/100\n",
            "375/375 [==============================] - 2s 4ms/step - loss: 2.0228 - accuracy: 0.2801 - val_loss: 2.4993 - val_accuracy: 0.1004\n",
            "Epoch 14/100\n",
            "375/375 [==============================] - 2s 4ms/step - loss: 1.9877 - accuracy: 0.2936 - val_loss: 2.5322 - val_accuracy: 0.1002\n",
            "Epoch 15/100\n",
            "375/375 [==============================] - 2s 4ms/step - loss: 1.9541 - accuracy: 0.3096 - val_loss: 2.5763 - val_accuracy: 0.0991\n",
            "Epoch 16/100\n",
            "375/375 [==============================] - 2s 4ms/step - loss: 1.9177 - accuracy: 0.3248 - val_loss: 2.6036 - val_accuracy: 0.1002\n",
            "Epoch 17/100\n",
            "375/375 [==============================] - 2s 5ms/step - loss: 1.8855 - accuracy: 0.3385 - val_loss: 2.6302 - val_accuracy: 0.0973\n",
            "Epoch 18/100\n",
            "375/375 [==============================] - 2s 5ms/step - loss: 1.8499 - accuracy: 0.3517 - val_loss: 2.6593 - val_accuracy: 0.0974\n",
            "Epoch 19/100\n",
            "375/375 [==============================] - 2s 4ms/step - loss: 1.8160 - accuracy: 0.3638 - val_loss: 2.6900 - val_accuracy: 0.1003\n",
            "Epoch 20/100\n",
            "375/375 [==============================] - 2s 4ms/step - loss: 1.7866 - accuracy: 0.3760 - val_loss: 2.7333 - val_accuracy: 0.0994\n",
            "Epoch 21/100\n",
            "375/375 [==============================] - 2s 4ms/step - loss: 1.7527 - accuracy: 0.3899 - val_loss: 2.7773 - val_accuracy: 0.0996\n",
            "Epoch 22/100\n",
            "375/375 [==============================] - 2s 5ms/step - loss: 1.7210 - accuracy: 0.4011 - val_loss: 2.8297 - val_accuracy: 0.0976\n",
            "Epoch 23/100\n",
            "375/375 [==============================] - 2s 4ms/step - loss: 1.6900 - accuracy: 0.4119 - val_loss: 2.8330 - val_accuracy: 0.0982\n",
            "Epoch 24/100\n",
            "375/375 [==============================] - 2s 4ms/step - loss: 1.6602 - accuracy: 0.4259 - val_loss: 2.8872 - val_accuracy: 0.0985\n",
            "Epoch 25/100\n",
            "375/375 [==============================] - 2s 4ms/step - loss: 1.6308 - accuracy: 0.4373 - val_loss: 2.9344 - val_accuracy: 0.0970\n",
            "Epoch 26/100\n",
            "375/375 [==============================] - 2s 5ms/step - loss: 1.6014 - accuracy: 0.4493 - val_loss: 2.9543 - val_accuracy: 0.0978\n",
            "Epoch 27/100\n",
            "375/375 [==============================] - 2s 5ms/step - loss: 1.5719 - accuracy: 0.4582 - val_loss: 3.0257 - val_accuracy: 0.0987\n",
            "Epoch 28/100\n",
            "375/375 [==============================] - 2s 4ms/step - loss: 1.5455 - accuracy: 0.4704 - val_loss: 3.0626 - val_accuracy: 0.1013\n",
            "Epoch 29/100\n",
            "375/375 [==============================] - 2s 5ms/step - loss: 1.5202 - accuracy: 0.4798 - val_loss: 3.1026 - val_accuracy: 0.1027\n",
            "Epoch 30/100\n",
            "375/375 [==============================] - 2s 4ms/step - loss: 1.4907 - accuracy: 0.4900 - val_loss: 3.1349 - val_accuracy: 0.0981\n",
            "Epoch 31/100\n",
            "375/375 [==============================] - 2s 4ms/step - loss: 1.4649 - accuracy: 0.4985 - val_loss: 3.1939 - val_accuracy: 0.0985\n",
            "Epoch 32/100\n",
            "375/375 [==============================] - 2s 5ms/step - loss: 1.4384 - accuracy: 0.5069 - val_loss: 3.2595 - val_accuracy: 0.0967\n",
            "Epoch 33/100\n",
            "375/375 [==============================] - 2s 5ms/step - loss: 1.4166 - accuracy: 0.5192 - val_loss: 3.2861 - val_accuracy: 0.0961\n",
            "Epoch 34/100\n",
            "375/375 [==============================] - 2s 5ms/step - loss: 1.3917 - accuracy: 0.5246 - val_loss: 3.3496 - val_accuracy: 0.0981\n",
            "Epoch 35/100\n",
            "375/375 [==============================] - 2s 4ms/step - loss: 1.3670 - accuracy: 0.5342 - val_loss: 3.3912 - val_accuracy: 0.0980\n",
            "Epoch 36/100\n",
            "375/375 [==============================] - 2s 4ms/step - loss: 1.3449 - accuracy: 0.5429 - val_loss: 3.4330 - val_accuracy: 0.1025\n",
            "Epoch 37/100\n",
            "375/375 [==============================] - 2s 4ms/step - loss: 1.3230 - accuracy: 0.5502 - val_loss: 3.4891 - val_accuracy: 0.0966\n",
            "Epoch 38/100\n",
            "375/375 [==============================] - 2s 4ms/step - loss: 1.2995 - accuracy: 0.5568 - val_loss: 3.5468 - val_accuracy: 0.0982\n",
            "Epoch 39/100\n",
            "375/375 [==============================] - 2s 4ms/step - loss: 1.2787 - accuracy: 0.5684 - val_loss: 3.5895 - val_accuracy: 0.1000\n",
            "Epoch 40/100\n",
            "375/375 [==============================] - 2s 5ms/step - loss: 1.2568 - accuracy: 0.5724 - val_loss: 3.6445 - val_accuracy: 0.0975\n",
            "Epoch 41/100\n",
            "375/375 [==============================] - 2s 5ms/step - loss: 1.2365 - accuracy: 0.5832 - val_loss: 3.6806 - val_accuracy: 0.1003\n",
            "Epoch 42/100\n",
            "375/375 [==============================] - 2s 4ms/step - loss: 1.2185 - accuracy: 0.5888 - val_loss: 3.7273 - val_accuracy: 0.1003\n",
            "Epoch 43/100\n",
            "375/375 [==============================] - 2s 5ms/step - loss: 1.1952 - accuracy: 0.5958 - val_loss: 3.7803 - val_accuracy: 0.0967\n",
            "Epoch 44/100\n",
            "375/375 [==============================] - 2s 5ms/step - loss: 1.1796 - accuracy: 0.6042 - val_loss: 3.8317 - val_accuracy: 0.1024\n",
            "Epoch 45/100\n",
            "375/375 [==============================] - 2s 4ms/step - loss: 1.1582 - accuracy: 0.6107 - val_loss: 3.8939 - val_accuracy: 0.0965\n",
            "Epoch 46/100\n",
            "375/375 [==============================] - 2s 4ms/step - loss: 1.1404 - accuracy: 0.6177 - val_loss: 3.9377 - val_accuracy: 0.0978\n",
            "Epoch 47/100\n",
            "375/375 [==============================] - 2s 5ms/step - loss: 1.1203 - accuracy: 0.6226 - val_loss: 4.0067 - val_accuracy: 0.0980\n",
            "Epoch 48/100\n",
            "375/375 [==============================] - 2s 5ms/step - loss: 1.1032 - accuracy: 0.6289 - val_loss: 4.0671 - val_accuracy: 0.0973\n",
            "Epoch 49/100\n",
            "375/375 [==============================] - 2s 4ms/step - loss: 1.0851 - accuracy: 0.6356 - val_loss: 4.1184 - val_accuracy: 0.1005\n",
            "Epoch 50/100\n",
            "375/375 [==============================] - 2s 5ms/step - loss: 1.0701 - accuracy: 0.6407 - val_loss: 4.1874 - val_accuracy: 0.0983\n",
            "Epoch 51/100\n",
            "375/375 [==============================] - 2s 5ms/step - loss: 1.0515 - accuracy: 0.6474 - val_loss: 4.2462 - val_accuracy: 0.1003\n",
            "Epoch 52/100\n",
            "375/375 [==============================] - 2s 5ms/step - loss: 1.0362 - accuracy: 0.6527 - val_loss: 4.2863 - val_accuracy: 0.0989\n",
            "Epoch 53/100\n",
            "375/375 [==============================] - 2s 4ms/step - loss: 1.0190 - accuracy: 0.6578 - val_loss: 4.3561 - val_accuracy: 0.1001\n",
            "Epoch 54/100\n",
            "375/375 [==============================] - 2s 5ms/step - loss: 1.0050 - accuracy: 0.6642 - val_loss: 4.3928 - val_accuracy: 0.0992\n",
            "Epoch 55/100\n",
            "375/375 [==============================] - 2s 4ms/step - loss: 0.9881 - accuracy: 0.6700 - val_loss: 4.4400 - val_accuracy: 0.0998\n",
            "Epoch 56/100\n",
            "375/375 [==============================] - 2s 4ms/step - loss: 0.9753 - accuracy: 0.6739 - val_loss: 4.5332 - val_accuracy: 0.0982\n",
            "Epoch 57/100\n",
            "375/375 [==============================] - 2s 4ms/step - loss: 0.9571 - accuracy: 0.6813 - val_loss: 4.5862 - val_accuracy: 0.0985\n",
            "Epoch 58/100\n",
            "375/375 [==============================] - 2s 4ms/step - loss: 0.9411 - accuracy: 0.6878 - val_loss: 4.6483 - val_accuracy: 0.0989\n",
            "Epoch 59/100\n",
            "375/375 [==============================] - 2s 4ms/step - loss: 0.9263 - accuracy: 0.6916 - val_loss: 4.7008 - val_accuracy: 0.0983\n",
            "Epoch 60/100\n",
            "375/375 [==============================] - 2s 4ms/step - loss: 0.9121 - accuracy: 0.6956 - val_loss: 4.7720 - val_accuracy: 0.0970\n",
            "Epoch 61/100\n",
            "375/375 [==============================] - 2s 4ms/step - loss: 0.9005 - accuracy: 0.7013 - val_loss: 4.7880 - val_accuracy: 0.0997\n",
            "Epoch 62/100\n",
            "375/375 [==============================] - 2s 4ms/step - loss: 0.8862 - accuracy: 0.7051 - val_loss: 4.8823 - val_accuracy: 0.0988\n",
            "Epoch 63/100\n",
            "375/375 [==============================] - 2s 5ms/step - loss: 0.8719 - accuracy: 0.7090 - val_loss: 4.9183 - val_accuracy: 0.1004\n",
            "Epoch 64/100\n",
            "375/375 [==============================] - 2s 4ms/step - loss: 0.8591 - accuracy: 0.7156 - val_loss: 4.9647 - val_accuracy: 0.0983\n",
            "Epoch 65/100\n",
            "375/375 [==============================] - 2s 5ms/step - loss: 0.8451 - accuracy: 0.7204 - val_loss: 5.0612 - val_accuracy: 0.0972\n",
            "Epoch 66/100\n",
            "375/375 [==============================] - 2s 4ms/step - loss: 0.8346 - accuracy: 0.7247 - val_loss: 5.1015 - val_accuracy: 0.0997\n",
            "Epoch 67/100\n",
            "375/375 [==============================] - 2s 5ms/step - loss: 0.8189 - accuracy: 0.7304 - val_loss: 5.1807 - val_accuracy: 0.0968\n",
            "Epoch 68/100\n",
            "375/375 [==============================] - 2s 4ms/step - loss: 0.8056 - accuracy: 0.7349 - val_loss: 5.2239 - val_accuracy: 0.0976\n",
            "Epoch 69/100\n",
            "375/375 [==============================] - 2s 5ms/step - loss: 0.7938 - accuracy: 0.7392 - val_loss: 5.2893 - val_accuracy: 0.0994\n",
            "Epoch 70/100\n",
            "375/375 [==============================] - 2s 4ms/step - loss: 0.7844 - accuracy: 0.7410 - val_loss: 5.3594 - val_accuracy: 0.0983\n",
            "Epoch 71/100\n",
            "375/375 [==============================] - 2s 5ms/step - loss: 0.7718 - accuracy: 0.7481 - val_loss: 5.4265 - val_accuracy: 0.0978\n",
            "Epoch 72/100\n",
            "375/375 [==============================] - 2s 5ms/step - loss: 0.7633 - accuracy: 0.7481 - val_loss: 5.4825 - val_accuracy: 0.0994\n",
            "Epoch 73/100\n",
            "375/375 [==============================] - 2s 4ms/step - loss: 0.7499 - accuracy: 0.7548 - val_loss: 5.5062 - val_accuracy: 0.1002\n",
            "Epoch 74/100\n",
            "375/375 [==============================] - 2s 5ms/step - loss: 0.7416 - accuracy: 0.7576 - val_loss: 5.6027 - val_accuracy: 0.0982\n",
            "Epoch 75/100\n",
            "375/375 [==============================] - 2s 5ms/step - loss: 0.7251 - accuracy: 0.7635 - val_loss: 5.6715 - val_accuracy: 0.0957\n",
            "Epoch 76/100\n",
            "375/375 [==============================] - 2s 5ms/step - loss: 0.7182 - accuracy: 0.7638 - val_loss: 5.7115 - val_accuracy: 0.0964\n",
            "Epoch 77/100\n",
            "375/375 [==============================] - 2s 5ms/step - loss: 0.7055 - accuracy: 0.7695 - val_loss: 5.8140 - val_accuracy: 0.0979\n",
            "Epoch 78/100\n",
            "375/375 [==============================] - 2s 4ms/step - loss: 0.6956 - accuracy: 0.7732 - val_loss: 5.8692 - val_accuracy: 0.0967\n",
            "Epoch 79/100\n",
            "375/375 [==============================] - 2s 4ms/step - loss: 0.6868 - accuracy: 0.7754 - val_loss: 5.9423 - val_accuracy: 0.0965\n",
            "Epoch 80/100\n",
            "375/375 [==============================] - 2s 4ms/step - loss: 0.6762 - accuracy: 0.7788 - val_loss: 6.0372 - val_accuracy: 0.0987\n",
            "Epoch 81/100\n",
            "375/375 [==============================] - 2s 4ms/step - loss: 0.6668 - accuracy: 0.7841 - val_loss: 6.0721 - val_accuracy: 0.0981\n",
            "Epoch 82/100\n",
            "375/375 [==============================] - 2s 5ms/step - loss: 0.6537 - accuracy: 0.7894 - val_loss: 6.1178 - val_accuracy: 0.0971\n",
            "Epoch 83/100\n",
            "375/375 [==============================] - 2s 5ms/step - loss: 0.6440 - accuracy: 0.7910 - val_loss: 6.1962 - val_accuracy: 0.0983\n",
            "Epoch 84/100\n",
            "375/375 [==============================] - 2s 5ms/step - loss: 0.6356 - accuracy: 0.7939 - val_loss: 6.2445 - val_accuracy: 0.1002\n",
            "Epoch 85/100\n",
            "375/375 [==============================] - 2s 5ms/step - loss: 0.6275 - accuracy: 0.7972 - val_loss: 6.3512 - val_accuracy: 0.0958\n",
            "Epoch 86/100\n",
            "375/375 [==============================] - 2s 4ms/step - loss: 0.6185 - accuracy: 0.7986 - val_loss: 6.3750 - val_accuracy: 0.0993\n",
            "Epoch 87/100\n",
            "375/375 [==============================] - 2s 5ms/step - loss: 0.6081 - accuracy: 0.8028 - val_loss: 6.4737 - val_accuracy: 0.0993\n",
            "Epoch 88/100\n",
            "375/375 [==============================] - 2s 4ms/step - loss: 0.5982 - accuracy: 0.8078 - val_loss: 6.5732 - val_accuracy: 0.0971\n",
            "Epoch 89/100\n",
            "375/375 [==============================] - 2s 4ms/step - loss: 0.5911 - accuracy: 0.8111 - val_loss: 6.6435 - val_accuracy: 0.0997\n",
            "Epoch 90/100\n",
            "375/375 [==============================] - 2s 4ms/step - loss: 0.5833 - accuracy: 0.8123 - val_loss: 6.6938 - val_accuracy: 0.0971\n",
            "Epoch 91/100\n",
            "375/375 [==============================] - 2s 4ms/step - loss: 0.5738 - accuracy: 0.8146 - val_loss: 6.7465 - val_accuracy: 0.0970\n",
            "Epoch 92/100\n",
            "375/375 [==============================] - 2s 5ms/step - loss: 0.5673 - accuracy: 0.8179 - val_loss: 6.8355 - val_accuracy: 0.0963\n",
            "Epoch 93/100\n",
            "375/375 [==============================] - 2s 4ms/step - loss: 0.5584 - accuracy: 0.8207 - val_loss: 6.8680 - val_accuracy: 0.0981\n",
            "Epoch 94/100\n",
            "375/375 [==============================] - 2s 4ms/step - loss: 0.5514 - accuracy: 0.8235 - val_loss: 6.9598 - val_accuracy: 0.0967\n",
            "Epoch 95/100\n",
            "375/375 [==============================] - 2s 4ms/step - loss: 0.5424 - accuracy: 0.8253 - val_loss: 7.0320 - val_accuracy: 0.0993\n",
            "Epoch 96/100\n",
            "375/375 [==============================] - 2s 5ms/step - loss: 0.5316 - accuracy: 0.8300 - val_loss: 7.0985 - val_accuracy: 0.0954\n",
            "Epoch 97/100\n",
            "375/375 [==============================] - 2s 4ms/step - loss: 0.5282 - accuracy: 0.8307 - val_loss: 7.1381 - val_accuracy: 0.0992\n",
            "Epoch 98/100\n",
            "375/375 [==============================] - 2s 4ms/step - loss: 0.5200 - accuracy: 0.8331 - val_loss: 7.2460 - val_accuracy: 0.0967\n",
            "Epoch 99/100\n",
            "375/375 [==============================] - 2s 5ms/step - loss: 0.5124 - accuracy: 0.8361 - val_loss: 7.2895 - val_accuracy: 0.0976\n",
            "Epoch 100/100\n",
            "375/375 [==============================] - 2s 5ms/step - loss: 0.5066 - accuracy: 0.8396 - val_loss: 7.3211 - val_accuracy: 0.0980\n"
          ]
        },
        {
          "output_type": "execute_result",
          "data": {
            "text/plain": [
              "<keras.callbacks.History at 0x7f4387267ad0>"
            ]
          },
          "metadata": {},
          "execution_count": 10
        }
      ],
      "source": [
        "(train_images, train_labels), _ = mnist.load_data()\n",
        "train_images = train_images.reshape((60000, 28 * 28))\n",
        "train_images = train_images.astype(\"float32\") / 255\n",
        "\n",
        "random_train_labels = train_labels[:]  #일종의 copy하는 과정이라고 보면됨\n",
        "np.random.shuffle(random_train_labels) #shuffle하기\n",
        "\n",
        "\n",
        "#model training 과정 : Deep Learning의 특성 'fit anything'으로 인해 epoch가 진행될 수록 accuracy는 높아지지만, val_accuaracy는 지지부진함 = 오버피팅의 발생\n",
        "model = keras.Sequential([\n",
        "    layers.Dense(512, activation=\"relu\"),\n",
        "    layers.Dense(10, activation=\"softmax\")\n",
        "])\n",
        "model.compile(optimizer=\"rmsprop\",\n",
        "              loss=\"sparse_categorical_crossentropy\",\n",
        "              metrics=[\"accuracy\"])\n",
        "model.fit(train_images, random_train_labels,\n",
        "          epochs=100,\n",
        "          batch_size=128,\n",
        "          validation_split=0.2)"
      ]
    },
    {
      "cell_type": "markdown",
      "metadata": {
        "id": "TmKN-8Y0bbe5"
      },
      "source": [
        "#### The manifold hypothesis"
      ]
    },
    {
      "cell_type": "markdown",
      "metadata": {
        "id": "bNIjItN6bbe5"
      },
      "source": [
        "#### Interpolation as a source of generalization"
      ]
    },
    {
      "cell_type": "markdown",
      "metadata": {
        "id": "ebriY204bbe5"
      },
      "source": [
        "#### Why deep learning works"
      ]
    },
    {
      "cell_type": "markdown",
      "metadata": {
        "id": "FLK0FDD8bbe5"
      },
      "source": [
        "#### Training data is paramount"
      ]
    },
    {
      "cell_type": "markdown",
      "metadata": {
        "id": "3HpCq8rEbbe6"
      },
      "source": [
        "## Evaluating machine-learning models"
      ]
    },
    {
      "cell_type": "markdown",
      "metadata": {
        "id": "DuFOzCgtbbe6"
      },
      "source": [
        "### Training, validation, and test sets"
      ]
    },
    {
      "cell_type": "markdown",
      "metadata": {
        "id": "_e66xZkRbbe6"
      },
      "source": [
        "#### Simple hold-out validation"
      ]
    },
    {
      "cell_type": "markdown",
      "metadata": {
        "id": "BwFxxxfObbe6"
      },
      "source": [
        "#### K-fold validation"
      ]
    },
    {
      "cell_type": "markdown",
      "metadata": {
        "id": "cjgkx7lAbbe6"
      },
      "source": [
        "#### Iterated K-fold validation with shuffling"
      ]
    },
    {
      "cell_type": "markdown",
      "metadata": {
        "id": "Og4mGdAQbbe6"
      },
      "source": [
        "### Beating a common-sense baseline"
      ]
    },
    {
      "cell_type": "markdown",
      "metadata": {
        "id": "vMYlCLY1bbe6"
      },
      "source": [
        "### Things to keep in mind about model evaluation"
      ]
    },
    {
      "cell_type": "markdown",
      "metadata": {
        "id": "tXVB9Y5-bbe7"
      },
      "source": [
        "## Improving model fit"
      ]
    },
    {
      "cell_type": "markdown",
      "metadata": {
        "id": "guloHkeSbbe7"
      },
      "source": [
        "### Tuning key gradient descent parameters"
      ]
    },
    {
      "cell_type": "markdown",
      "metadata": {
        "id": "LHyh-OoRbbe7"
      },
      "source": [
        "**Training a MNIST model with an incorrectly high learning rate**"
      ]
    },
    {
      "cell_type": "code",
      "execution_count": null,
      "metadata": {
        "colab": {
          "base_uri": "https://localhost:8080/"
        },
        "id": "49uenBxjbbe7",
        "outputId": "ce523704-91c0-4cfa-9a6e-580bb507f854"
      },
      "outputs": [
        {
          "output_type": "stream",
          "name": "stdout",
          "text": [
            "Epoch 1/10\n",
            "375/375 [==============================] - 2s 5ms/step - loss: 792.6533 - accuracy: 0.3626 - val_loss: 2.2933 - val_accuracy: 0.2243\n",
            "Epoch 2/10\n",
            "375/375 [==============================] - 2s 4ms/step - loss: 4.4270 - accuracy: 0.2153 - val_loss: 2.5872 - val_accuracy: 0.1948\n",
            "Epoch 3/10\n",
            "375/375 [==============================] - 2s 4ms/step - loss: 2.8346 - accuracy: 0.1835 - val_loss: 2.3066 - val_accuracy: 0.1826\n",
            "Epoch 4/10\n",
            "375/375 [==============================] - 2s 4ms/step - loss: 2.7654 - accuracy: 0.1891 - val_loss: 2.2101 - val_accuracy: 0.1908\n",
            "Epoch 5/10\n",
            "375/375 [==============================] - 2s 4ms/step - loss: 2.5778 - accuracy: 0.2014 - val_loss: 2.2171 - val_accuracy: 0.2329\n",
            "Epoch 6/10\n",
            "375/375 [==============================] - 2s 4ms/step - loss: 2.5436 - accuracy: 0.2082 - val_loss: 2.4760 - val_accuracy: 0.1998\n",
            "Epoch 7/10\n",
            "375/375 [==============================] - 2s 4ms/step - loss: 2.4556 - accuracy: 0.2014 - val_loss: 2.2625 - val_accuracy: 0.1698\n",
            "Epoch 8/10\n",
            "375/375 [==============================] - 2s 4ms/step - loss: 2.5013 - accuracy: 0.2034 - val_loss: 5.1276 - val_accuracy: 0.1718\n",
            "Epoch 9/10\n",
            "375/375 [==============================] - 2s 4ms/step - loss: 2.5993 - accuracy: 0.2034 - val_loss: 2.1901 - val_accuracy: 0.2005\n",
            "Epoch 10/10\n",
            "375/375 [==============================] - 2s 4ms/step - loss: 2.3142 - accuracy: 0.2162 - val_loss: 2.4910 - val_accuracy: 0.2261\n"
          ]
        },
        {
          "output_type": "execute_result",
          "data": {
            "text/plain": [
              "<keras.callbacks.History at 0x7f34ae761e90>"
            ]
          },
          "metadata": {},
          "execution_count": 23
        }
      ],
      "source": [
        "(train_images, train_labels), _ = mnist.load_data()\n",
        "train_images = train_images.reshape((60000, 28 * 28))\n",
        "train_images = train_images.astype(\"float32\") / 255\n",
        "\n",
        "model = keras.Sequential([\n",
        "    layers.Dense(512, activation=\"relu\"),\n",
        "    layers.Dense(10, activation=\"softmax\")\n",
        "])\n",
        "model.compile(optimizer=keras.optimizers.RMSprop(1.), #optimizer=keras.optimizers.RMSprop(1.)를 이용하여 learning rate 지정하기\n",
        "              loss=\"sparse_categorical_crossentropy\",\n",
        "              metrics=[\"accuracy\"])\n",
        "model.fit(train_images, train_labels,\n",
        "          epochs=10,\n",
        "          batch_size=128,\n",
        "          validation_split=0.2)"
      ]
    },
    {
      "cell_type": "markdown",
      "metadata": {
        "id": "UxADfNRnbbe7"
      },
      "source": [
        "**The same model with a more appropriate learning rate**"
      ]
    },
    {
      "cell_type": "code",
      "execution_count": null,
      "metadata": {
        "colab": {
          "base_uri": "https://localhost:8080/"
        },
        "id": "zuh4cKurbbe7",
        "outputId": "bcd288c2-0c2f-487a-ece0-6f1374bd8064"
      },
      "outputs": [
        {
          "output_type": "stream",
          "name": "stdout",
          "text": [
            "Epoch 1/10\n",
            "375/375 [==============================] - 2s 5ms/step - loss: 0.3720 - accuracy: 0.9122 - val_loss: 0.2362 - val_accuracy: 0.9362\n",
            "Epoch 2/10\n",
            "375/375 [==============================] - 2s 4ms/step - loss: 0.1449 - accuracy: 0.9636 - val_loss: 0.1803 - val_accuracy: 0.9617\n",
            "Epoch 3/10\n",
            "375/375 [==============================] - 2s 4ms/step - loss: 0.1112 - accuracy: 0.9735 - val_loss: 0.1829 - val_accuracy: 0.9669\n",
            "Epoch 4/10\n",
            "375/375 [==============================] - 2s 4ms/step - loss: 0.1007 - accuracy: 0.9781 - val_loss: 0.1905 - val_accuracy: 0.9691\n",
            "Epoch 5/10\n",
            "375/375 [==============================] - 2s 4ms/step - loss: 0.0853 - accuracy: 0.9822 - val_loss: 0.2094 - val_accuracy: 0.9712\n",
            "Epoch 6/10\n",
            "375/375 [==============================] - 2s 4ms/step - loss: 0.0843 - accuracy: 0.9839 - val_loss: 0.2984 - val_accuracy: 0.9653\n",
            "Epoch 7/10\n",
            "375/375 [==============================] - 2s 4ms/step - loss: 0.0721 - accuracy: 0.9856 - val_loss: 0.2603 - val_accuracy: 0.9717\n",
            "Epoch 8/10\n",
            "375/375 [==============================] - 2s 5ms/step - loss: 0.0662 - accuracy: 0.9889 - val_loss: 0.2232 - val_accuracy: 0.9762\n",
            "Epoch 9/10\n",
            "375/375 [==============================] - 2s 4ms/step - loss: 0.0618 - accuracy: 0.9894 - val_loss: 0.3209 - val_accuracy: 0.9734\n",
            "Epoch 10/10\n",
            "375/375 [==============================] - 2s 4ms/step - loss: 0.0564 - accuracy: 0.9907 - val_loss: 0.3044 - val_accuracy: 0.9737\n"
          ]
        },
        {
          "output_type": "execute_result",
          "data": {
            "text/plain": [
              "<keras.callbacks.History at 0x7f34ae5442d0>"
            ]
          },
          "metadata": {},
          "execution_count": 24
        }
      ],
      "source": [
        "model = keras.Sequential([\n",
        "    layers.Dense(512, activation=\"relu\"),\n",
        "    layers.Dense(10, activation=\"softmax\")\n",
        "])\n",
        "model.compile(optimizer=keras.optimizers.RMSprop(1e-2),#적정한 learning rate의 적용\n",
        "              loss=\"sparse_categorical_crossentropy\",\n",
        "              metrics=[\"accuracy\"])\n",
        "model.fit(train_images, train_labels,\n",
        "          epochs=10,\n",
        "          batch_size=128,\n",
        "          validation_split=0.2)"
      ]
    },
    {
      "cell_type": "markdown",
      "metadata": {
        "id": "VvexLqlobbe7"
      },
      "source": [
        "### Leveraging better architecture priors"
      ]
    },
    {
      "cell_type": "markdown",
      "metadata": {
        "id": "dK2eviqBbbe7"
      },
      "source": [
        "### Increasing model capacity"
      ]
    },
    {
      "cell_type": "markdown",
      "metadata": {
        "id": "KyN2-9Hubbe7"
      },
      "source": [
        "**A simple logistic regression on MNIST**"
      ]
    },
    {
      "cell_type": "code",
      "execution_count": null,
      "metadata": {
        "colab": {
          "base_uri": "https://localhost:8080/"
        },
        "id": "y96exZuJbbe8",
        "outputId": "ce3981b8-b784-4a6f-819a-4713d38849c6"
      },
      "outputs": [
        {
          "output_type": "stream",
          "name": "stdout",
          "text": [
            "Epoch 1/20\n",
            "375/375 [==============================] - 2s 4ms/step - loss: 0.6646 - accuracy: 0.8365 - val_loss: 0.3587 - val_accuracy: 0.9035\n",
            "Epoch 2/20\n",
            "375/375 [==============================] - 1s 3ms/step - loss: 0.3512 - accuracy: 0.9027 - val_loss: 0.3086 - val_accuracy: 0.9158\n",
            "Epoch 3/20\n",
            "375/375 [==============================] - 1s 3ms/step - loss: 0.3158 - accuracy: 0.9118 - val_loss: 0.2918 - val_accuracy: 0.9187\n",
            "Epoch 4/20\n",
            "375/375 [==============================] - 1s 3ms/step - loss: 0.2995 - accuracy: 0.9162 - val_loss: 0.2829 - val_accuracy: 0.9204\n",
            "Epoch 5/20\n",
            "375/375 [==============================] - 1s 3ms/step - loss: 0.2899 - accuracy: 0.9184 - val_loss: 0.2762 - val_accuracy: 0.9231\n",
            "Epoch 6/20\n",
            "375/375 [==============================] - 1s 4ms/step - loss: 0.2830 - accuracy: 0.9204 - val_loss: 0.2734 - val_accuracy: 0.9255\n",
            "Epoch 7/20\n",
            "375/375 [==============================] - 1s 3ms/step - loss: 0.2782 - accuracy: 0.9220 - val_loss: 0.2696 - val_accuracy: 0.9270\n",
            "Epoch 8/20\n",
            "375/375 [==============================] - 1s 3ms/step - loss: 0.2746 - accuracy: 0.9231 - val_loss: 0.2685 - val_accuracy: 0.9264\n",
            "Epoch 9/20\n",
            "375/375 [==============================] - 1s 4ms/step - loss: 0.2714 - accuracy: 0.9247 - val_loss: 0.2666 - val_accuracy: 0.9275\n",
            "Epoch 10/20\n",
            "375/375 [==============================] - 1s 3ms/step - loss: 0.2691 - accuracy: 0.9256 - val_loss: 0.2646 - val_accuracy: 0.9277\n",
            "Epoch 11/20\n",
            "375/375 [==============================] - 1s 3ms/step - loss: 0.2666 - accuracy: 0.9258 - val_loss: 0.2635 - val_accuracy: 0.9279\n",
            "Epoch 12/20\n",
            "375/375 [==============================] - 1s 4ms/step - loss: 0.2647 - accuracy: 0.9267 - val_loss: 0.2626 - val_accuracy: 0.9301\n",
            "Epoch 13/20\n",
            "375/375 [==============================] - 1s 3ms/step - loss: 0.2635 - accuracy: 0.9276 - val_loss: 0.2629 - val_accuracy: 0.9298\n",
            "Epoch 14/20\n",
            "375/375 [==============================] - 1s 3ms/step - loss: 0.2618 - accuracy: 0.9276 - val_loss: 0.2619 - val_accuracy: 0.9305\n",
            "Epoch 15/20\n",
            "375/375 [==============================] - 1s 3ms/step - loss: 0.2605 - accuracy: 0.9288 - val_loss: 0.2626 - val_accuracy: 0.9287\n",
            "Epoch 16/20\n",
            "375/375 [==============================] - 1s 4ms/step - loss: 0.2596 - accuracy: 0.9288 - val_loss: 0.2613 - val_accuracy: 0.9308\n",
            "Epoch 17/20\n",
            "375/375 [==============================] - 1s 4ms/step - loss: 0.2585 - accuracy: 0.9294 - val_loss: 0.2634 - val_accuracy: 0.9303\n",
            "Epoch 18/20\n",
            "375/375 [==============================] - 1s 4ms/step - loss: 0.2572 - accuracy: 0.9302 - val_loss: 0.2614 - val_accuracy: 0.9310\n",
            "Epoch 19/20\n",
            "375/375 [==============================] - 1s 4ms/step - loss: 0.2560 - accuracy: 0.9304 - val_loss: 0.2624 - val_accuracy: 0.9303\n",
            "Epoch 20/20\n",
            "375/375 [==============================] - 1s 3ms/step - loss: 0.2557 - accuracy: 0.9295 - val_loss: 0.2614 - val_accuracy: 0.9315\n"
          ]
        }
      ],
      "source": [
        "model = keras.Sequential([layers.Dense(10, activation=\"softmax\")]) #단일 layer를 가진 모델을 설정했을때 : small model\n",
        "model.compile(optimizer=\"rmsprop\",\n",
        "              loss=\"sparse_categorical_crossentropy\",\n",
        "              metrics=[\"accuracy\"])\n",
        "history_small_model = model.fit(\n",
        "    train_images, train_labels,\n",
        "    epochs=20,\n",
        "    batch_size=128,\n",
        "    validation_split=0.2)"
      ]
    },
    {
      "cell_type": "code",
      "execution_count": null,
      "metadata": {
        "colab": {
          "base_uri": "https://localhost:8080/",
          "height": 313
        },
        "id": "t3WhCLuRbbe8",
        "outputId": "1389a9a7-e400-4774-8d42-334cefc161ee"
      },
      "outputs": [
        {
          "output_type": "execute_result",
          "data": {
            "text/plain": [
              "<matplotlib.legend.Legend at 0x7f34ae358290>"
            ]
          },
          "metadata": {},
          "execution_count": 26
        },
        {
          "output_type": "display_data",
          "data": {
            "text/plain": [
              "<Figure size 432x288 with 1 Axes>"
            ],
            "image/png": "[encoded data removed]"
          },
          "metadata": {
            "needs_background": "light"
          }
        }
      ],
      "source": [
        "import matplotlib.pyplot as plt\n",
        "val_loss = history_small_model.history[\"val_loss\"]\n",
        "epochs = range(1, 21)\n",
        "plt.plot(epochs, val_loss, \"b--\",\n",
        "         label=\"Validation loss\")\n",
        "plt.title(\"Effect of insufficient model capacity on validation loss\")\n",
        "plt.xlabel(\"Epochs\")\n",
        "plt.ylabel(\"Loss\")\n",
        "plt.legend()\n",
        "#small model에 대한 val_loss그래프를 그려보면 어디서 최소의 loss인지, 언제 overfitting 되었는지 확인할 수 없음(model 너무 작아서)"
      ]
    },
    {
      "cell_type": "code",
      "execution_count": null,
      "metadata": {
        "colab": {
          "base_uri": "https://localhost:8080/"
        },
        "id": "0pNN93hRbbe8",
        "outputId": "26065ce5-f406-40cb-a6c8-cfc7047dc97e"
      },
      "outputs": [
        {
          "output_type": "stream",
          "name": "stdout",
          "text": [
            "Epoch 1/20\n",
            "375/375 [==============================] - 2s 5ms/step - loss: 0.3596 - accuracy: 0.8983 - val_loss: 0.1836 - val_accuracy: 0.9480\n",
            "Epoch 2/20\n",
            "375/375 [==============================] - 2s 4ms/step - loss: 0.1622 - accuracy: 0.9507 - val_loss: 0.1318 - val_accuracy: 0.9591\n",
            "Epoch 3/20\n",
            "375/375 [==============================] - 2s 4ms/step - loss: 0.1128 - accuracy: 0.9660 - val_loss: 0.1190 - val_accuracy: 0.9650\n",
            "Epoch 4/20\n",
            "375/375 [==============================] - 1s 4ms/step - loss: 0.0866 - accuracy: 0.9743 - val_loss: 0.0986 - val_accuracy: 0.9701\n",
            "Epoch 5/20\n",
            "375/375 [==============================] - 2s 4ms/step - loss: 0.0685 - accuracy: 0.9786 - val_loss: 0.0937 - val_accuracy: 0.9711\n",
            "Epoch 6/20\n",
            "375/375 [==============================] - 2s 4ms/step - loss: 0.0567 - accuracy: 0.9833 - val_loss: 0.0970 - val_accuracy: 0.9715\n",
            "Epoch 7/20\n",
            "375/375 [==============================] - 2s 4ms/step - loss: 0.0466 - accuracy: 0.9858 - val_loss: 0.0899 - val_accuracy: 0.9748\n",
            "Epoch 8/20\n",
            "375/375 [==============================] - 2s 4ms/step - loss: 0.0394 - accuracy: 0.9875 - val_loss: 0.0889 - val_accuracy: 0.9729\n",
            "Epoch 9/20\n",
            "375/375 [==============================] - 2s 4ms/step - loss: 0.0335 - accuracy: 0.9898 - val_loss: 0.0986 - val_accuracy: 0.9717\n",
            "Epoch 10/20\n",
            "375/375 [==============================] - 1s 4ms/step - loss: 0.0283 - accuracy: 0.9913 - val_loss: 0.0962 - val_accuracy: 0.9737\n",
            "Epoch 11/20\n",
            "375/375 [==============================] - 2s 4ms/step - loss: 0.0234 - accuracy: 0.9926 - val_loss: 0.0990 - val_accuracy: 0.9743\n",
            "Epoch 12/20\n",
            "375/375 [==============================] - 1s 4ms/step - loss: 0.0201 - accuracy: 0.9939 - val_loss: 0.1099 - val_accuracy: 0.9713\n",
            "Epoch 13/20\n",
            "375/375 [==============================] - 2s 4ms/step - loss: 0.0168 - accuracy: 0.9949 - val_loss: 0.1017 - val_accuracy: 0.9744\n",
            "Epoch 14/20\n",
            "375/375 [==============================] - 1s 4ms/step - loss: 0.0141 - accuracy: 0.9957 - val_loss: 0.1037 - val_accuracy: 0.9753\n",
            "Epoch 15/20\n",
            "375/375 [==============================] - 2s 4ms/step - loss: 0.0123 - accuracy: 0.9962 - val_loss: 0.1087 - val_accuracy: 0.9763\n",
            "Epoch 16/20\n",
            "375/375 [==============================] - 2s 4ms/step - loss: 0.0105 - accuracy: 0.9965 - val_loss: 0.1053 - val_accuracy: 0.9772\n",
            "Epoch 17/20\n",
            "375/375 [==============================] - 1s 4ms/step - loss: 0.0087 - accuracy: 0.9971 - val_loss: 0.1290 - val_accuracy: 0.9739\n",
            "Epoch 18/20\n",
            "375/375 [==============================] - 2s 4ms/step - loss: 0.0073 - accuracy: 0.9977 - val_loss: 0.1236 - val_accuracy: 0.9765\n",
            "Epoch 19/20\n",
            "375/375 [==============================] - 2s 4ms/step - loss: 0.0063 - accuracy: 0.9981 - val_loss: 0.1263 - val_accuracy: 0.9763\n",
            "Epoch 20/20\n",
            "375/375 [==============================] - 2s 4ms/step - loss: 0.0064 - accuracy: 0.9981 - val_loss: 0.1380 - val_accuracy: 0.9743\n"
          ]
        }
      ],
      "source": [
        "model = keras.Sequential([\n",
        "    layers.Dense(96, activation=\"relu\"),\n",
        "    layers.Dense(96, activation=\"relu\"),     #3-layers의 설정 : not a small model(위 모델과 비교할 때)\n",
        "    layers.Dense(10, activation=\"softmax\"),\n",
        "])\n",
        "model.compile(optimizer=\"rmsprop\",\n",
        "              loss=\"sparse_categorical_crossentropy\",\n",
        "              metrics=[\"accuracy\"])\n",
        "history_large_model = model.fit(\n",
        "    train_images, train_labels,\n",
        "    epochs=20,\n",
        "    batch_size=128,\n",
        "    validation_split=0.2)"
      ]
    },
    {
      "cell_type": "code",
      "source": [
        "import matplotlib.pyplot as plt\n",
        "val_loss = history_large_model.history[\"val_loss\"]\n",
        "epochs = range(1, 21)\n",
        "plt.plot(epochs, val_loss, \"b--\",\n",
        "         label=\"Validation loss\")\n",
        "plt.title(\"Effect of insufficient model capacity on validation loss\")\n",
        "plt.xlabel(\"Epochs\")\n",
        "plt.ylabel(\"Loss\")\n",
        "plt.legend()"
      ],
      "metadata": {
        "id": "me3zIy1LlJr1",
        "outputId": "06c867dd-703a-4af1-abaf-c0e8b3725542",
        "colab": {
          "base_uri": "https://localhost:8080/",
          "height": 313
        }
      },
      "execution_count": null,
      "outputs": [
        {
          "output_type": "execute_result",
          "data": {
            "text/plain": [
              "<matplotlib.legend.Legend at 0x7f34b02eac90>"
            ]
          },
          "metadata": {},
          "execution_count": 28
        },
        {
          "output_type": "display_data",
          "data": {
            "text/plain": [
              "<Figure size 432x288 with 1 Axes>"
            ],
            "image/png": "[encoded data removed]"
          },
          "metadata": {
            "needs_background": "light"
          }
        }
      ]
    },
    {
      "cell_type": "markdown",
      "metadata": {
        "id": "Ut9uOE3abbe8"
      },
      "source": [
        "## Improving generalization"
      ]
    },
    {
      "cell_type": "markdown",
      "metadata": {
        "id": "_LK2f7Jcbbe8"
      },
      "source": [
        "### Dataset curation"
      ]
    },
    {
      "cell_type": "markdown",
      "metadata": {
        "id": "5GmIsLHKbbe8"
      },
      "source": [
        "### Feature engineering"
      ]
    },
    {
      "cell_type": "markdown",
      "metadata": {
        "id": "gltm24yVbbe8"
      },
      "source": [
        "### Using early stopping"
      ]
    },
    {
      "cell_type": "markdown",
      "metadata": {
        "id": "eHbKs6Dcbbe8"
      },
      "source": [
        "### Regularizing your model"
      ]
    },
    {
      "cell_type": "markdown",
      "metadata": {
        "id": "jOHHrsn1bbe8"
      },
      "source": [
        "#### Reducing the network's size"
      ]
    },
    {
      "cell_type": "markdown",
      "metadata": {
        "id": "Vr2ZWZ5Tbbe9"
      },
      "source": [
        "**Original model**"
      ]
    },
    {
      "cell_type": "code",
      "execution_count": null,
      "metadata": {
        "colab": {
          "base_uri": "https://localhost:8080/"
        },
        "id": "sFPwJtxpbbe9",
        "outputId": "f679afeb-2958-4156-9fe1-23b0a6065219"
      },
      "outputs": [
        {
          "output_type": "stream",
          "name": "stdout",
          "text": [
            "Downloading data from https://storage.googleapis.com/tensorflow/tf-keras-datasets/imdb.npz\n",
            "17465344/17464789 [==============================] - 1s 0us/step\n",
            "17473536/17464789 [==============================] - 1s 0us/step\n",
            "Epoch 1/20\n",
            "30/30 [==============================] - 3s 42ms/step - loss: 0.5292 - accuracy: 0.7759 - val_loss: 0.3998 - val_accuracy: 0.8642\n",
            "Epoch 2/20\n",
            "30/30 [==============================] - 1s 21ms/step - loss: 0.3211 - accuracy: 0.9001 - val_loss: 0.3287 - val_accuracy: 0.8744\n",
            "Epoch 3/20\n",
            "30/30 [==============================] - 1s 22ms/step - loss: 0.2339 - accuracy: 0.9239 - val_loss: 0.2992 - val_accuracy: 0.8788\n",
            "Epoch 4/20\n",
            "30/30 [==============================] - 1s 25ms/step - loss: 0.1857 - accuracy: 0.9411 - val_loss: 0.2785 - val_accuracy: 0.8876\n",
            "Epoch 5/20\n",
            "30/30 [==============================] - 1s 25ms/step - loss: 0.1500 - accuracy: 0.9538 - val_loss: 0.3187 - val_accuracy: 0.8751\n",
            "Epoch 6/20\n",
            "30/30 [==============================] - 1s 21ms/step - loss: 0.1256 - accuracy: 0.9608 - val_loss: 0.2907 - val_accuracy: 0.8865\n",
            "Epoch 7/20\n",
            "30/30 [==============================] - 1s 24ms/step - loss: 0.1008 - accuracy: 0.9717 - val_loss: 0.3140 - val_accuracy: 0.8822\n",
            "Epoch 8/20\n",
            "30/30 [==============================] - 1s 25ms/step - loss: 0.0879 - accuracy: 0.9744 - val_loss: 0.3258 - val_accuracy: 0.8829\n",
            "Epoch 9/20\n",
            "30/30 [==============================] - 1s 22ms/step - loss: 0.0692 - accuracy: 0.9815 - val_loss: 0.3688 - val_accuracy: 0.8747\n",
            "Epoch 10/20\n",
            "30/30 [==============================] - 1s 25ms/step - loss: 0.0607 - accuracy: 0.9839 - val_loss: 0.3929 - val_accuracy: 0.8714\n",
            "Epoch 11/20\n",
            "30/30 [==============================] - 1s 25ms/step - loss: 0.0499 - accuracy: 0.9875 - val_loss: 0.3998 - val_accuracy: 0.8767\n",
            "Epoch 12/20\n",
            "30/30 [==============================] - 1s 26ms/step - loss: 0.0411 - accuracy: 0.9907 - val_loss: 0.4339 - val_accuracy: 0.8735\n",
            "Epoch 13/20\n",
            "30/30 [==============================] - 1s 22ms/step - loss: 0.0338 - accuracy: 0.9915 - val_loss: 0.4648 - val_accuracy: 0.8721\n",
            "Epoch 14/20\n",
            "30/30 [==============================] - 1s 21ms/step - loss: 0.0275 - accuracy: 0.9943 - val_loss: 0.5014 - val_accuracy: 0.8688\n",
            "Epoch 15/20\n",
            "30/30 [==============================] - 1s 21ms/step - loss: 0.0206 - accuracy: 0.9967 - val_loss: 0.5259 - val_accuracy: 0.8699\n",
            "Epoch 16/20\n",
            "30/30 [==============================] - 1s 21ms/step - loss: 0.0171 - accuracy: 0.9971 - val_loss: 0.5632 - val_accuracy: 0.8694\n",
            "Epoch 17/20\n",
            "30/30 [==============================] - 1s 22ms/step - loss: 0.0140 - accuracy: 0.9972 - val_loss: 0.6031 - val_accuracy: 0.8694\n",
            "Epoch 18/20\n",
            "30/30 [==============================] - 1s 22ms/step - loss: 0.0084 - accuracy: 0.9992 - val_loss: 0.6590 - val_accuracy: 0.8629\n",
            "Epoch 19/20\n",
            "30/30 [==============================] - 1s 25ms/step - loss: 0.0101 - accuracy: 0.9983 - val_loss: 0.6760 - val_accuracy: 0.8660\n",
            "Epoch 20/20\n",
            "30/30 [==============================] - 1s 21ms/step - loss: 0.0047 - accuracy: 0.9997 - val_loss: 0.7185 - val_accuracy: 0.8640\n"
          ]
        }
      ],
      "source": [
        "from tensorflow.keras.datasets import imdb\n",
        "(train_data, train_labels), _ = imdb.load_data(num_words=10000)\n",
        "\n",
        "def vectorize_sequences(sequences, dimension=10000):\n",
        "    results = np.zeros((len(sequences), dimension))\n",
        "    for i, sequence in enumerate(sequences):\n",
        "        results[i, sequence] = 1.\n",
        "    return results\n",
        "train_data = vectorize_sequences(train_data)\n",
        "\n",
        "model = keras.Sequential([\n",
        "    layers.Dense(16, activation=\"relu\"),\n",
        "    layers.Dense(16, activation=\"relu\"),\n",
        "    layers.Dense(1, activation=\"sigmoid\")\n",
        "])\n",
        "model.compile(optimizer=\"rmsprop\",\n",
        "              loss=\"binary_crossentropy\",\n",
        "              metrics=[\"accuracy\"])\n",
        "history_original = model.fit(train_data, train_labels,\n",
        "                             epochs=20, batch_size=512, validation_split=0.4)"
      ]
    },
    {
      "cell_type": "markdown",
      "metadata": {
        "id": "uyXP9J63bbe9"
      },
      "source": [
        "**Version of the model with lower capacity**"
      ]
    },
    {
      "cell_type": "code",
      "execution_count": null,
      "metadata": {
        "colab": {
          "base_uri": "https://localhost:8080/"
        },
        "id": "KerRxDXQbbe9",
        "outputId": "b1dbd444-888e-4579-b907-3819b16ca46e"
      },
      "outputs": [
        {
          "output_type": "stream",
          "name": "stdout",
          "text": [
            "Epoch 1/20\n",
            "30/30 [==============================] - 2s 38ms/step - loss: 0.6493 - accuracy: 0.5817 - val_loss: 0.6056 - val_accuracy: 0.6591\n",
            "Epoch 2/20\n",
            "30/30 [==============================] - 1s 21ms/step - loss: 0.5739 - accuracy: 0.7410 - val_loss: 0.5559 - val_accuracy: 0.7513\n",
            "Epoch 3/20\n",
            "30/30 [==============================] - 1s 25ms/step - loss: 0.5237 - accuracy: 0.8049 - val_loss: 0.5233 - val_accuracy: 0.7688\n",
            "Epoch 4/20\n",
            "30/30 [==============================] - 1s 21ms/step - loss: 0.4852 - accuracy: 0.8512 - val_loss: 0.4944 - val_accuracy: 0.8492\n",
            "Epoch 5/20\n",
            "30/30 [==============================] - 1s 21ms/step - loss: 0.4541 - accuracy: 0.8803 - val_loss: 0.4793 - val_accuracy: 0.8264\n",
            "Epoch 6/20\n",
            "30/30 [==============================] - 1s 22ms/step - loss: 0.4290 - accuracy: 0.8994 - val_loss: 0.4621 - val_accuracy: 0.8510\n",
            "Epoch 7/20\n",
            "30/30 [==============================] - 1s 22ms/step - loss: 0.4042 - accuracy: 0.9185 - val_loss: 0.4402 - val_accuracy: 0.8762\n",
            "Epoch 8/20\n",
            "30/30 [==============================] - 1s 25ms/step - loss: 0.3725 - accuracy: 0.9352 - val_loss: 0.4259 - val_accuracy: 0.8623\n",
            "Epoch 9/20\n",
            "30/30 [==============================] - 1s 25ms/step - loss: 0.3332 - accuracy: 0.9466 - val_loss: 0.3929 - val_accuracy: 0.8757\n",
            "Epoch 10/20\n",
            "30/30 [==============================] - 1s 22ms/step - loss: 0.2879 - accuracy: 0.9566 - val_loss: 0.3582 - val_accuracy: 0.8825\n",
            "Epoch 11/20\n",
            "30/30 [==============================] - 1s 22ms/step - loss: 0.2416 - accuracy: 0.9615 - val_loss: 0.3363 - val_accuracy: 0.8808\n",
            "Epoch 12/20\n",
            "30/30 [==============================] - 1s 21ms/step - loss: 0.2017 - accuracy: 0.9652 - val_loss: 0.3218 - val_accuracy: 0.8796\n",
            "Epoch 13/20\n",
            "30/30 [==============================] - 1s 26ms/step - loss: 0.1705 - accuracy: 0.9675 - val_loss: 0.2971 - val_accuracy: 0.8906\n",
            "Epoch 14/20\n",
            "30/30 [==============================] - 1s 25ms/step - loss: 0.1465 - accuracy: 0.9709 - val_loss: 0.2937 - val_accuracy: 0.8891\n",
            "Epoch 15/20\n",
            "30/30 [==============================] - 1s 22ms/step - loss: 0.1280 - accuracy: 0.9723 - val_loss: 0.2971 - val_accuracy: 0.8862\n",
            "Epoch 16/20\n",
            "30/30 [==============================] - 1s 25ms/step - loss: 0.1143 - accuracy: 0.9757 - val_loss: 0.3225 - val_accuracy: 0.8801\n",
            "Epoch 17/20\n",
            "30/30 [==============================] - 1s 22ms/step - loss: 0.1032 - accuracy: 0.9777 - val_loss: 0.3064 - val_accuracy: 0.8857\n",
            "Epoch 18/20\n",
            "30/30 [==============================] - 1s 24ms/step - loss: 0.0938 - accuracy: 0.9798 - val_loss: 0.3289 - val_accuracy: 0.8831\n",
            "Epoch 19/20\n",
            "30/30 [==============================] - 1s 25ms/step - loss: 0.0854 - accuracy: 0.9817 - val_loss: 0.3265 - val_accuracy: 0.8833\n",
            "Epoch 20/20\n",
            "30/30 [==============================] - 1s 22ms/step - loss: 0.0782 - accuracy: 0.9842 - val_loss: 0.3477 - val_accuracy: 0.8797\n"
          ]
        }
      ],
      "source": [
        "model = keras.Sequential([\n",
        "    layers.Dense(4, activation=\"relu\"),\n",
        "    layers.Dense(4, activation=\"relu\"),             #아래 모델과  비교했을 때 layer당 적은 ouputs 수\n",
        "    layers.Dense(1, activation=\"sigmoid\")\n",
        "])\n",
        "model.compile(optimizer=\"rmsprop\",\n",
        "              loss=\"binary_crossentropy\",\n",
        "              metrics=[\"accuracy\"])\n",
        "history_smaller_model = model.fit(\n",
        "    train_data, train_labels,\n",
        "    epochs=20, batch_size=512, validation_split=0.4)"
      ]
    },
    {
      "cell_type": "markdown",
      "metadata": {
        "id": "zNQyccikbbe9"
      },
      "source": [
        "**Version of the model with higher capacity**"
      ]
    },
    {
      "cell_type": "code",
      "execution_count": null,
      "metadata": {
        "colab": {
          "base_uri": "https://localhost:8080/"
        },
        "id": "YCJQHzJSbbe9",
        "outputId": "4f3824f7-771f-42ed-8b27-ce6190a359b6"
      },
      "outputs": [
        {
          "output_type": "stream",
          "name": "stdout",
          "text": [
            "Epoch 1/20\n",
            "30/30 [==============================] - 2s 47ms/step - loss: 0.5932 - accuracy: 0.7774 - val_loss: 0.3231 - val_accuracy: 0.8679\n",
            "Epoch 2/20\n",
            "30/30 [==============================] - 1s 31ms/step - loss: 0.2429 - accuracy: 0.9024 - val_loss: 0.2823 - val_accuracy: 0.8855\n",
            "Epoch 3/20\n",
            "30/30 [==============================] - 1s 30ms/step - loss: 0.1484 - accuracy: 0.9448 - val_loss: 0.3348 - val_accuracy: 0.8848\n",
            "Epoch 4/20\n",
            "30/30 [==============================] - 1s 31ms/step - loss: 0.0851 - accuracy: 0.9733 - val_loss: 0.3786 - val_accuracy: 0.8890\n",
            "Epoch 5/20\n",
            "30/30 [==============================] - 1s 29ms/step - loss: 0.1006 - accuracy: 0.9751 - val_loss: 0.3426 - val_accuracy: 0.8893\n",
            "Epoch 6/20\n",
            "30/30 [==============================] - 1s 29ms/step - loss: 0.0039 - accuracy: 0.9998 - val_loss: 0.5124 - val_accuracy: 0.8883\n",
            "Epoch 7/20\n",
            "30/30 [==============================] - 1s 28ms/step - loss: 5.1294e-04 - accuracy: 1.0000 - val_loss: 0.6327 - val_accuracy: 0.8880\n",
            "Epoch 8/20\n",
            "30/30 [==============================] - 1s 31ms/step - loss: 0.2090 - accuracy: 0.9771 - val_loss: 0.5050 - val_accuracy: 0.8870\n",
            "Epoch 9/20\n",
            "30/30 [==============================] - 1s 29ms/step - loss: 4.7147e-04 - accuracy: 1.0000 - val_loss: 0.5670 - val_accuracy: 0.8887\n",
            "Epoch 10/20\n",
            "30/30 [==============================] - 1s 28ms/step - loss: 1.4176e-04 - accuracy: 1.0000 - val_loss: 0.6594 - val_accuracy: 0.8882\n",
            "Epoch 11/20\n",
            "30/30 [==============================] - 1s 29ms/step - loss: 3.8593e-05 - accuracy: 1.0000 - val_loss: 0.7577 - val_accuracy: 0.8870\n",
            "Epoch 12/20\n",
            "30/30 [==============================] - 1s 28ms/step - loss: 1.0004e-05 - accuracy: 1.0000 - val_loss: 0.8638 - val_accuracy: 0.8852\n",
            "Epoch 13/20\n",
            "30/30 [==============================] - 1s 28ms/step - loss: 2.5752e-06 - accuracy: 1.0000 - val_loss: 0.9552 - val_accuracy: 0.8854\n",
            "Epoch 14/20\n",
            "30/30 [==============================] - 1s 29ms/step - loss: 7.8505e-07 - accuracy: 1.0000 - val_loss: 1.0315 - val_accuracy: 0.8846\n",
            "Epoch 15/20\n",
            "30/30 [==============================] - 1s 29ms/step - loss: 2.8809e-07 - accuracy: 1.0000 - val_loss: 1.1096 - val_accuracy: 0.8847\n",
            "Epoch 16/20\n",
            "30/30 [==============================] - 1s 31ms/step - loss: 1.1015e-07 - accuracy: 1.0000 - val_loss: 1.1731 - val_accuracy: 0.8845\n",
            "Epoch 17/20\n",
            "30/30 [==============================] - 1s 28ms/step - loss: 4.8348e-08 - accuracy: 1.0000 - val_loss: 1.2274 - val_accuracy: 0.8845\n",
            "Epoch 18/20\n",
            "30/30 [==============================] - 1s 31ms/step - loss: 2.6881e-08 - accuracy: 1.0000 - val_loss: 1.2613 - val_accuracy: 0.8838\n",
            "Epoch 19/20\n",
            "30/30 [==============================] - 1s 30ms/step - loss: 1.7847e-08 - accuracy: 1.0000 - val_loss: 1.2870 - val_accuracy: 0.8842\n",
            "Epoch 20/20\n",
            "30/30 [==============================] - 1s 29ms/step - loss: 1.3455e-08 - accuracy: 1.0000 - val_loss: 1.3027 - val_accuracy: 0.8837\n"
          ]
        }
      ],
      "source": [
        "model = keras.Sequential([\n",
        "    layers.Dense(512, activation=\"relu\"),\n",
        "    layers.Dense(512, activation=\"relu\"),        #위의 모델과 비교했을 때 layer당 ouputs 수가 크다\n",
        "    layers.Dense(1, activation=\"sigmoid\")\n",
        "])\n",
        "model.compile(optimizer=\"rmsprop\",\n",
        "              loss=\"binary_crossentropy\",\n",
        "              metrics=[\"accuracy\"])\n",
        "history_larger_model = model.fit(\n",
        "    train_data, train_labels,\n",
        "    epochs=20, batch_size=512, validation_split=0.4)"
      ]
    },
    {
      "cell_type": "markdown",
      "metadata": {
        "id": "4iEdhzN7bbe9"
      },
      "source": [
        "#### Adding weight regularization"
      ]
    },
    {
      "cell_type": "markdown",
      "metadata": {
        "id": "4bK9Feu8bbe9"
      },
      "source": [
        "**Adding L2 weight regularization to the model**"
      ]
    },
    {
      "cell_type": "code",
      "execution_count": null,
      "metadata": {
        "colab": {
          "base_uri": "https://localhost:8080/"
        },
        "id": "asvnURRtbbe9",
        "outputId": "f65b381a-8ff8-4981-8ecf-07535dd4fe31"
      },
      "outputs": [
        {
          "output_type": "stream",
          "name": "stdout",
          "text": [
            "Epoch 1/20\n",
            "30/30 [==============================] - 2s 36ms/step - loss: 0.5899 - accuracy: 0.7754 - val_loss: 0.4547 - val_accuracy: 0.8740\n",
            "Epoch 2/20\n",
            "30/30 [==============================] - 1s 20ms/step - loss: 0.3913 - accuracy: 0.8933 - val_loss: 0.4009 - val_accuracy: 0.8737\n",
            "Epoch 3/20\n",
            "30/30 [==============================] - 1s 24ms/step - loss: 0.3264 - accuracy: 0.9165 - val_loss: 0.3621 - val_accuracy: 0.8905\n",
            "Epoch 4/20\n",
            "30/30 [==============================] - 1s 20ms/step - loss: 0.2929 - accuracy: 0.9270 - val_loss: 0.3686 - val_accuracy: 0.8826\n",
            "Epoch 5/20\n",
            "30/30 [==============================] - 1s 20ms/step - loss: 0.2766 - accuracy: 0.9331 - val_loss: 0.3611 - val_accuracy: 0.8847\n",
            "Epoch 6/20\n",
            "30/30 [==============================] - 1s 21ms/step - loss: 0.2613 - accuracy: 0.9381 - val_loss: 0.3719 - val_accuracy: 0.8803\n",
            "Epoch 7/20\n",
            "30/30 [==============================] - 1s 21ms/step - loss: 0.2473 - accuracy: 0.9433 - val_loss: 0.3641 - val_accuracy: 0.8838\n",
            "Epoch 8/20\n",
            "30/30 [==============================] - 1s 20ms/step - loss: 0.2436 - accuracy: 0.9443 - val_loss: 0.4167 - val_accuracy: 0.8690\n",
            "Epoch 9/20\n",
            "30/30 [==============================] - 1s 21ms/step - loss: 0.2408 - accuracy: 0.9447 - val_loss: 0.3719 - val_accuracy: 0.8831\n",
            "Epoch 10/20\n",
            "30/30 [==============================] - 1s 21ms/step - loss: 0.2275 - accuracy: 0.9510 - val_loss: 0.3930 - val_accuracy: 0.8749\n",
            "Epoch 11/20\n",
            "30/30 [==============================] - 1s 21ms/step - loss: 0.2272 - accuracy: 0.9510 - val_loss: 0.3920 - val_accuracy: 0.8758\n",
            "Epoch 12/20\n",
            "30/30 [==============================] - 1s 21ms/step - loss: 0.2195 - accuracy: 0.9543 - val_loss: 0.4177 - val_accuracy: 0.8690\n",
            "Epoch 13/20\n",
            "30/30 [==============================] - 1s 22ms/step - loss: 0.2185 - accuracy: 0.9537 - val_loss: 0.4088 - val_accuracy: 0.8749\n",
            "Epoch 14/20\n",
            "30/30 [==============================] - 1s 25ms/step - loss: 0.2119 - accuracy: 0.9549 - val_loss: 0.4229 - val_accuracy: 0.8688\n",
            "Epoch 15/20\n",
            "30/30 [==============================] - 1s 22ms/step - loss: 0.2141 - accuracy: 0.9557 - val_loss: 0.4029 - val_accuracy: 0.8784\n",
            "Epoch 16/20\n",
            "30/30 [==============================] - 1s 24ms/step - loss: 0.2048 - accuracy: 0.9586 - val_loss: 0.4117 - val_accuracy: 0.8760\n",
            "Epoch 17/20\n",
            "30/30 [==============================] - 1s 25ms/step - loss: 0.2098 - accuracy: 0.9568 - val_loss: 0.4073 - val_accuracy: 0.8769\n",
            "Epoch 18/20\n",
            "30/30 [==============================] - 1s 22ms/step - loss: 0.2094 - accuracy: 0.9567 - val_loss: 0.4080 - val_accuracy: 0.8775\n",
            "Epoch 19/20\n",
            "30/30 [==============================] - 1s 21ms/step - loss: 0.1998 - accuracy: 0.9611 - val_loss: 0.4345 - val_accuracy: 0.8702\n",
            "Epoch 20/20\n",
            "30/30 [==============================] - 1s 21ms/step - loss: 0.1940 - accuracy: 0.9648 - val_loss: 0.4174 - val_accuracy: 0.8750\n"
          ]
        }
      ],
      "source": [
        "from tensorflow.keras import regularizers\n",
        "model = keras.Sequential([\n",
        "    layers.Dense(16,\n",
        "                 kernel_regularizer=regularizers.l2(0.002),  #L1 regularization 지정(layer 한 줄마다 그 아래에 적어야 함)\n",
        "                 activation=\"relu\"),\n",
        "    layers.Dense(16,\n",
        "                 kernel_regularizer=regularizers.l2(0.002),   \n",
        "                 activation=\"relu\"),\n",
        "    layers.Dense(1, activation=\"sigmoid\")\n",
        "])\n",
        "model.compile(optimizer=\"rmsprop\",\n",
        "              loss=\"binary_crossentropy\",\n",
        "              metrics=[\"accuracy\"])\n",
        "history_l2_reg = model.fit(\n",
        "    train_data, train_labels,\n",
        "    epochs=20, batch_size=512, validation_split=0.4)"
      ]
    },
    {
      "cell_type": "markdown",
      "metadata": {
        "id": "0CtrRurVbbe-"
      },
      "source": [
        "**Different weight regularizers available in Keras**"
      ]
    },
    {
      "cell_type": "code",
      "execution_count": null,
      "metadata": {
        "colab": {
          "base_uri": "https://localhost:8080/"
        },
        "id": "2-lzN8GDbbe-",
        "outputId": "0ba9fa75-044f-4dcf-ec09-b59de8ffbb3c"
      },
      "outputs": [
        {
          "output_type": "execute_result",
          "data": {
            "text/plain": [
              "<keras.regularizers.L1L2 at 0x7f4376f2b1d0>"
            ]
          },
          "metadata": {},
          "execution_count": 20
        }
      ],
      "source": [
        "from tensorflow.keras import regularizers\n",
        "regularizers.l1(0.001)\n",
        "regularizers.l1_l2(l1=0.001, l2=0.001) #두개 다 할 때"
      ]
    },
    {
      "cell_type": "markdown",
      "metadata": {
        "id": "9oVGuZ4ibbe-"
      },
      "source": [
        "#### Adding dropout"
      ]
    },
    {
      "cell_type": "markdown",
      "metadata": {
        "id": "Qdopvgfcbbe-"
      },
      "source": [
        "**Adding dropout to the IMDB model**"
      ]
    },
    {
      "cell_type": "code",
      "execution_count": null,
      "metadata": {
        "colab": {
          "base_uri": "https://localhost:8080/"
        },
        "id": "nVxzTzI_bbe-",
        "outputId": "e1ec4e8e-37b9-46fe-fbfc-a2abf936897e"
      },
      "outputs": [
        {
          "output_type": "stream",
          "name": "stdout",
          "text": [
            "Epoch 1/20\n",
            "30/30 [==============================] - 2s 36ms/step - loss: 0.6301 - accuracy: 0.6412 - val_loss: 0.5116 - val_accuracy: 0.8355\n",
            "Epoch 2/20\n",
            "30/30 [==============================] - 1s 20ms/step - loss: 0.5183 - accuracy: 0.7541 - val_loss: 0.4118 - val_accuracy: 0.8759\n",
            "Epoch 3/20\n",
            "30/30 [==============================] - 1s 20ms/step - loss: 0.4437 - accuracy: 0.8045 - val_loss: 0.3387 - val_accuracy: 0.8830\n",
            "Epoch 4/20\n",
            "30/30 [==============================] - 1s 21ms/step - loss: 0.3806 - accuracy: 0.8464 - val_loss: 0.3015 - val_accuracy: 0.8883\n",
            "Epoch 5/20\n",
            "30/30 [==============================] - 1s 21ms/step - loss: 0.3366 - accuracy: 0.8703 - val_loss: 0.2922 - val_accuracy: 0.8835\n",
            "Epoch 6/20\n",
            "30/30 [==============================] - 1s 24ms/step - loss: 0.2944 - accuracy: 0.8914 - val_loss: 0.2732 - val_accuracy: 0.8912\n",
            "Epoch 7/20\n",
            "30/30 [==============================] - 1s 24ms/step - loss: 0.2632 - accuracy: 0.9073 - val_loss: 0.2731 - val_accuracy: 0.8920\n",
            "Epoch 8/20\n",
            "30/30 [==============================] - 1s 21ms/step - loss: 0.2373 - accuracy: 0.9189 - val_loss: 0.2756 - val_accuracy: 0.8928\n",
            "Epoch 9/20\n",
            "30/30 [==============================] - 1s 25ms/step - loss: 0.2118 - accuracy: 0.9310 - val_loss: 0.3003 - val_accuracy: 0.8888\n",
            "Epoch 10/20\n",
            "30/30 [==============================] - 1s 21ms/step - loss: 0.1943 - accuracy: 0.9365 - val_loss: 0.3083 - val_accuracy: 0.8924\n",
            "Epoch 11/20\n",
            "30/30 [==============================] - 1s 20ms/step - loss: 0.1744 - accuracy: 0.9434 - val_loss: 0.3183 - val_accuracy: 0.8914\n",
            "Epoch 12/20\n",
            "30/30 [==============================] - 1s 21ms/step - loss: 0.1614 - accuracy: 0.9488 - val_loss: 0.3398 - val_accuracy: 0.8895\n",
            "Epoch 13/20\n",
            "30/30 [==============================] - 1s 21ms/step - loss: 0.1417 - accuracy: 0.9535 - val_loss: 0.3651 - val_accuracy: 0.8883\n",
            "Epoch 14/20\n",
            "30/30 [==============================] - 1s 21ms/step - loss: 0.1322 - accuracy: 0.9584 - val_loss: 0.3885 - val_accuracy: 0.8872\n",
            "Epoch 15/20\n",
            "30/30 [==============================] - 1s 21ms/step - loss: 0.1237 - accuracy: 0.9599 - val_loss: 0.4263 - val_accuracy: 0.8845\n",
            "Epoch 16/20\n",
            "30/30 [==============================] - 1s 20ms/step - loss: 0.1134 - accuracy: 0.9619 - val_loss: 0.4325 - val_accuracy: 0.8843\n",
            "Epoch 17/20\n",
            "30/30 [==============================] - 1s 21ms/step - loss: 0.1098 - accuracy: 0.9656 - val_loss: 0.4541 - val_accuracy: 0.8831\n",
            "Epoch 18/20\n",
            "30/30 [==============================] - 1s 21ms/step - loss: 0.1040 - accuracy: 0.9672 - val_loss: 0.4835 - val_accuracy: 0.8842\n",
            "Epoch 19/20\n",
            "30/30 [==============================] - 1s 21ms/step - loss: 0.1001 - accuracy: 0.9699 - val_loss: 0.5303 - val_accuracy: 0.8801\n",
            "Epoch 20/20\n",
            "30/30 [==============================] - 1s 21ms/step - loss: 0.0963 - accuracy: 0.9700 - val_loss: 0.5296 - val_accuracy: 0.8837\n"
          ]
        }
      ],
      "source": [
        "model = keras.Sequential([\n",
        "    layers.Dense(16, activation=\"relu\"),\n",
        "    layers.Dropout(0.5),                          #layers.Dropout을 이용하기 -> layer 한 줄 아래마다 추가해줘야하는 코드임\n",
        "    layers.Dense(16, activation=\"relu\"),\n",
        "    layers.Dropout(0.5),\n",
        "    layers.Dense(1, activation=\"sigmoid\")\n",
        "])\n",
        "model.compile(optimizer=\"rmsprop\",\n",
        "              loss=\"binary_crossentropy\",\n",
        "              metrics=[\"accuracy\"])\n",
        "history_dropout = model.fit(\n",
        "    train_data, train_labels,\n",
        "    epochs=20, batch_size=512, validation_split=0.4)"
      ]
    },
    {
      "cell_type": "markdown",
      "metadata": {
        "id": "qdyqcIBkbbe-"
      },
      "source": [
        "## Summary"
      ]
    }
  ],
  "metadata": {
    "colab": {
      "collapsed_sections": [],
      "name": "chapter05_fundamentals-of-ml.i",
      "provenance": [],
      "toc_visible": true
    },
    "kernelspec": {
      "display_name": "Python 3",
      "language": "python",
      "name": "python3"
    },
    "language_info": {
      "codemirror_mode": {
        "name": "ipython",
        "version": 3
      },
      "file_extension": ".py",
      "mimetype": "text/x-python",
      "name": "python",
      "nbconvert_exporter": "python",
      "pygments_lexer": "ipython3",
      "version": "3.7.0"
    },
    "accelerator": "GPU"
  },
  "nbformat": 4,
  "nbformat_minor": 0
}