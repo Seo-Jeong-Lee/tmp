{
  "cells": [
    {
      "cell_type": "markdown",
      "metadata": {
        "id": "uFOn2rCqbbew"
      },
      "source": [
        "This is a companion notebook for the book [Deep Learning with Python, Second Edition](https://www.manning.com/books/deep-learning-with-python-second-edition?a_aid=keras&a_bid=76564dff). For readability, it only contains runnable code blocks and section titles, and omits everything else in the book: text paragraphs, figures, and pseudocode.\n",
        "\n",
        "**If you want to be able to follow what's going on, I recommend reading the notebook side by side with your copy of the book.**\n",
        "\n",
        "This notebook was generated for TensorFlow 2.6."
      ]
    },
    {
      "cell_type": "markdown",
      "metadata": {
        "id": "8i8t5ufMbbez"
      },
      "source": [
        "# Fundamentals of machine learning"
      ]
    },
    {
      "cell_type": "markdown",
      "metadata": {
        "id": "XSIVcqj2bbe0"
      },
      "source": [
        "## Generalization: The goal of machine learning"
      ]
    },
    {
      "cell_type": "markdown",
      "metadata": {
        "id": "sOJwjBu1bbe0"
      },
      "source": [
        "### Underfitting and overfitting"
      ]
    },
    {
      "cell_type": "markdown",
      "metadata": {
        "id": "qU9kfN6Ubbe0"
      },
      "source": [
        "#### Noisy training data"
      ]
    },
    {
      "cell_type": "markdown",
      "metadata": {
        "id": "mbK8SlW-bbe0"
      },
      "source": [
        "#### Ambiguous features"
      ]
    },
    {
      "cell_type": "markdown",
      "metadata": {
        "id": "Cq4q61Rhbbe1"
      },
      "source": [
        "#### Rare features and spurious correlations"
      ]
    },
    {
      "cell_type": "markdown",
      "metadata": {
        "id": "cT7ISnSebbe1"
      },
      "source": [
        "**Adding white-noise channels or all-zeros channels to MNIST**"
      ]
    },
    {
      "cell_type": "code",
      "execution_count": 1,
      "metadata": {
        "colab": {
          "base_uri": "https://localhost:8080/"
        },
        "id": "7MZ6tqxTbbe2",
        "outputId": "3c9a91c1-4dcd-4f99-c962-34ff234690cb"
      },
      "outputs": [
        {
          "output_type": "stream",
          "name": "stdout",
          "text": [
            "Downloading data from https://storage.googleapis.com/tensorflow/tf-keras-datasets/mnist.npz\n",
            "11493376/11490434 [==============================] - 0s 0us/step\n",
            "11501568/11490434 [==============================] - 0s 0us/step\n"
          ]
        }
      ],
      "source": [
        "from tensorflow.keras.datasets import mnist\n",
        "import numpy as np\n",
        "\n",
        "(train_images, train_labels), _ = mnist.load_data()\n",
        "train_images = train_images.reshape((60000, 28 * 28))\n",
        "train_images = train_images.astype(\"float32\") / 255\n",
        "\n",
        "train_images_with_noise_channels = np.concatenate(\n",
        "    [train_images, np.random.random((len(train_images), 784))], axis=1)\n",
        "\n",
        "train_images_with_zeros_channels = np.concatenate(\n",
        "    [train_images, np.zeros((len(train_images), 784))], axis=1)"
      ]
    },
    {
      "cell_type": "code",
      "source": [
        "train_images.shape"
      ],
      "metadata": {
        "colab": {
          "base_uri": "https://localhost:8080/"
        },
        "id": "dh48-t23btd1",
        "outputId": "e7dfd5d0-4122-491d-e9ff-0840a446cdc3"
      },
      "execution_count": 2,
      "outputs": [
        {
          "output_type": "execute_result",
          "data": {
            "text/plain": [
              "(60000, 784)"
            ]
          },
          "metadata": {},
          "execution_count": 2
        }
      ]
    },
    {
      "cell_type": "code",
      "source": [
        "(len(train_images), 784)"
      ],
      "metadata": {
        "colab": {
          "base_uri": "https://localhost:8080/"
        },
        "id": "nKHM632KcB_n",
        "outputId": "a3246f66-89c5-44f9-ec7c-d6e257ff5bb7"
      },
      "execution_count": 3,
      "outputs": [
        {
          "output_type": "execute_result",
          "data": {
            "text/plain": [
              "(60000, 784)"
            ]
          },
          "metadata": {},
          "execution_count": 3
        }
      ]
    },
    {
      "cell_type": "code",
      "source": [
        "train_images_with_noise_channels.shape"
      ],
      "metadata": {
        "colab": {
          "base_uri": "https://localhost:8080/"
        },
        "id": "PI9PYgUqcIG4",
        "outputId": "52f5faf5-7354-4aa1-f81a-b60c11decd48"
      },
      "execution_count": 4,
      "outputs": [
        {
          "output_type": "execute_result",
          "data": {
            "text/plain": [
              "(60000, 1568)"
            ]
          },
          "metadata": {},
          "execution_count": 4
        }
      ]
    },
    {
      "cell_type": "code",
      "source": [
        "train_images_with_zeros_channels.shape"
      ],
      "metadata": {
        "colab": {
          "base_uri": "https://localhost:8080/"
        },
        "id": "CRNZr1aqcLAI",
        "outputId": "7f29233b-24a8-46c0-966d-04a54bc0c4e0"
      },
      "execution_count": 5,
      "outputs": [
        {
          "output_type": "execute_result",
          "data": {
            "text/plain": [
              "(60000, 1568)"
            ]
          },
          "metadata": {},
          "execution_count": 5
        }
      ]
    },
    {
      "cell_type": "markdown",
      "metadata": {
        "id": "nFfh56JAbbe3"
      },
      "source": [
        "**Training the same model on MNIST data with noise channels or all-zero channels**"
      ]
    },
    {
      "cell_type": "code",
      "execution_count": 6,
      "metadata": {
        "colab": {
          "base_uri": "https://localhost:8080/"
        },
        "id": "6U9HR4Vxbbe3",
        "outputId": "b8323030-2292-4d88-b22c-b4280f85f8a7"
      },
      "outputs": [
        {
          "output_type": "stream",
          "name": "stdout",
          "text": [
            "Epoch 1/10\n",
            "375/375 [==============================] - 6s 6ms/step - loss: 0.6106 - accuracy: 0.8132 - val_loss: 0.3181 - val_accuracy: 0.8956\n",
            "Epoch 2/10\n",
            "375/375 [==============================] - 2s 5ms/step - loss: 0.2555 - accuracy: 0.9203 - val_loss: 0.2458 - val_accuracy: 0.9245\n",
            "Epoch 3/10\n",
            "375/375 [==============================] - 2s 5ms/step - loss: 0.1641 - accuracy: 0.9495 - val_loss: 0.1487 - val_accuracy: 0.9576\n",
            "Epoch 4/10\n",
            "375/375 [==============================] - 2s 5ms/step - loss: 0.1177 - accuracy: 0.9633 - val_loss: 0.1399 - val_accuracy: 0.9590\n",
            "Epoch 5/10\n",
            "375/375 [==============================] - 2s 5ms/step - loss: 0.0877 - accuracy: 0.9727 - val_loss: 0.1364 - val_accuracy: 0.9617\n",
            "Epoch 6/10\n",
            "375/375 [==============================] - 2s 5ms/step - loss: 0.0645 - accuracy: 0.9795 - val_loss: 0.1180 - val_accuracy: 0.9685\n",
            "Epoch 7/10\n",
            "375/375 [==============================] - 2s 5ms/step - loss: 0.0481 - accuracy: 0.9842 - val_loss: 0.1296 - val_accuracy: 0.9644\n",
            "Epoch 8/10\n",
            "375/375 [==============================] - 2s 5ms/step - loss: 0.0366 - accuracy: 0.9885 - val_loss: 0.1318 - val_accuracy: 0.9670\n",
            "Epoch 9/10\n",
            "375/375 [==============================] - 2s 5ms/step - loss: 0.0285 - accuracy: 0.9899 - val_loss: 0.1334 - val_accuracy: 0.9673\n",
            "Epoch 10/10\n",
            "375/375 [==============================] - 2s 5ms/step - loss: 0.0222 - accuracy: 0.9929 - val_loss: 0.1405 - val_accuracy: 0.9674\n",
            "Epoch 1/10\n",
            "375/375 [==============================] - 3s 6ms/step - loss: 0.2893 - accuracy: 0.9159 - val_loss: 0.1395 - val_accuracy: 0.9600\n",
            "Epoch 2/10\n",
            "375/375 [==============================] - 2s 5ms/step - loss: 0.1171 - accuracy: 0.9660 - val_loss: 0.1119 - val_accuracy: 0.9677\n",
            "Epoch 3/10\n",
            "375/375 [==============================] - 2s 5ms/step - loss: 0.0787 - accuracy: 0.9768 - val_loss: 0.1072 - val_accuracy: 0.9672\n",
            "Epoch 4/10\n",
            "375/375 [==============================] - 2s 5ms/step - loss: 0.0554 - accuracy: 0.9836 - val_loss: 0.0791 - val_accuracy: 0.9770\n",
            "Epoch 5/10\n",
            "375/375 [==============================] - 2s 5ms/step - loss: 0.0424 - accuracy: 0.9874 - val_loss: 0.0861 - val_accuracy: 0.9751\n",
            "Epoch 6/10\n",
            "375/375 [==============================] - 2s 5ms/step - loss: 0.0315 - accuracy: 0.9908 - val_loss: 0.0785 - val_accuracy: 0.9780\n",
            "Epoch 7/10\n",
            "375/375 [==============================] - 2s 5ms/step - loss: 0.0239 - accuracy: 0.9930 - val_loss: 0.0764 - val_accuracy: 0.9778\n",
            "Epoch 8/10\n",
            "375/375 [==============================] - 2s 5ms/step - loss: 0.0186 - accuracy: 0.9947 - val_loss: 0.0842 - val_accuracy: 0.9786\n",
            "Epoch 9/10\n",
            "375/375 [==============================] - 2s 5ms/step - loss: 0.0134 - accuracy: 0.9965 - val_loss: 0.0908 - val_accuracy: 0.9787\n",
            "Epoch 10/10\n",
            "375/375 [==============================] - 2s 5ms/step - loss: 0.0106 - accuracy: 0.9973 - val_loss: 0.0928 - val_accuracy: 0.9781\n"
          ]
        }
      ],
      "source": [
        "from tensorflow import keras\n",
        "from tensorflow.keras import layers\n",
        "\n",
        "#model 정의\n",
        "def get_model():\n",
        "    model = keras.Sequential([\n",
        "        layers.Dense(512, activation=\"relu\"),\n",
        "        layers.Dense(10, activation=\"softmax\")\n",
        "    ])\n",
        "    model.compile(optimizer=\"rmsprop\",\n",
        "                  loss=\"sparse_categorical_crossentropy\",\n",
        "                  metrics=[\"accuracy\"])\n",
        "    return model\n",
        "\n",
        "#model training\n",
        "model = get_model()\n",
        "history_noise = model.fit(\n",
        "    train_images_with_noise_channels, train_labels,\n",
        "    epochs=10,\n",
        "    batch_size=128,\n",
        "    validation_split=0.2)\n",
        "\n",
        "model = get_model()\n",
        "history_zeros = model.fit(\n",
        "    train_images_with_zeros_channels, train_labels,\n",
        "    epochs=10,\n",
        "    batch_size=128,\n",
        "    validation_split=0.2)"
      ]
    },
    {
      "cell_type": "code",
      "source": [
        "#noise와 zero가 각각 accuracy에 미치는 영향을 알아보기 위해 original data를 만드는 과정\n",
        "model = get_model()\n",
        "history1 = model.fit(\n",
        "    train_images_with_zeros_channels, train_labels,\n",
        "    epochs=10,\n",
        "    batch_size=128,\n",
        "    validation_split=0.2)"
      ],
      "metadata": {
        "colab": {
          "base_uri": "https://localhost:8080/"
        },
        "id": "t9gyNkCFdQFO",
        "outputId": "b0ce30d9-db2e-426c-ae16-056af63f6812"
      },
      "execution_count": 7,
      "outputs": [
        {
          "output_type": "stream",
          "name": "stdout",
          "text": [
            "Epoch 1/10\n",
            "375/375 [==============================] - 3s 6ms/step - loss: 0.2839 - accuracy: 0.9179 - val_loss: 0.1379 - val_accuracy: 0.9607\n",
            "Epoch 2/10\n",
            "375/375 [==============================] - 2s 5ms/step - loss: 0.1183 - accuracy: 0.9647 - val_loss: 0.1089 - val_accuracy: 0.9665\n",
            "Epoch 3/10\n",
            "375/375 [==============================] - 2s 5ms/step - loss: 0.0772 - accuracy: 0.9769 - val_loss: 0.0967 - val_accuracy: 0.9714\n",
            "Epoch 4/10\n",
            "375/375 [==============================] - 2s 5ms/step - loss: 0.0570 - accuracy: 0.9832 - val_loss: 0.0867 - val_accuracy: 0.9742\n",
            "Epoch 5/10\n",
            "375/375 [==============================] - 2s 5ms/step - loss: 0.0419 - accuracy: 0.9877 - val_loss: 0.0862 - val_accuracy: 0.9769\n",
            "Epoch 6/10\n",
            "375/375 [==============================] - 2s 5ms/step - loss: 0.0315 - accuracy: 0.9902 - val_loss: 0.0817 - val_accuracy: 0.9770\n",
            "Epoch 7/10\n",
            "375/375 [==============================] - 2s 5ms/step - loss: 0.0246 - accuracy: 0.9926 - val_loss: 0.0817 - val_accuracy: 0.9761\n",
            "Epoch 8/10\n",
            "375/375 [==============================] - 2s 5ms/step - loss: 0.0188 - accuracy: 0.9945 - val_loss: 0.0778 - val_accuracy: 0.9794\n",
            "Epoch 9/10\n",
            "375/375 [==============================] - 2s 5ms/step - loss: 0.0143 - accuracy: 0.9956 - val_loss: 0.0835 - val_accuracy: 0.9803\n",
            "Epoch 10/10\n",
            "375/375 [==============================] - 2s 5ms/step - loss: 0.0106 - accuracy: 0.9972 - val_loss: 0.0961 - val_accuracy: 0.9773\n"
          ]
        }
      ]
    },
    {
      "cell_type": "markdown",
      "metadata": {
        "id": "G1UROm5Zbbe4"
      },
      "source": [
        "**Plotting a validation accuracy comparison**"
      ]
    },
    {
      "cell_type": "code",
      "execution_count": 8,
      "metadata": {
        "colab": {
          "base_uri": "https://localhost:8080/",
          "height": 313
        },
        "id": "kaanOl5Vbbe4",
        "outputId": "3b25620f-7fe5-44b8-831e-46bc2193cdc7"
      },
      "outputs": [
        {
          "output_type": "execute_result",
          "data": {
            "text/plain": [
              "<matplotlib.legend.Legend at 0x7f44000bcfd0>"
            ]
          },
          "metadata": {},
          "execution_count": 8
        },
        {
          "output_type": "display_data",
          "data": {
            "text/plain": [
              "<Figure size 432x288 with 1 Axes>"
            ],
            "image/png": "[encoded data removed]"
          },
          "metadata": {
            "needs_background": "light"
          }
        }
      ],
      "source": [
        "#zero를 add하는 것은 accuracy에 큰 차이가 없어 보이지만, noise는 accuracy에 심각한 bad effect를 가져온다 -> noise는 피하자\n",
        "import matplotlib.pyplot as plt\n",
        "val_acc_noise = history_noise.history[\"val_accuracy\"]\n",
        "val_acc_zeros = history_zeros.history[\"val_accuracy\"]\n",
        "epochs = range(1, 11)\n",
        "plt.plot(epochs, val_acc_noise, \"b-\",\n",
        "         label=\"Validation accuracy with noise channels\")\n",
        "plt.plot(epochs, val_acc_zeros, \"b--\",\n",
        "         label=\"Validation accuracy with zeros channels\")\n",
        "plt.title(\"Effect of noise channels on validation accuracy\")\n",
        "plt.xlabel(\"Epochs\")\n",
        "plt.ylabel(\"Accuracy\")\n",
        "plt.legend()"
      ]
    },
    {
      "cell_type": "code",
      "source": [
        "#zero channels는 original data의 accuracy와 큰 차이가 없어보임\n",
        "import matplotlib.pyplot as plt\n",
        "val_acc = history1.history[\"val_accuracy\"]\n",
        "val_acc_zeros = history_zeros.history[\"val_accuracy\"]\n",
        "epochs = range(1, 11)\n",
        "plt.plot(epochs, val_acc, \"b-\",\n",
        "         label=\"Validation accuracy with original data\")\n",
        "plt.plot(epochs, val_acc_zeros, \"b--\",\n",
        "         label=\"Validation accuracy with zeros channels\")\n",
        "plt.title(\"Effect of original channels on validation accuracy\")\n",
        "plt.xlabel(\"Epochs\")\n",
        "plt.ylabel(\"Accuracy\")\n",
        "plt.legend()"
      ],
      "metadata": {
        "colab": {
          "base_uri": "https://localhost:8080/",
          "height": 313
        },
        "id": "4ke00vIxc2N4",
        "outputId": "cafb13a7-ac93-4624-f9f0-8283d786f10e"
      },
      "execution_count": 9,
      "outputs": [
        {
          "output_type": "execute_result",
          "data": {
            "text/plain": [
              "<matplotlib.legend.Legend at 0x7f4400104e50>"
            ]
          },
          "metadata": {},
          "execution_count": 9
        },
        {
          "output_type": "display_data",
          "data": {
            "text/plain": [
              "<Figure size 432x288 with 1 Axes>"
            ],
            "image/png": "[encoded data removed]"
          },
          "metadata": {
            "needs_background": "light"
          }
        }
      ]
    },
    {
      "cell_type": "markdown",
      "metadata": {
        "id": "-XHvMPtHbbe4"
      },
      "source": [
        "### The nature of generalization in deep learning"
      ]
    },
    {
      "cell_type": "markdown",
      "metadata": {
        "id": "F7h8FbBWbbe5"
      },
      "source": [
        "**Fitting a MNIST model with randomly shuffled labels**"
      ]
    },
    {
      "cell_type": "code",
      "execution_count": 10,
      "metadata": {
        "colab": {
          "base_uri": "https://localhost:8080/"
        },
        "id": "o9TdJrZsbbe5",
        "outputId": "b8a92f1a-1d42-4c3b-ceeb-95a22f755d62"
      },
      "outputs": [
        {
          "output_type": "stream",
          "name": "stdout",
          "text": [
            "Epoch 1/100\n",
            "375/375 [==============================] - 2s 5ms/step - loss: 2.3179 - accuracy: 0.1016 - val_loss: 2.3075 - val_accuracy: 0.1077\n",
            "Epoch 2/100\n",
            "375/375 [==============================] - 2s 4ms/step - loss: 2.2989 - accuracy: 0.1158 - val_loss: 2.3173 - val_accuracy: 0.1006\n",
            "Epoch 3/100\n",
            "375/375 [==============================] - 2s 4ms/step - loss: 2.2892 - accuracy: 0.1286 - val_loss: 2.3175 - val_accuracy: 0.1047\n",
            "Epoch 4/100\n",
            "375/375 [==============================] - 2s 4ms/step - loss: 2.2754 - accuracy: 0.1394 - val_loss: 2.3310 - val_accuracy: 0.0961\n",
            "Epoch 5/100\n",
            "375/375 [==============================] - 2s 5ms/step - loss: 2.2579 - accuracy: 0.1554 - val_loss: 2.3398 - val_accuracy: 0.1008\n",
            "Epoch 6/100\n",
            "375/375 [==============================] - 2s 5ms/step - loss: 2.2362 - accuracy: 0.1688 - val_loss: 2.3564 - val_accuracy: 0.1006\n",
            "Epoch 7/100\n",
            "375/375 [==============================] - 2s 4ms/step - loss: 2.2115 - accuracy: 0.1852 - val_loss: 2.3716 - val_accuracy: 0.0973\n",
            "Epoch 8/100\n",
            "375/375 [==============================] - 2s 4ms/step - loss: 2.1840 - accuracy: 0.2018 - val_loss: 2.3894 - val_accuracy: 0.0978\n",
            "Epoch 9/100\n",
            "375/375 [==============================] - 2s 4ms/step - loss: 2.1543 - accuracy: 0.2151 - val_loss: 2.4085 - val_accuracy: 0.1001\n",
            "Epoch 10/100\n",
            "375/375 [==============================] - 2s 5ms/step - loss: 2.1223 - accuracy: 0.2323 - val_loss: 2.4276 - val_accuracy: 0.1002\n",
            "Epoch 11/100\n",
            "375/375 [==============================] - 2s 5ms/step - loss: 2.0886 - accuracy: 0.2506 - val_loss: 2.4517 - val_accuracy: 0.1019\n",
            "Epoch 12/100\n",
            "375/375 [==============================] - 2s 4ms/step - loss: 2.0560 - accuracy: 0.2638 - val_loss: 2.4732 - val_accuracy: 0.0969\n",
            "Epoch 13/100\n",
            "375/375 [==============================] - 2s 4ms/step - loss: 2.0228 - accuracy: 0.2801 - val_loss: 2.4993 - val_accuracy: 0.1004\n",
            "Epoch 14/100\n",
            "375/375 [==============================] - 2s 4ms/step - loss: 1.9877 - accuracy: 0.2936 - val_loss: 2.5322 - val_accuracy: 0.1002\n",
            "Epoch 15/100\n",
            "375/375 [==============================] - 2s 4ms/step - loss: 1.9541 - accuracy: 0.3096 - val_loss: 2.5763 - val_accuracy: 0.0991\n",
            "Epoch 16/100\n",
            "375/375 [==============================] - 2s 4ms/step - loss: 1.9177 - accuracy: 0.3248 - val_loss: 2.6036 - val_accuracy: 0.1002\n",
            "Epoch 17/100\n",
            "375/375 [==============================] - 2s 5ms/step - loss: 1.8855 - accuracy: 0.3385 - val_loss: 2.6302 - val_accuracy: 0.0973\n",
            "Epoch 18/100\n",
            "375/375 [==============================] - 2s 5ms/step - loss: 1.8499 - accuracy: 0.3517 - val_loss: 2.6593 - val_accuracy: 0.0974\n",
            "Epoch 19/100\n",
            "375/375 [==============================] - 2s 4ms/step - loss: 1.8160 - accuracy: 0.3638 - val_loss: 2.6900 - val_accuracy: 0.1003\n",
            "Epoch 20/100\n",
            "375/375 [==============================] - 2s 4ms/step - loss: 1.7866 - accuracy: 0.3760 - val_loss: 2.7333 - val_accuracy: 0.0994\n",
            "Epoch 21/100\n",
            "375/375 [==============================] - 2s 4ms/step - loss: 1.7527 - accuracy: 0.3899 - val_loss: 2.7773 - val_accuracy: 0.0996\n",
            "Epoch 22/100\n",
            "375/375 [==============================] - 2s 5ms/step - loss: 1.7210 - accuracy: 0.4011 - val_loss: 2.8297 - val_accuracy: 0.0976\n",
            "Epoch 23/100\n",
            "375/375 [==============================] - 2s 4ms/step - loss: 1.6900 - accuracy: 0.4119 - val_loss: 2.8330 - val_accuracy: 0.0982\n",
            "Epoch 24/100\n",
            "375/375 [==============================] - 2s 4ms/step - loss: 1.6602 - accuracy: 0.4259 - val_loss: 2.8872 - val_accuracy: 0.0985\n",
            "Epoch 25/100\n",
            "375/375 [==============================] - 2s 4ms/step - loss: 1.6308 - accuracy: 0.4373 - val_loss: 2.9344 - val_accuracy: 0.0970\n",
            "Epoch 26/100\n",
            "375/375 [==============================] - 2s 5ms/step - loss: 1.6014 - accuracy: 0.4493 - val_loss: 2.9543 - val_accuracy: 0.0978\n",
            "Epoch 27/100\n",
            "375/375 [==============================] - 2s 5ms/step - loss: 1.5719 - accuracy: 0.4582 - val_loss: 3.0257 - val_accuracy: 0.0987\n",
            "Epoch 28/100\n",
            "375/375 [==============================] - 2s 4ms/step - loss: 1.5455 - accuracy: 0.4704 - val_loss: 3.0626 - val_accuracy: 0.1013\n",
            "Epoch 29/100\n",
            "375/375 [==============================] - 2s 5ms/step - loss: 1.5202 - accuracy: 0.4798 - val_loss: 3.1026 - val_accuracy: 0.1027\n",
            "Epoch 30/100\n",
            "375/375 [==============================] - 2s 4ms/step - loss: 1.4907 - accuracy: 0.4900 - val_loss: 3.1349 - val_accuracy: 0.0981\n",
            "Epoch 31/100\n",
            "375/375 [==============================] - 2s 4ms/step - loss: 1.4649 - accuracy: 0.4985 - val_loss: 3.1939 - val_accuracy: 0.0985\n",
            "Epoch 32/100\n",
            "375/375 [==============================] - 2s 5ms/step - loss: 1.4384 - accuracy: 0.5069 - val_loss: 3.2595 - val_accuracy: 0.0967\n",
            "Epoch 33/100\n",
            "375/375 [==============================] - 2s 5ms/step - loss: 1.4166 - accuracy: 0.5192 - val_loss: 3.2861 - val_accuracy: 0.0961\n",
            "Epoch 34/100\n",
            "375/375 [==============================] - 2s 5ms/step - loss: 1.3917 - accuracy: 0.5246 - val_loss: 3.3496 - val_accuracy: 0.0981\n",
            "Epoch 35/100\n",
            "375/375 [==============================] - 2s 4ms/step - loss: 1.3670 - accuracy: 0.5342 - val_loss: 3.3912 - val_accuracy: 0.0980\n",
            "Epoch 36/100\n",
            "375/375 [==============================] - 2s 4ms/step - loss: 1.3449 - accuracy: 0.5429 - val_loss: 3.4330 - val_accuracy: 0.1025\n",
            "Epoch 37/100\n",
            "375/375 [==============================] - 2s 4ms/step - loss: 1.3230 - accuracy: 0.5502 - val_loss: 3.4891 - val_accuracy: 0.0966\n",
            "Epoch 38/100\n",
            "375/375 [==============================] - 2s 4ms/step - loss: 1.2995 - accuracy: 0.5568 - val_loss: 3.5468 - val_accuracy: 0.0982\n",
            "Epoch 39/100\n",
            "375/375 [==============================] - 2s 4ms/step - loss: 1.2787 - accuracy: 0.5684 - val_loss: 3.5895 - val_accuracy: 0.1000\n",
            "Epoch 40/100\n",
            "375/375 [==============================] - 2s 5ms/step - loss: 1.2568 - accuracy: 0.5724 - val_loss: 3.6445 - val_accuracy: 0.0975\n",
            "Epoch 41/100\n",
            "375/375 [==============================] - 2s 5ms/step - loss: 1.2365 - accuracy: 0.5832 - val_loss: 3.6806 - val_accuracy: 0.1003\n",
            "Epoch 42/100\n",
            "375/375 [==============================] - 2s 4ms/step - loss: 1.2185 - accuracy: 0.5888 - val_loss: 3.7273 - val_accuracy: 0.1003\n",
            "Epoch 43/100\n",
            "375/375 [==============================] - 2s 5ms/step - loss: 1.1952 - accuracy: 0.5958 - val_loss: 3.7803 - val_accuracy: 0.0967\n",
            "Epoch 44/100\n",
            "375/375 [==============================] - 2s 5ms/step - loss: 1.1796 - accuracy: 0.6042 - val_loss: 3.8317 - val_accuracy: 0.1024\n",
            "Epoch 45/100\n",
            "375/375 [==============================] - 2s 4ms/step - loss: 1.1582 - accuracy: 0.6107 - val_loss: 3.8939 - val_accuracy: 0.0965\n",
            "Epoch 46/100\n",
            "375/375 [==============================] - 2s 4ms/step - loss: 1.1404 - accuracy: 0.6177 - val_loss: 3.9377 - val_accuracy: 0.0978\n",
            "Epoch 47/100\n",
            "375/375 [==============================] - 2s 5ms/step - loss: 1.1203 - accuracy: 0.6226 - val_loss: 4.0067 - val_accuracy: 0.0980\n",
            "Epoch 48/100\n",
            "375/375 [==============================] - 2s 5ms/step - loss: 1.1032 - accuracy: 0.6289 - val_loss: 4.0671 - val_accuracy: 0.0973\n",
            "Epoch 49/100\n",
            "375/375 [==============================] - 2s 4ms/step - loss: 1.0851 - accuracy: 0.6356 - val_loss: 4.1184 - val_accuracy: 0.1005\n",
            "Epoch 50/100\n",
            "375/375 [==============================] - 2s 5ms/step - loss: 1.0701 - accuracy: 0.6407 - val_loss: 4.1874 - val_accuracy: 0.0983\n",
            "Epoch 51/100\n",
            "375/375 [==============================] - 2s 5ms/step - loss: 1.0515 - accuracy: 0.6474 - val_loss: 4.2462 - val_accuracy: 0.1003\n",
            "Epoch 52/100\n",
            "375/375 [==============================] - 2s 5ms/step - loss: 1.0362 - accuracy: 0.6527 - val_loss: 4.2863 - val_accuracy: 0.0989\n",
            "Epoch 53/100\n",
            "375/375 [==============================] - 2s 4ms/step - loss: 1.0190 - accuracy: 0.6578 - val_loss: 4.3561 - val_accuracy: 0.1001\n",
            "Epoch 54/100\n",
            "375/375 [==============================] - 2s 5ms/step - loss: 1.0050 - accuracy: 0.6642 - val_loss: 4.3928 - val_accuracy: 0.0992\n",
            "Epoch 55/100\n",
            "375/375 [==============================] - 2s 4ms/step - loss: 0.9881 - accuracy: 0.6700 - val_loss: 4.4400 - val_accuracy: 0.0998\n",
            "Epoch 56/100\n",
            "375/375 [==============================] - 2s 4ms/step - loss: 0.9753 - accuracy: 0.6739 - val_loss: 4.5332 - val_accuracy: 0.0982\n",
            "Epoch 57/100\n",
            "375/375 [==============================] - 2s 4ms/step - loss: 0.9571 - accuracy: 0.6813 - val_loss: 4.5862 - val_accuracy: 0.0985\n",
            "Epoch 58/100\n",
            "375/375 [==============================] - 2s 4ms/step - loss: 0.9411 - accuracy: 0.6878 - val_loss: 4.6483 - val_accuracy: 0.0989\n",
            "Epoch 59/100\n",
            "375/375 [==============================] - 2s 4ms/step - loss: 0.9263 - accuracy: 0.6916 - val_loss: 4.7008 - val_accuracy: 0.0983\n",
            "Epoch 60/100\n",
            "375/375 [==============================] - 2s 4ms/step - loss: 0.9121 - accuracy: 0.6956 - val_loss: 4.7720 - val_accuracy: 0.0970\n",
            "Epoch 61/100\n",
            "375/375 [==============================] - 2s 4ms/step - loss: 0.9005 - accuracy: 0.7013 - val_loss: 4.7880 - val_accuracy: 0.0997\n",
            "Epoch 62/100\n",
            "375/375 [==============================] - 2s 4ms/step - loss: 0.8862 - accuracy: 0.7051 - val_loss: 4.8823 - val_accuracy: 0.0988\n",
            "Epoch 63/100\n",
            "375/375 [==============================] - 2s 5ms/step - loss: 0.8719 - accuracy: 0.7090 - val_loss: 4.9183 - val_accuracy: 0.1004\n",
            "Epoch 64/100\n",
            "375/375 [==============================] - 2s 4ms/step - loss: 0.8591 - accuracy: 0.7156 - val_loss: 4.9647 - val_accuracy: 0.0983\n",
            "Epoch 65/100\n",
            "375/375 [==============================] - 2s 5ms/step - loss: 0.8451 - accuracy: 0.7204 - val_loss: 5.0612 - val_accuracy: 0.0972\n",
            "Epoch 66/100\n",
            "375/375 [==============================] - 2s 4ms/step - loss: 0.8346 - accuracy: 0.7247 - val_loss: 5.1015 - val_accuracy: 0.0997\n",
            "Epoch 67/100\n",
            "375/375 [==============================] - 2s 5ms/step - loss: 0.8189 - accuracy: 0.7304 - val_loss: 5.1807 - val_accuracy: 0.0968\n",
            "Epoch 68/100\n",
            "375/375 [==============================] - 2s 4ms/step - loss: 0.8056 - accuracy: 0.7349 - val_loss: 5.2239 - val_accuracy: 0.0976\n",
            "Epoch 69/100\n",
            "375/375 [==============================] - 2s 5ms/step - loss: 0.7938 - accuracy: 0.7392 - val_loss: 5.2893 - val_accuracy: 0.0994\n",
            "Epoch 70/100\n",
            "375/375 [==============================] - 2s 4ms/step - loss: 0.7844 - accuracy: 0.7410 - val_loss: 5.3594 - val_accuracy: 0.0983\n",
            "Epoch 71/100\n",
            "375/375 [==============================] - 2s 5ms/step - loss: 0.7718 - accuracy: 0.7481 - val_loss: 5.4265 - val_accuracy: 0.0978\n",
            "Epoch 72/100\n",
            "375/375 [==============================] - 2s 5ms/step - loss: 0.7633 - accuracy: 0.7481 - val_loss: 5.4825 - val_accuracy: 0.0994\n",
            "Epoch 73/100\n",
            "375/375 [==============================] - 2s 4ms/step - loss: 0.7499 - accuracy: 0.7548 - val_loss: 5.5062 - val_accuracy: 0.1002\n",
            "Epoch 74/100\n",
            "375/375 [==============================] - 2s 5ms/step - loss: 0.7416 - accuracy: 0.7576 - val_loss: 5.6027 - val_accuracy: 0.0982\n",
            "Epoch 75/100\n",
            "375/375 [==============================] - 2s 5ms/step - loss: 0.7251 - accuracy: 0.7635 - val_loss: 5.6715 - val_accuracy: 0.0957\n",
            "Epoch 76/100\n",
            "375/375 [==============================] - 2s 5ms/step - loss: 0.7182 - accuracy: 0.7638 - val_loss: 5.7115 - val_accuracy: 0.0964\n",
            "Epoch 77/100\n",
            "375/375 [==============================] - 2s 5ms/step - loss: 0.7055 - accuracy: 0.7695 - val_loss: 5.8140 - val_accuracy: 0.0979\n",
            "Epoch 78/100\n",
            "375/375 [==============================] - 2s 4ms/step - loss: 0.6956 - accuracy: 0.7732 - val_loss: 5.8692 - val_accuracy: 0.0967\n",
            "Epoch 79/100\n",
            "375/375 [==============================] - 2s 4ms/step - loss: 0.6868 - accuracy: 0.7754 - val_loss: 5.9423 - val_accuracy: 0.0965\n",
            "Epoch 80/100\n",
            "375/375 [==============================] - 2s 4ms/step - loss: 0.6762 - accuracy: 0.7788 - val_loss: 6.0372 - val_accuracy: 0.0987\n",
            "Epoch 81/100\n",
            "375/375 [==============================] - 2s 4ms/step - loss: 0.6668 - accuracy: 0.7841 - val_loss: 6.0721 - val_accuracy: 0.0981\n",
            "Epoch 82/100\n",
            "375/375 [==============================] - 2s 5ms/step - loss: 0.6537 - accuracy: 0.7894 - val_loss: 6.1178 - val_accuracy: 0.0971\n",
            "Epoch 83/100\n",
            "375/375 [==============================] - 2s 5ms/step - loss: 0.6440 - accuracy: 0.7910 - val_loss: 6.1962 - val_accuracy: 0.0983\n",
            "Epoch 84/100\n",
            "375/375 [==============================] - 2s 5ms/step - loss: 0.6356 - accuracy: 0.7939 - val_loss: 6.2445 - val_accuracy: 0.1002\n",
            "Epoch 85/100\n",
            "375/375 [==============================] - 2s 5ms/step - loss: 0.6275 - accuracy: 0.7972 - val_loss: 6.3512 - val_accuracy: 0.0958\n",
            "Epoch 86/100\n",
            "375/375 [==============================] - 2s 4ms/step - loss: 0.6185 - accuracy: 0.7986 - val_loss: 6.3750 - val_accuracy: 0.0993\n",
            "Epoch 87/100\n",
            "375/375 [==============================] - 2s 5ms/step - loss: 0.6081 - accuracy: 0.8028 - val_loss: 6.4737 - val_accuracy: 0.0993\n",
            "Epoch 88/100\n",
            "375/375 [==============================] - 2s 4ms/step - loss: 0.5982 - accuracy: 0.8078 - val_loss: 6.5732 - val_accuracy: 0.0971\n",
            "Epoch 89/100\n",
            "375/375 [==============================] - 2s 4ms/step - loss: 0.5911 - accuracy: 0.8111 - val_loss: 6.6435 - val_accuracy: 0.0997\n",
            "Epoch 90/100\n",
            "375/375 [==============================] - 2s 4ms/step - loss: 0.5833 - accuracy: 0.8123 - val_loss: 6.6938 - val_accuracy: 0.0971\n",
            "Epoch 91/100\n",
            "375/375 [==============================] - 2s 4ms/step - loss: 0.5738 - accuracy: 0.8146 - val_loss: 6.7465 - val_accuracy: 0.0970\n",
            "Epoch 92/100\n",
            "375/375 [==============================] - 2s 5ms/step - loss: 0.5673 - accuracy: 0.8179 - val_loss: 6.8355 - val_accuracy: 0.0963\n",
            "Epoch 93/100\n",
            "375/375 [==============================] - 2s 4ms/step - loss: 0.5584 - accuracy: 0.8207 - val_loss: 6.8680 - val_accuracy: 0.0981\n",
            "Epoch 94/100\n",
            "375/375 [==============================] - 2s 4ms/step - loss: 0.5514 - accuracy: 0.8235 - val_loss: 6.9598 - val_accuracy: 0.0967\n",
            "Epoch 95/100\n",
            "375/375 [==============================] - 2s 4ms/step - loss: 0.5424 - accuracy: 0.8253 - val_loss: 7.0320 - val_accuracy: 0.0993\n",
            "Epoch 96/100\n",
            "375/375 [==============================] - 2s 5ms/step - loss: 0.5316 - accuracy: 0.8300 - val_loss: 7.0985 - val_accuracy: 0.0954\n",
            "Epoch 97/100\n",
            "375/375 [==============================] - 2s 4ms/step - loss: 0.5282 - accuracy: 0.8307 - val_loss: 7.1381 - val_accuracy: 0.0992\n",
            "Epoch 98/100\n",
            "375/375 [==============================] - 2s 4ms/step - loss: 0.5200 - accuracy: 0.8331 - val_loss: 7.2460 - val_accuracy: 0.0967\n",
            "Epoch 99/100\n",
            "375/375 [==============================] - 2s 5ms/step - loss: 0.5124 - accuracy: 0.8361 - val_loss: 7.2895 - val_accuracy: 0.0976\n",
            "Epoch 100/100\n",
            "375/375 [==============================] - 2s 5ms/step - loss: 0.5066 - accuracy: 0.8396 - val_loss: 7.3211 - val_accuracy: 0.0980\n"
          ]
        },
        {
          "output_type": "execute_result",
          "data": {
            "text/plain": [
              "<keras.callbacks.History at 0x7f4387267ad0>"
            ]
          },
          "metadata": {},
          "execution_count": 10
        }
      ],
      "source": [
        "(train_images, train_labels), _ = mnist.load_data()\n",
        "train_images = train_images.reshape((60000, 28 * 28))\n",
        "train_images = train_images.astype(\"float32\") / 255\n",
        "\n",
        "random_train_labels = train_labels[:]\n",
        "np.random.shuffle(random_train_labels)\n",
        "\n",
        "#model training 과정 : Deep Learning의 특성 'fit anything'으로 인해 epoch가 진행될 수록 accuracy는 높아지지만, val_accuaracy는 지지부진함 = 오버피팅의 발생\n",
        "model = keras.Sequential([\n",
        "    layers.Dense(512, activation=\"relu\"),\n",
        "    layers.Dense(10, activation=\"softmax\")\n",
        "])\n",
        "model.compile(optimizer=\"rmsprop\",\n",
        "              loss=\"sparse_categorical_crossentropy\",\n",
        "              metrics=[\"accuracy\"])\n",
        "model.fit(train_images, random_train_labels,\n",
        "          epochs=100,\n",
        "          batch_size=128,\n",
        "          validation_split=0.2)"
      ]
    },
    {
      "cell_type": "markdown",
      "metadata": {
        "id": "TmKN-8Y0bbe5"
      },
      "source": [
        "#### The manifold hypothesis"
      ]
    },
    {
      "cell_type": "markdown",
      "metadata": {
        "id": "bNIjItN6bbe5"
      },
      "source": [
        "#### Interpolation as a source of generalization"
      ]
    },
    {
      "cell_type": "markdown",
      "metadata": {
        "id": "ebriY204bbe5"
      },
      "source": [
        "#### Why deep learning works"
      ]
    },
    {
      "cell_type": "markdown",
      "metadata": {
        "id": "FLK0FDD8bbe5"
      },
      "source": [
        "#### Training data is paramount"
      ]
    },
    {
      "cell_type": "markdown",
      "metadata": {
        "id": "3HpCq8rEbbe6"
      },
      "source": [
        "## Evaluating machine-learning models"
      ]
    },
    {
      "cell_type": "markdown",
      "metadata": {
        "id": "DuFOzCgtbbe6"
      },
      "source": [
        "### Training, validation, and test sets"
      ]
    },
    {
      "cell_type": "markdown",
      "metadata": {
        "id": "_e66xZkRbbe6"
      },
      "source": [
        "#### Simple hold-out validation"
      ]
    },
    {
      "cell_type": "markdown",
      "metadata": {
        "id": "BwFxxxfObbe6"
      },
      "source": [
        "#### K-fold validation"
      ]
    },
    {
      "cell_type": "markdown",
      "metadata": {
        "id": "cjgkx7lAbbe6"
      },
      "source": [
        "#### Iterated K-fold validation with shuffling"
      ]
    },
    {
      "cell_type": "markdown",
      "metadata": {
        "id": "Og4mGdAQbbe6"
      },
      "source": [
        "### Beating a common-sense baseline"
      ]
    },
    {
      "cell_type": "markdown",
      "metadata": {
        "id": "vMYlCLY1bbe6"
      },
      "source": [
        "### Things to keep in mind about model evaluation"
      ]
    },
    {
      "cell_type": "markdown",
      "metadata": {
        "id": "tXVB9Y5-bbe7"
      },
      "source": [
        "## Improving model fit"
      ]
    },
    {
      "cell_type": "markdown",
      "metadata": {
        "id": "guloHkeSbbe7"
      },
      "source": [
        "### Tuning key gradient descent parameters"
      ]
    },
    {
      "cell_type": "markdown",
      "metadata": {
        "id": "LHyh-OoRbbe7"
      },
      "source": [
        "**Training a MNIST model with an incorrectly high learning rate**"
      ]
    },
    {
      "cell_type": "code",
      "execution_count": 11,
      "metadata": {
        "colab": {
          "base_uri": "https://localhost:8080/"
        },
        "id": "49uenBxjbbe7",
        "outputId": "8a10b44c-f0a4-4362-bc52-8d900419cbea"
      },
      "outputs": [
        {
          "output_type": "stream",
          "name": "stdout",
          "text": [
            "Epoch 1/10\n",
            "375/375 [==============================] - 3s 5ms/step - loss: 1219.4149 - accuracy: 0.4142 - val_loss: 2.6404 - val_accuracy: 0.3352\n",
            "Epoch 2/10\n",
            "375/375 [==============================] - 2s 5ms/step - loss: 4.2576 - accuracy: 0.2770 - val_loss: 2.1626 - val_accuracy: 0.2333\n",
            "Epoch 3/10\n",
            "375/375 [==============================] - 2s 4ms/step - loss: 3.2015 - accuracy: 0.2466 - val_loss: 2.3095 - val_accuracy: 0.2256\n",
            "Epoch 4/10\n",
            "375/375 [==============================] - 2s 5ms/step - loss: 2.8589 - accuracy: 0.2475 - val_loss: 2.0229 - val_accuracy: 0.2344\n",
            "Epoch 5/10\n",
            "375/375 [==============================] - 2s 4ms/step - loss: 2.6074 - accuracy: 0.2254 - val_loss: 2.1916 - val_accuracy: 0.2068\n",
            "Epoch 6/10\n",
            "375/375 [==============================] - 2s 5ms/step - loss: 2.5766 - accuracy: 0.2204 - val_loss: 2.1817 - val_accuracy: 0.2132\n",
            "Epoch 7/10\n",
            "375/375 [==============================] - 2s 4ms/step - loss: 2.4143 - accuracy: 0.2369 - val_loss: 1.9859 - val_accuracy: 0.2748\n",
            "Epoch 8/10\n",
            "375/375 [==============================] - 2s 4ms/step - loss: 3.0979 - accuracy: 0.2549 - val_loss: 2.2180 - val_accuracy: 0.2647\n",
            "Epoch 9/10\n",
            "375/375 [==============================] - 2s 5ms/step - loss: 2.8948 - accuracy: 0.2575 - val_loss: 2.2254 - val_accuracy: 0.2650\n",
            "Epoch 10/10\n",
            "375/375 [==============================] - 2s 4ms/step - loss: 2.3757 - accuracy: 0.2467 - val_loss: 1.9920 - val_accuracy: 0.2401\n"
          ]
        },
        {
          "output_type": "execute_result",
          "data": {
            "text/plain": [
              "<keras.callbacks.History at 0x7f4387120c10>"
            ]
          },
          "metadata": {},
          "execution_count": 11
        }
      ],
      "source": [
        "(train_images, train_labels), _ = mnist.load_data()\n",
        "train_images = train_images.reshape((60000, 28 * 28))\n",
        "train_images = train_images.astype(\"float32\") / 255\n",
        "\n",
        "model = keras.Sequential([\n",
        "    layers.Dense(512, activation=\"relu\"),\n",
        "    layers.Dense(10, activation=\"softmax\")\n",
        "])\n",
        "model.compile(optimizer=keras.optimizers.RMSprop(1.),\n",
        "              loss=\"sparse_categorical_crossentropy\",\n",
        "              metrics=[\"accuracy\"])\n",
        "model.fit(train_images, train_labels,\n",
        "          epochs=10,\n",
        "          batch_size=128,\n",
        "          validation_split=0.2)"
      ]
    },
    {
      "cell_type": "markdown",
      "metadata": {
        "id": "UxADfNRnbbe7"
      },
      "source": [
        "**The same model with a more appropriate learning rate**"
      ]
    },
    {
      "cell_type": "code",
      "execution_count": 12,
      "metadata": {
        "colab": {
          "base_uri": "https://localhost:8080/"
        },
        "id": "zuh4cKurbbe7",
        "outputId": "ea6d6498-7ff6-4a86-d67d-5c985d5935f0"
      },
      "outputs": [
        {
          "output_type": "stream",
          "name": "stdout",
          "text": [
            "Epoch 1/10\n",
            "375/375 [==============================] - 2s 5ms/step - loss: 0.3673 - accuracy: 0.9119 - val_loss: 0.1590 - val_accuracy: 0.9568\n",
            "Epoch 2/10\n",
            "375/375 [==============================] - 2s 5ms/step - loss: 0.1434 - accuracy: 0.9630 - val_loss: 0.1269 - val_accuracy: 0.9688\n",
            "Epoch 3/10\n",
            "375/375 [==============================] - 2s 5ms/step - loss: 0.1172 - accuracy: 0.9734 - val_loss: 0.1825 - val_accuracy: 0.9588\n",
            "Epoch 4/10\n",
            "375/375 [==============================] - 2s 5ms/step - loss: 0.1037 - accuracy: 0.9784 - val_loss: 0.1558 - val_accuracy: 0.9737\n",
            "Epoch 5/10\n",
            "375/375 [==============================] - 2s 4ms/step - loss: 0.0891 - accuracy: 0.9816 - val_loss: 0.1880 - val_accuracy: 0.9728\n",
            "Epoch 6/10\n",
            "375/375 [==============================] - 2s 4ms/step - loss: 0.0868 - accuracy: 0.9833 - val_loss: 0.2074 - val_accuracy: 0.9725\n",
            "Epoch 7/10\n",
            "375/375 [==============================] - 2s 4ms/step - loss: 0.0742 - accuracy: 0.9858 - val_loss: 0.2824 - val_accuracy: 0.9672\n",
            "Epoch 8/10\n",
            "375/375 [==============================] - 2s 4ms/step - loss: 0.0682 - accuracy: 0.9881 - val_loss: 0.2766 - val_accuracy: 0.9718\n",
            "Epoch 9/10\n",
            "375/375 [==============================] - 2s 4ms/step - loss: 0.0656 - accuracy: 0.9886 - val_loss: 0.3183 - val_accuracy: 0.9710\n",
            "Epoch 10/10\n",
            "375/375 [==============================] - 2s 4ms/step - loss: 0.0645 - accuracy: 0.9899 - val_loss: 0.2853 - val_accuracy: 0.9727\n"
          ]
        },
        {
          "output_type": "execute_result",
          "data": {
            "text/plain": [
              "<keras.callbacks.History at 0x7f44001f5a50>"
            ]
          },
          "metadata": {},
          "execution_count": 12
        }
      ],
      "source": [
        "model = keras.Sequential([\n",
        "    layers.Dense(512, activation=\"relu\"),\n",
        "    layers.Dense(10, activation=\"softmax\")\n",
        "])\n",
        "model.compile(optimizer=keras.optimizers.RMSprop(1e-2),\n",
        "              loss=\"sparse_categorical_crossentropy\",\n",
        "              metrics=[\"accuracy\"])\n",
        "model.fit(train_images, train_labels,\n",
        "          epochs=10,\n",
        "          batch_size=128,\n",
        "          validation_split=0.2)"
      ]
    },
    {
      "cell_type": "markdown",
      "metadata": {
        "id": "VvexLqlobbe7"
      },
      "source": [
        "### Leveraging better architecture priors"
      ]
    },
    {
      "cell_type": "markdown",
      "metadata": {
        "id": "dK2eviqBbbe7"
      },
      "source": [
        "### Increasing model capacity"
      ]
    },
    {
      "cell_type": "markdown",
      "metadata": {
        "id": "KyN2-9Hubbe7"
      },
      "source": [
        "**A simple logistic regression on MNIST**"
      ]
    },
    {
      "cell_type": "code",
      "execution_count": 13,
      "metadata": {
        "colab": {
          "base_uri": "https://localhost:8080/"
        },
        "id": "y96exZuJbbe8",
        "outputId": "0b4875e6-9ee0-4d04-83e3-720b0105de53"
      },
      "outputs": [
        {
          "output_type": "stream",
          "name": "stdout",
          "text": [
            "Epoch 1/20\n",
            "375/375 [==============================] - 2s 4ms/step - loss: 0.6744 - accuracy: 0.8315 - val_loss: 0.3617 - val_accuracy: 0.9028\n",
            "Epoch 2/20\n",
            "375/375 [==============================] - 1s 3ms/step - loss: 0.3532 - accuracy: 0.9028 - val_loss: 0.3075 - val_accuracy: 0.9147\n",
            "Epoch 3/20\n",
            "375/375 [==============================] - 1s 4ms/step - loss: 0.3166 - accuracy: 0.9121 - val_loss: 0.2898 - val_accuracy: 0.9211\n",
            "Epoch 4/20\n",
            "375/375 [==============================] - 1s 3ms/step - loss: 0.2999 - accuracy: 0.9156 - val_loss: 0.2832 - val_accuracy: 0.9231\n",
            "Epoch 5/20\n",
            "375/375 [==============================] - 1s 4ms/step - loss: 0.2902 - accuracy: 0.9182 - val_loss: 0.2773 - val_accuracy: 0.9243\n",
            "Epoch 6/20\n",
            "375/375 [==============================] - 1s 4ms/step - loss: 0.2836 - accuracy: 0.9211 - val_loss: 0.2717 - val_accuracy: 0.9255\n",
            "Epoch 7/20\n",
            "375/375 [==============================] - 1s 4ms/step - loss: 0.2788 - accuracy: 0.9224 - val_loss: 0.2695 - val_accuracy: 0.9261\n",
            "Epoch 8/20\n",
            "375/375 [==============================] - 1s 4ms/step - loss: 0.2746 - accuracy: 0.9240 - val_loss: 0.2685 - val_accuracy: 0.9273\n",
            "Epoch 9/20\n",
            "375/375 [==============================] - 1s 3ms/step - loss: 0.2718 - accuracy: 0.9250 - val_loss: 0.2659 - val_accuracy: 0.9277\n",
            "Epoch 10/20\n",
            "375/375 [==============================] - 1s 3ms/step - loss: 0.2689 - accuracy: 0.9257 - val_loss: 0.2655 - val_accuracy: 0.9279\n",
            "Epoch 11/20\n",
            "375/375 [==============================] - 1s 3ms/step - loss: 0.2669 - accuracy: 0.9261 - val_loss: 0.2641 - val_accuracy: 0.9294\n",
            "Epoch 12/20\n",
            "375/375 [==============================] - 1s 4ms/step - loss: 0.2650 - accuracy: 0.9266 - val_loss: 0.2642 - val_accuracy: 0.9290\n",
            "Epoch 13/20\n",
            "375/375 [==============================] - 1s 4ms/step - loss: 0.2635 - accuracy: 0.9276 - val_loss: 0.2625 - val_accuracy: 0.9292\n",
            "Epoch 14/20\n",
            "375/375 [==============================] - 1s 4ms/step - loss: 0.2617 - accuracy: 0.9283 - val_loss: 0.2627 - val_accuracy: 0.9308\n",
            "Epoch 15/20\n",
            "375/375 [==============================] - 1s 4ms/step - loss: 0.2604 - accuracy: 0.9276 - val_loss: 0.2642 - val_accuracy: 0.9298\n",
            "Epoch 16/20\n",
            "375/375 [==============================] - 1s 3ms/step - loss: 0.2592 - accuracy: 0.9287 - val_loss: 0.2611 - val_accuracy: 0.9302\n",
            "Epoch 17/20\n",
            "375/375 [==============================] - 1s 4ms/step - loss: 0.2584 - accuracy: 0.9287 - val_loss: 0.2613 - val_accuracy: 0.9306\n",
            "Epoch 18/20\n",
            "375/375 [==============================] - 1s 3ms/step - loss: 0.2574 - accuracy: 0.9297 - val_loss: 0.2606 - val_accuracy: 0.9314\n",
            "Epoch 19/20\n",
            "375/375 [==============================] - 1s 3ms/step - loss: 0.2565 - accuracy: 0.9298 - val_loss: 0.2614 - val_accuracy: 0.9310\n",
            "Epoch 20/20\n",
            "375/375 [==============================] - 1s 3ms/step - loss: 0.2556 - accuracy: 0.9303 - val_loss: 0.2614 - val_accuracy: 0.9308\n"
          ]
        }
      ],
      "source": [
        "model = keras.Sequential([layers.Dense(10, activation=\"softmax\")])\n",
        "model.compile(optimizer=\"rmsprop\",\n",
        "              loss=\"sparse_categorical_crossentropy\",\n",
        "              metrics=[\"accuracy\"])\n",
        "history_small_model = model.fit(\n",
        "    train_images, train_labels,\n",
        "    epochs=20,\n",
        "    batch_size=128,\n",
        "    validation_split=0.2)"
      ]
    },
    {
      "cell_type": "code",
      "execution_count": 14,
      "metadata": {
        "colab": {
          "base_uri": "https://localhost:8080/",
          "height": 313
        },
        "id": "t3WhCLuRbbe8",
        "outputId": "bdcda848-49b9-47f4-841b-441eed8ea5ca"
      },
      "outputs": [
        {
          "output_type": "execute_result",
          "data": {
            "text/plain": [
              "<matplotlib.legend.Legend at 0x7f4384de6d50>"
            ]
          },
          "metadata": {},
          "execution_count": 14
        },
        {
          "output_type": "display_data",
          "data": {
            "text/plain": [
              "<Figure size 432x288 with 1 Axes>"
            ],
            "image/png": "[encoded data removed]"
          },
          "metadata": {
            "needs_background": "light"
          }
        }
      ],
      "source": [
        "import matplotlib.pyplot as plt\n",
        "val_loss = history_small_model.history[\"val_loss\"]\n",
        "epochs = range(1, 21)\n",
        "plt.plot(epochs, val_loss, \"b--\",\n",
        "         label=\"Validation loss\")\n",
        "plt.title(\"Effect of insufficient model capacity on validation loss\")\n",
        "plt.xlabel(\"Epochs\")\n",
        "plt.ylabel(\"Loss\")\n",
        "plt.legend()"
      ]
    },
    {
      "cell_type": "code",
      "execution_count": 15,
      "metadata": {
        "colab": {
          "base_uri": "https://localhost:8080/"
        },
        "id": "0pNN93hRbbe8",
        "outputId": "eba38955-0281-42ab-e1d7-4d64a3633471"
      },
      "outputs": [
        {
          "output_type": "stream",
          "name": "stdout",
          "text": [
            "Epoch 1/20\n",
            "375/375 [==============================] - 2s 5ms/step - loss: 0.3557 - accuracy: 0.9018 - val_loss: 0.1912 - val_accuracy: 0.9457\n",
            "Epoch 2/20\n",
            "375/375 [==============================] - 2s 4ms/step - loss: 0.1588 - accuracy: 0.9529 - val_loss: 0.1400 - val_accuracy: 0.9593\n",
            "Epoch 3/20\n",
            "375/375 [==============================] - 2s 4ms/step - loss: 0.1135 - accuracy: 0.9656 - val_loss: 0.1213 - val_accuracy: 0.9638\n",
            "Epoch 4/20\n",
            "375/375 [==============================] - 1s 4ms/step - loss: 0.0875 - accuracy: 0.9729 - val_loss: 0.1055 - val_accuracy: 0.9692\n",
            "Epoch 5/20\n",
            "375/375 [==============================] - 1s 4ms/step - loss: 0.0724 - accuracy: 0.9778 - val_loss: 0.0992 - val_accuracy: 0.9697\n",
            "Epoch 6/20\n",
            "375/375 [==============================] - 2s 4ms/step - loss: 0.0585 - accuracy: 0.9820 - val_loss: 0.1039 - val_accuracy: 0.9698\n",
            "Epoch 7/20\n",
            "375/375 [==============================] - 2s 4ms/step - loss: 0.0489 - accuracy: 0.9849 - val_loss: 0.0960 - val_accuracy: 0.9732\n",
            "Epoch 8/20\n",
            "375/375 [==============================] - 2s 4ms/step - loss: 0.0410 - accuracy: 0.9874 - val_loss: 0.1047 - val_accuracy: 0.9710\n",
            "Epoch 9/20\n",
            "375/375 [==============================] - 2s 4ms/step - loss: 0.0350 - accuracy: 0.9887 - val_loss: 0.0953 - val_accuracy: 0.9740\n",
            "Epoch 10/20\n",
            "375/375 [==============================] - 2s 4ms/step - loss: 0.0294 - accuracy: 0.9910 - val_loss: 0.0955 - val_accuracy: 0.9753\n",
            "Epoch 11/20\n",
            "375/375 [==============================] - 2s 4ms/step - loss: 0.0252 - accuracy: 0.9924 - val_loss: 0.1103 - val_accuracy: 0.9744\n",
            "Epoch 12/20\n",
            "375/375 [==============================] - 1s 4ms/step - loss: 0.0208 - accuracy: 0.9934 - val_loss: 0.1005 - val_accuracy: 0.9774\n",
            "Epoch 13/20\n",
            "375/375 [==============================] - 2s 4ms/step - loss: 0.0172 - accuracy: 0.9945 - val_loss: 0.1091 - val_accuracy: 0.9737\n",
            "Epoch 14/20\n",
            "375/375 [==============================] - 2s 4ms/step - loss: 0.0151 - accuracy: 0.9951 - val_loss: 0.1135 - val_accuracy: 0.9749\n",
            "Epoch 15/20\n",
            "375/375 [==============================] - 1s 4ms/step - loss: 0.0120 - accuracy: 0.9965 - val_loss: 0.1145 - val_accuracy: 0.9754\n",
            "Epoch 16/20\n",
            "375/375 [==============================] - 2s 4ms/step - loss: 0.0108 - accuracy: 0.9967 - val_loss: 0.1331 - val_accuracy: 0.9742\n",
            "Epoch 17/20\n",
            "375/375 [==============================] - 2s 4ms/step - loss: 0.0101 - accuracy: 0.9970 - val_loss: 0.1337 - val_accuracy: 0.9752\n",
            "Epoch 18/20\n",
            "375/375 [==============================] - 1s 4ms/step - loss: 0.0078 - accuracy: 0.9976 - val_loss: 0.1453 - val_accuracy: 0.9735\n",
            "Epoch 19/20\n",
            "375/375 [==============================] - 1s 4ms/step - loss: 0.0070 - accuracy: 0.9977 - val_loss: 0.1301 - val_accuracy: 0.9777\n",
            "Epoch 20/20\n",
            "375/375 [==============================] - 2s 4ms/step - loss: 0.0064 - accuracy: 0.9981 - val_loss: 0.1436 - val_accuracy: 0.9758\n"
          ]
        }
      ],
      "source": [
        "model = keras.Sequential([\n",
        "    layers.Dense(96, activation=\"relu\"),\n",
        "    layers.Dense(96, activation=\"relu\"),\n",
        "    layers.Dense(10, activation=\"softmax\"),\n",
        "])\n",
        "model.compile(optimizer=\"rmsprop\",\n",
        "              loss=\"sparse_categorical_crossentropy\",\n",
        "              metrics=[\"accuracy\"])\n",
        "history_large_model = model.fit(\n",
        "    train_images, train_labels,\n",
        "    epochs=20,\n",
        "    batch_size=128,\n",
        "    validation_split=0.2)"
      ]
    },
    {
      "cell_type": "markdown",
      "metadata": {
        "id": "Ut9uOE3abbe8"
      },
      "source": [
        "## Improving generalization"
      ]
    },
    {
      "cell_type": "markdown",
      "metadata": {
        "id": "_LK2f7Jcbbe8"
      },
      "source": [
        "### Dataset curation"
      ]
    },
    {
      "cell_type": "markdown",
      "metadata": {
        "id": "5GmIsLHKbbe8"
      },
      "source": [
        "### Feature engineering"
      ]
    },
    {
      "cell_type": "markdown",
      "metadata": {
        "id": "gltm24yVbbe8"
      },
      "source": [
        "### Using early stopping"
      ]
    },
    {
      "cell_type": "markdown",
      "metadata": {
        "id": "eHbKs6Dcbbe8"
      },
      "source": [
        "### Regularizing your model"
      ]
    },
    {
      "cell_type": "markdown",
      "metadata": {
        "id": "jOHHrsn1bbe8"
      },
      "source": [
        "#### Reducing the network's size"
      ]
    },
    {
      "cell_type": "markdown",
      "metadata": {
        "id": "Vr2ZWZ5Tbbe9"
      },
      "source": [
        "**Original model**"
      ]
    },
    {
      "cell_type": "code",
      "execution_count": 16,
      "metadata": {
        "colab": {
          "base_uri": "https://localhost:8080/"
        },
        "id": "sFPwJtxpbbe9",
        "outputId": "f679afeb-2958-4156-9fe1-23b0a6065219"
      },
      "outputs": [
        {
          "output_type": "stream",
          "name": "stdout",
          "text": [
            "Downloading data from https://storage.googleapis.com/tensorflow/tf-keras-datasets/imdb.npz\n",
            "17465344/17464789 [==============================] - 1s 0us/step\n",
            "17473536/17464789 [==============================] - 1s 0us/step\n",
            "Epoch 1/20\n",
            "30/30 [==============================] - 3s 42ms/step - loss: 0.5292 - accuracy: 0.7759 - val_loss: 0.3998 - val_accuracy: 0.8642\n",
            "Epoch 2/20\n",
            "30/30 [==============================] - 1s 21ms/step - loss: 0.3211 - accuracy: 0.9001 - val_loss: 0.3287 - val_accuracy: 0.8744\n",
            "Epoch 3/20\n",
            "30/30 [==============================] - 1s 22ms/step - loss: 0.2339 - accuracy: 0.9239 - val_loss: 0.2992 - val_accuracy: 0.8788\n",
            "Epoch 4/20\n",
            "30/30 [==============================] - 1s 25ms/step - loss: 0.1857 - accuracy: 0.9411 - val_loss: 0.2785 - val_accuracy: 0.8876\n",
            "Epoch 5/20\n",
            "30/30 [==============================] - 1s 25ms/step - loss: 0.1500 - accuracy: 0.9538 - val_loss: 0.3187 - val_accuracy: 0.8751\n",
            "Epoch 6/20\n",
            "30/30 [==============================] - 1s 21ms/step - loss: 0.1256 - accuracy: 0.9608 - val_loss: 0.2907 - val_accuracy: 0.8865\n",
            "Epoch 7/20\n",
            "30/30 [==============================] - 1s 24ms/step - loss: 0.1008 - accuracy: 0.9717 - val_loss: 0.3140 - val_accuracy: 0.8822\n",
            "Epoch 8/20\n",
            "30/30 [==============================] - 1s 25ms/step - loss: 0.0879 - accuracy: 0.9744 - val_loss: 0.3258 - val_accuracy: 0.8829\n",
            "Epoch 9/20\n",
            "30/30 [==============================] - 1s 22ms/step - loss: 0.0692 - accuracy: 0.9815 - val_loss: 0.3688 - val_accuracy: 0.8747\n",
            "Epoch 10/20\n",
            "30/30 [==============================] - 1s 25ms/step - loss: 0.0607 - accuracy: 0.9839 - val_loss: 0.3929 - val_accuracy: 0.8714\n",
            "Epoch 11/20\n",
            "30/30 [==============================] - 1s 25ms/step - loss: 0.0499 - accuracy: 0.9875 - val_loss: 0.3998 - val_accuracy: 0.8767\n",
            "Epoch 12/20\n",
            "30/30 [==============================] - 1s 26ms/step - loss: 0.0411 - accuracy: 0.9907 - val_loss: 0.4339 - val_accuracy: 0.8735\n",
            "Epoch 13/20\n",
            "30/30 [==============================] - 1s 22ms/step - loss: 0.0338 - accuracy: 0.9915 - val_loss: 0.4648 - val_accuracy: 0.8721\n",
            "Epoch 14/20\n",
            "30/30 [==============================] - 1s 21ms/step - loss: 0.0275 - accuracy: 0.9943 - val_loss: 0.5014 - val_accuracy: 0.8688\n",
            "Epoch 15/20\n",
            "30/30 [==============================] - 1s 21ms/step - loss: 0.0206 - accuracy: 0.9967 - val_loss: 0.5259 - val_accuracy: 0.8699\n",
            "Epoch 16/20\n",
            "30/30 [==============================] - 1s 21ms/step - loss: 0.0171 - accuracy: 0.9971 - val_loss: 0.5632 - val_accuracy: 0.8694\n",
            "Epoch 17/20\n",
            "30/30 [==============================] - 1s 22ms/step - loss: 0.0140 - accuracy: 0.9972 - val_loss: 0.6031 - val_accuracy: 0.8694\n",
            "Epoch 18/20\n",
            "30/30 [==============================] - 1s 22ms/step - loss: 0.0084 - accuracy: 0.9992 - val_loss: 0.6590 - val_accuracy: 0.8629\n",
            "Epoch 19/20\n",
            "30/30 [==============================] - 1s 25ms/step - loss: 0.0101 - accuracy: 0.9983 - val_loss: 0.6760 - val_accuracy: 0.8660\n",
            "Epoch 20/20\n",
            "30/30 [==============================] - 1s 21ms/step - loss: 0.0047 - accuracy: 0.9997 - val_loss: 0.7185 - val_accuracy: 0.8640\n"
          ]
        }
      ],
      "source": [
        "from tensorflow.keras.datasets import imdb\n",
        "(train_data, train_labels), _ = imdb.load_data(num_words=10000)\n",
        "\n",
        "def vectorize_sequences(sequences, dimension=10000):\n",
        "    results = np.zeros((len(sequences), dimension))\n",
        "    for i, sequence in enumerate(sequences):\n",
        "        results[i, sequence] = 1.\n",
        "    return results\n",
        "train_data = vectorize_sequences(train_data)\n",
        "\n",
        "model = keras.Sequential([\n",
        "    layers.Dense(16, activation=\"relu\"),\n",
        "    layers.Dense(16, activation=\"relu\"),\n",
        "    layers.Dense(1, activation=\"sigmoid\")\n",
        "])\n",
        "model.compile(optimizer=\"rmsprop\",\n",
        "              loss=\"binary_crossentropy\",\n",
        "              metrics=[\"accuracy\"])\n",
        "history_original = model.fit(train_data, train_labels,\n",
        "                             epochs=20, batch_size=512, validation_split=0.4)"
      ]
    },
    {
      "cell_type": "markdown",
      "metadata": {
        "id": "uyXP9J63bbe9"
      },
      "source": [
        "**Version of the model with lower capacity**"
      ]
    },
    {
      "cell_type": "code",
      "execution_count": 17,
      "metadata": {
        "colab": {
          "base_uri": "https://localhost:8080/"
        },
        "id": "KerRxDXQbbe9",
        "outputId": "b1dbd444-888e-4579-b907-3819b16ca46e"
      },
      "outputs": [
        {
          "output_type": "stream",
          "name": "stdout",
          "text": [
            "Epoch 1/20\n",
            "30/30 [==============================] - 2s 38ms/step - loss: 0.6493 - accuracy: 0.5817 - val_loss: 0.6056 - val_accuracy: 0.6591\n",
            "Epoch 2/20\n",
            "30/30 [==============================] - 1s 21ms/step - loss: 0.5739 - accuracy: 0.7410 - val_loss: 0.5559 - val_accuracy: 0.7513\n",
            "Epoch 3/20\n",
            "30/30 [==============================] - 1s 25ms/step - loss: 0.5237 - accuracy: 0.8049 - val_loss: 0.5233 - val_accuracy: 0.7688\n",
            "Epoch 4/20\n",
            "30/30 [==============================] - 1s 21ms/step - loss: 0.4852 - accuracy: 0.8512 - val_loss: 0.4944 - val_accuracy: 0.8492\n",
            "Epoch 5/20\n",
            "30/30 [==============================] - 1s 21ms/step - loss: 0.4541 - accuracy: 0.8803 - val_loss: 0.4793 - val_accuracy: 0.8264\n",
            "Epoch 6/20\n",
            "30/30 [==============================] - 1s 22ms/step - loss: 0.4290 - accuracy: 0.8994 - val_loss: 0.4621 - val_accuracy: 0.8510\n",
            "Epoch 7/20\n",
            "30/30 [==============================] - 1s 22ms/step - loss: 0.4042 - accuracy: 0.9185 - val_loss: 0.4402 - val_accuracy: 0.8762\n",
            "Epoch 8/20\n",
            "30/30 [==============================] - 1s 25ms/step - loss: 0.3725 - accuracy: 0.9352 - val_loss: 0.4259 - val_accuracy: 0.8623\n",
            "Epoch 9/20\n",
            "30/30 [==============================] - 1s 25ms/step - loss: 0.3332 - accuracy: 0.9466 - val_loss: 0.3929 - val_accuracy: 0.8757\n",
            "Epoch 10/20\n",
            "30/30 [==============================] - 1s 22ms/step - loss: 0.2879 - accuracy: 0.9566 - val_loss: 0.3582 - val_accuracy: 0.8825\n",
            "Epoch 11/20\n",
            "30/30 [==============================] - 1s 22ms/step - loss: 0.2416 - accuracy: 0.9615 - val_loss: 0.3363 - val_accuracy: 0.8808\n",
            "Epoch 12/20\n",
            "30/30 [==============================] - 1s 21ms/step - loss: 0.2017 - accuracy: 0.9652 - val_loss: 0.3218 - val_accuracy: 0.8796\n",
            "Epoch 13/20\n",
            "30/30 [==============================] - 1s 26ms/step - loss: 0.1705 - accuracy: 0.9675 - val_loss: 0.2971 - val_accuracy: 0.8906\n",
            "Epoch 14/20\n",
            "30/30 [==============================] - 1s 25ms/step - loss: 0.1465 - accuracy: 0.9709 - val_loss: 0.2937 - val_accuracy: 0.8891\n",
            "Epoch 15/20\n",
            "30/30 [==============================] - 1s 22ms/step - loss: 0.1280 - accuracy: 0.9723 - val_loss: 0.2971 - val_accuracy: 0.8862\n",
            "Epoch 16/20\n",
            "30/30 [==============================] - 1s 25ms/step - loss: 0.1143 - accuracy: 0.9757 - val_loss: 0.3225 - val_accuracy: 0.8801\n",
            "Epoch 17/20\n",
            "30/30 [==============================] - 1s 22ms/step - loss: 0.1032 - accuracy: 0.9777 - val_loss: 0.3064 - val_accuracy: 0.8857\n",
            "Epoch 18/20\n",
            "30/30 [==============================] - 1s 24ms/step - loss: 0.0938 - accuracy: 0.9798 - val_loss: 0.3289 - val_accuracy: 0.8831\n",
            "Epoch 19/20\n",
            "30/30 [==============================] - 1s 25ms/step - loss: 0.0854 - accuracy: 0.9817 - val_loss: 0.3265 - val_accuracy: 0.8833\n",
            "Epoch 20/20\n",
            "30/30 [==============================] - 1s 22ms/step - loss: 0.0782 - accuracy: 0.9842 - val_loss: 0.3477 - val_accuracy: 0.8797\n"
          ]
        }
      ],
      "source": [
        "model = keras.Sequential([\n",
        "    layers.Dense(4, activation=\"relu\"),\n",
        "    layers.Dense(4, activation=\"relu\"),\n",
        "    layers.Dense(1, activation=\"sigmoid\")\n",
        "])\n",
        "model.compile(optimizer=\"rmsprop\",\n",
        "              loss=\"binary_crossentropy\",\n",
        "              metrics=[\"accuracy\"])\n",
        "history_smaller_model = model.fit(\n",
        "    train_data, train_labels,\n",
        "    epochs=20, batch_size=512, validation_split=0.4)"
      ]
    },
    {
      "cell_type": "markdown",
      "metadata": {
        "id": "zNQyccikbbe9"
      },
      "source": [
        "**Version of the model with higher capacity**"
      ]
    },
    {
      "cell_type": "code",
      "execution_count": 18,
      "metadata": {
        "colab": {
          "base_uri": "https://localhost:8080/"
        },
        "id": "YCJQHzJSbbe9",
        "outputId": "4f3824f7-771f-42ed-8b27-ce6190a359b6"
      },
      "outputs": [
        {
          "output_type": "stream",
          "name": "stdout",
          "text": [
            "Epoch 1/20\n",
            "30/30 [==============================] - 2s 47ms/step - loss: 0.5932 - accuracy: 0.7774 - val_loss: 0.3231 - val_accuracy: 0.8679\n",
            "Epoch 2/20\n",
            "30/30 [==============================] - 1s 31ms/step - loss: 0.2429 - accuracy: 0.9024 - val_loss: 0.2823 - val_accuracy: 0.8855\n",
            "Epoch 3/20\n",
            "30/30 [==============================] - 1s 30ms/step - loss: 0.1484 - accuracy: 0.9448 - val_loss: 0.3348 - val_accuracy: 0.8848\n",
            "Epoch 4/20\n",
            "30/30 [==============================] - 1s 31ms/step - loss: 0.0851 - accuracy: 0.9733 - val_loss: 0.3786 - val_accuracy: 0.8890\n",
            "Epoch 5/20\n",
            "30/30 [==============================] - 1s 29ms/step - loss: 0.1006 - accuracy: 0.9751 - val_loss: 0.3426 - val_accuracy: 0.8893\n",
            "Epoch 6/20\n",
            "30/30 [==============================] - 1s 29ms/step - loss: 0.0039 - accuracy: 0.9998 - val_loss: 0.5124 - val_accuracy: 0.8883\n",
            "Epoch 7/20\n",
            "30/30 [==============================] - 1s 28ms/step - loss: 5.1294e-04 - accuracy: 1.0000 - val_loss: 0.6327 - val_accuracy: 0.8880\n",
            "Epoch 8/20\n",
            "30/30 [==============================] - 1s 31ms/step - loss: 0.2090 - accuracy: 0.9771 - val_loss: 0.5050 - val_accuracy: 0.8870\n",
            "Epoch 9/20\n",
            "30/30 [==============================] - 1s 29ms/step - loss: 4.7147e-04 - accuracy: 1.0000 - val_loss: 0.5670 - val_accuracy: 0.8887\n",
            "Epoch 10/20\n",
            "30/30 [==============================] - 1s 28ms/step - loss: 1.4176e-04 - accuracy: 1.0000 - val_loss: 0.6594 - val_accuracy: 0.8882\n",
            "Epoch 11/20\n",
            "30/30 [==============================] - 1s 29ms/step - loss: 3.8593e-05 - accuracy: 1.0000 - val_loss: 0.7577 - val_accuracy: 0.8870\n",
            "Epoch 12/20\n",
            "30/30 [==============================] - 1s 28ms/step - loss: 1.0004e-05 - accuracy: 1.0000 - val_loss: 0.8638 - val_accuracy: 0.8852\n",
            "Epoch 13/20\n",
            "30/30 [==============================] - 1s 28ms/step - loss: 2.5752e-06 - accuracy: 1.0000 - val_loss: 0.9552 - val_accuracy: 0.8854\n",
            "Epoch 14/20\n",
            "30/30 [==============================] - 1s 29ms/step - loss: 7.8505e-07 - accuracy: 1.0000 - val_loss: 1.0315 - val_accuracy: 0.8846\n",
            "Epoch 15/20\n",
            "30/30 [==============================] - 1s 29ms/step - loss: 2.8809e-07 - accuracy: 1.0000 - val_loss: 1.1096 - val_accuracy: 0.8847\n",
            "Epoch 16/20\n",
            "30/30 [==============================] - 1s 31ms/step - loss: 1.1015e-07 - accuracy: 1.0000 - val_loss: 1.1731 - val_accuracy: 0.8845\n",
            "Epoch 17/20\n",
            "30/30 [==============================] - 1s 28ms/step - loss: 4.8348e-08 - accuracy: 1.0000 - val_loss: 1.2274 - val_accuracy: 0.8845\n",
            "Epoch 18/20\n",
            "30/30 [==============================] - 1s 31ms/step - loss: 2.6881e-08 - accuracy: 1.0000 - val_loss: 1.2613 - val_accuracy: 0.8838\n",
            "Epoch 19/20\n",
            "30/30 [==============================] - 1s 30ms/step - loss: 1.7847e-08 - accuracy: 1.0000 - val_loss: 1.2870 - val_accuracy: 0.8842\n",
            "Epoch 20/20\n",
            "30/30 [==============================] - 1s 29ms/step - loss: 1.3455e-08 - accuracy: 1.0000 - val_loss: 1.3027 - val_accuracy: 0.8837\n"
          ]
        }
      ],
      "source": [
        "model = keras.Sequential([\n",
        "    layers.Dense(512, activation=\"relu\"),\n",
        "    layers.Dense(512, activation=\"relu\"),\n",
        "    layers.Dense(1, activation=\"sigmoid\")\n",
        "])\n",
        "model.compile(optimizer=\"rmsprop\",\n",
        "              loss=\"binary_crossentropy\",\n",
        "              metrics=[\"accuracy\"])\n",
        "history_larger_model = model.fit(\n",
        "    train_data, train_labels,\n",
        "    epochs=20, batch_size=512, validation_split=0.4)"
      ]
    },
    {
      "cell_type": "markdown",
      "metadata": {
        "id": "4iEdhzN7bbe9"
      },
      "source": [
        "#### Adding weight regularization"
      ]
    },
    {
      "cell_type": "markdown",
      "metadata": {
        "id": "4bK9Feu8bbe9"
      },
      "source": [
        "**Adding L2 weight regularization to the model**"
      ]
    },
    {
      "cell_type": "code",
      "execution_count": 19,
      "metadata": {
        "colab": {
          "base_uri": "https://localhost:8080/"
        },
        "id": "asvnURRtbbe9",
        "outputId": "f65b381a-8ff8-4981-8ecf-07535dd4fe31"
      },
      "outputs": [
        {
          "output_type": "stream",
          "name": "stdout",
          "text": [
            "Epoch 1/20\n",
            "30/30 [==============================] - 2s 36ms/step - loss: 0.5899 - accuracy: 0.7754 - val_loss: 0.4547 - val_accuracy: 0.8740\n",
            "Epoch 2/20\n",
            "30/30 [==============================] - 1s 20ms/step - loss: 0.3913 - accuracy: 0.8933 - val_loss: 0.4009 - val_accuracy: 0.8737\n",
            "Epoch 3/20\n",
            "30/30 [==============================] - 1s 24ms/step - loss: 0.3264 - accuracy: 0.9165 - val_loss: 0.3621 - val_accuracy: 0.8905\n",
            "Epoch 4/20\n",
            "30/30 [==============================] - 1s 20ms/step - loss: 0.2929 - accuracy: 0.9270 - val_loss: 0.3686 - val_accuracy: 0.8826\n",
            "Epoch 5/20\n",
            "30/30 [==============================] - 1s 20ms/step - loss: 0.2766 - accuracy: 0.9331 - val_loss: 0.3611 - val_accuracy: 0.8847\n",
            "Epoch 6/20\n",
            "30/30 [==============================] - 1s 21ms/step - loss: 0.2613 - accuracy: 0.9381 - val_loss: 0.3719 - val_accuracy: 0.8803\n",
            "Epoch 7/20\n",
            "30/30 [==============================] - 1s 21ms/step - loss: 0.2473 - accuracy: 0.9433 - val_loss: 0.3641 - val_accuracy: 0.8838\n",
            "Epoch 8/20\n",
            "30/30 [==============================] - 1s 20ms/step - loss: 0.2436 - accuracy: 0.9443 - val_loss: 0.4167 - val_accuracy: 0.8690\n",
            "Epoch 9/20\n",
            "30/30 [==============================] - 1s 21ms/step - loss: 0.2408 - accuracy: 0.9447 - val_loss: 0.3719 - val_accuracy: 0.8831\n",
            "Epoch 10/20\n",
            "30/30 [==============================] - 1s 21ms/step - loss: 0.2275 - accuracy: 0.9510 - val_loss: 0.3930 - val_accuracy: 0.8749\n",
            "Epoch 11/20\n",
            "30/30 [==============================] - 1s 21ms/step - loss: 0.2272 - accuracy: 0.9510 - val_loss: 0.3920 - val_accuracy: 0.8758\n",
            "Epoch 12/20\n",
            "30/30 [==============================] - 1s 21ms/step - loss: 0.2195 - accuracy: 0.9543 - val_loss: 0.4177 - val_accuracy: 0.8690\n",
            "Epoch 13/20\n",
            "30/30 [==============================] - 1s 22ms/step - loss: 0.2185 - accuracy: 0.9537 - val_loss: 0.4088 - val_accuracy: 0.8749\n",
            "Epoch 14/20\n",
            "30/30 [==============================] - 1s 25ms/step - loss: 0.2119 - accuracy: 0.9549 - val_loss: 0.4229 - val_accuracy: 0.8688\n",
            "Epoch 15/20\n",
            "30/30 [==============================] - 1s 22ms/step - loss: 0.2141 - accuracy: 0.9557 - val_loss: 0.4029 - val_accuracy: 0.8784\n",
            "Epoch 16/20\n",
            "30/30 [==============================] - 1s 24ms/step - loss: 0.2048 - accuracy: 0.9586 - val_loss: 0.4117 - val_accuracy: 0.8760\n",
            "Epoch 17/20\n",
            "30/30 [==============================] - 1s 25ms/step - loss: 0.2098 - accuracy: 0.9568 - val_loss: 0.4073 - val_accuracy: 0.8769\n",
            "Epoch 18/20\n",
            "30/30 [==============================] - 1s 22ms/step - loss: 0.2094 - accuracy: 0.9567 - val_loss: 0.4080 - val_accuracy: 0.8775\n",
            "Epoch 19/20\n",
            "30/30 [==============================] - 1s 21ms/step - loss: 0.1998 - accuracy: 0.9611 - val_loss: 0.4345 - val_accuracy: 0.8702\n",
            "Epoch 20/20\n",
            "30/30 [==============================] - 1s 21ms/step - loss: 0.1940 - accuracy: 0.9648 - val_loss: 0.4174 - val_accuracy: 0.8750\n"
          ]
        }
      ],
      "source": [
        "from tensorflow.keras import regularizers\n",
        "model = keras.Sequential([\n",
        "    layers.Dense(16,\n",
        "                 kernel_regularizer=regularizers.l2(0.002),\n",
        "                 activation=\"relu\"),\n",
        "    layers.Dense(16,\n",
        "                 kernel_regularizer=regularizers.l2(0.002),\n",
        "                 activation=\"relu\"),\n",
        "    layers.Dense(1, activation=\"sigmoid\")\n",
        "])\n",
        "model.compile(optimizer=\"rmsprop\",\n",
        "              loss=\"binary_crossentropy\",\n",
        "              metrics=[\"accuracy\"])\n",
        "history_l2_reg = model.fit(\n",
        "    train_data, train_labels,\n",
        "    epochs=20, batch_size=512, validation_split=0.4)"
      ]
    },
    {
      "cell_type": "markdown",
      "metadata": {
        "id": "0CtrRurVbbe-"
      },
      "source": [
        "**Different weight regularizers available in Keras**"
      ]
    },
    {
      "cell_type": "code",
      "execution_count": 20,
      "metadata": {
        "colab": {
          "base_uri": "https://localhost:8080/"
        },
        "id": "2-lzN8GDbbe-",
        "outputId": "0ba9fa75-044f-4dcf-ec09-b59de8ffbb3c"
      },
      "outputs": [
        {
          "output_type": "execute_result",
          "data": {
            "text/plain": [
              "<keras.regularizers.L1L2 at 0x7f4376f2b1d0>"
            ]
          },
          "metadata": {},
          "execution_count": 20
        }
      ],
      "source": [
        "from tensorflow.keras import regularizers\n",
        "regularizers.l1(0.001)\n",
        "regularizers.l1_l2(l1=0.001, l2=0.001)"
      ]
    },
    {
      "cell_type": "markdown",
      "metadata": {
        "id": "9oVGuZ4ibbe-"
      },
      "source": [
        "#### Adding dropout"
      ]
    },
    {
      "cell_type": "markdown",
      "metadata": {
        "id": "Qdopvgfcbbe-"
      },
      "source": [
        "**Adding dropout to the IMDB model**"
      ]
    },
    {
      "cell_type": "code",
      "execution_count": 21,
      "metadata": {
        "colab": {
          "base_uri": "https://localhost:8080/"
        },
        "id": "nVxzTzI_bbe-",
        "outputId": "e1ec4e8e-37b9-46fe-fbfc-a2abf936897e"
      },
      "outputs": [
        {
          "output_type": "stream",
          "name": "stdout",
          "text": [
            "Epoch 1/20\n",
            "30/30 [==============================] - 2s 36ms/step - loss: 0.6301 - accuracy: 0.6412 - val_loss: 0.5116 - val_accuracy: 0.8355\n",
            "Epoch 2/20\n",
            "30/30 [==============================] - 1s 20ms/step - loss: 0.5183 - accuracy: 0.7541 - val_loss: 0.4118 - val_accuracy: 0.8759\n",
            "Epoch 3/20\n",
            "30/30 [==============================] - 1s 20ms/step - loss: 0.4437 - accuracy: 0.8045 - val_loss: 0.3387 - val_accuracy: 0.8830\n",
            "Epoch 4/20\n",
            "30/30 [==============================] - 1s 21ms/step - loss: 0.3806 - accuracy: 0.8464 - val_loss: 0.3015 - val_accuracy: 0.8883\n",
            "Epoch 5/20\n",
            "30/30 [==============================] - 1s 21ms/step - loss: 0.3366 - accuracy: 0.8703 - val_loss: 0.2922 - val_accuracy: 0.8835\n",
            "Epoch 6/20\n",
            "30/30 [==============================] - 1s 24ms/step - loss: 0.2944 - accuracy: 0.8914 - val_loss: 0.2732 - val_accuracy: 0.8912\n",
            "Epoch 7/20\n",
            "30/30 [==============================] - 1s 24ms/step - loss: 0.2632 - accuracy: 0.9073 - val_loss: 0.2731 - val_accuracy: 0.8920\n",
            "Epoch 8/20\n",
            "30/30 [==============================] - 1s 21ms/step - loss: 0.2373 - accuracy: 0.9189 - val_loss: 0.2756 - val_accuracy: 0.8928\n",
            "Epoch 9/20\n",
            "30/30 [==============================] - 1s 25ms/step - loss: 0.2118 - accuracy: 0.9310 - val_loss: 0.3003 - val_accuracy: 0.8888\n",
            "Epoch 10/20\n",
            "30/30 [==============================] - 1s 21ms/step - loss: 0.1943 - accuracy: 0.9365 - val_loss: 0.3083 - val_accuracy: 0.8924\n",
            "Epoch 11/20\n",
            "30/30 [==============================] - 1s 20ms/step - loss: 0.1744 - accuracy: 0.9434 - val_loss: 0.3183 - val_accuracy: 0.8914\n",
            "Epoch 12/20\n",
            "30/30 [==============================] - 1s 21ms/step - loss: 0.1614 - accuracy: 0.9488 - val_loss: 0.3398 - val_accuracy: 0.8895\n",
            "Epoch 13/20\n",
            "30/30 [==============================] - 1s 21ms/step - loss: 0.1417 - accuracy: 0.9535 - val_loss: 0.3651 - val_accuracy: 0.8883\n",
            "Epoch 14/20\n",
            "30/30 [==============================] - 1s 21ms/step - loss: 0.1322 - accuracy: 0.9584 - val_loss: 0.3885 - val_accuracy: 0.8872\n",
            "Epoch 15/20\n",
            "30/30 [==============================] - 1s 21ms/step - loss: 0.1237 - accuracy: 0.9599 - val_loss: 0.4263 - val_accuracy: 0.8845\n",
            "Epoch 16/20\n",
            "30/30 [==============================] - 1s 20ms/step - loss: 0.1134 - accuracy: 0.9619 - val_loss: 0.4325 - val_accuracy: 0.8843\n",
            "Epoch 17/20\n",
            "30/30 [==============================] - 1s 21ms/step - loss: 0.1098 - accuracy: 0.9656 - val_loss: 0.4541 - val_accuracy: 0.8831\n",
            "Epoch 18/20\n",
            "30/30 [==============================] - 1s 21ms/step - loss: 0.1040 - accuracy: 0.9672 - val_loss: 0.4835 - val_accuracy: 0.8842\n",
            "Epoch 19/20\n",
            "30/30 [==============================] - 1s 21ms/step - loss: 0.1001 - accuracy: 0.9699 - val_loss: 0.5303 - val_accuracy: 0.8801\n",
            "Epoch 20/20\n",
            "30/30 [==============================] - 1s 21ms/step - loss: 0.0963 - accuracy: 0.9700 - val_loss: 0.5296 - val_accuracy: 0.8837\n"
          ]
        }
      ],
      "source": [
        "model = keras.Sequential([\n",
        "    layers.Dense(16, activation=\"relu\"),\n",
        "    layers.Dropout(0.5),\n",
        "    layers.Dense(16, activation=\"relu\"),\n",
        "    layers.Dropout(0.5),\n",
        "    layers.Dense(1, activation=\"sigmoid\")\n",
        "])\n",
        "model.compile(optimizer=\"rmsprop\",\n",
        "              loss=\"binary_crossentropy\",\n",
        "              metrics=[\"accuracy\"])\n",
        "history_dropout = model.fit(\n",
        "    train_data, train_labels,\n",
        "    epochs=20, batch_size=512, validation_split=0.4)"
      ]
    },
    {
      "cell_type": "markdown",
      "metadata": {
        "id": "qdyqcIBkbbe-"
      },
      "source": [
        "## Summary"
      ]
    }
  ],
  "metadata": {
    "colab": {
      "collapsed_sections": [],
      "name": "chapter05_fundamentals-of-ml.i",
      "provenance": [],
      "toc_visible": true
    },
    "kernelspec": {
      "display_name": "Python 3",
      "language": "python",
      "name": "python3"
    },
    "language_info": {
      "codemirror_mode": {
        "name": "ipython",
        "version": 3
      },
      "file_extension": ".py",
      "mimetype": "text/x-python",
      "name": "python",
      "nbconvert_exporter": "python",
      "pygments_lexer": "ipython3",
      "version": "3.7.0"
    },
    "accelerator": "GPU"
  },
  "nbformat": 4,
  "nbformat_minor": 0
}