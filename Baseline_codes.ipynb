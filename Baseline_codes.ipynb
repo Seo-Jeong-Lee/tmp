{
  "cells": [
    {
      "cell_type": "markdown",
      "metadata": {
        "id": "view-in-github",
        "colab_type": "text"
      },
      "source": [
        "<a href=\"https://colab.research.google.com/github/Seo-Jeong-Lee/tmp/blob/main/Baseline_codes.ipynb\" target=\"_parent\"><img src=\"https://colab.research.google.com/assets/colab-badge.svg\" alt=\"Open In Colab\"/></a>"
      ]
    },
    {
      "cell_type": "markdown",
      "id": "72ab04b1-ceeb-42f9-bd60-b47ab0b27d09",
      "metadata": {
        "id": "72ab04b1-ceeb-42f9-bd60-b47ab0b27d09"
      },
      "source": [
        "## Import"
      ]
    },
    {
      "cell_type": "code",
      "execution_count": 1,
      "id": "5b9f99a6-eeeb-4286-822e-545cdba4d2b0",
      "metadata": {
        "id": "5b9f99a6-eeeb-4286-822e-545cdba4d2b0"
      },
      "outputs": [],
      "source": [
        "import numpy as np\n",
        "import random\n",
        "import os\n",
        "import math\n",
        "\n",
        "from glob import glob\n",
        "import pandas as pd\n",
        "import cv2\n",
        "from tqdm.auto import tqdm\n",
        "\n",
        "import torch\n",
        "import torch.nn as nn\n",
        "import torch.nn.functional as F\n",
        "from torch.utils.data import DataLoader, Dataset\n",
        "\n",
        "import torchvision.models as models\n",
        "from torchvision import transforms"
      ]
    },
    {
      "cell_type": "code",
      "execution_count": 2,
      "id": "19588b2c-5a38-48ea-bec9-3fd4b63a085d",
      "metadata": {
        "id": "19588b2c-5a38-48ea-bec9-3fd4b63a085d"
      },
      "outputs": [],
      "source": [
        "device = torch.device('cuda') if torch.cuda.is_available() else torch.device('cpu')"
      ]
    },
    {
      "cell_type": "markdown",
      "id": "06c7e45f-2426-4916-971c-e6ef34658bbe",
      "metadata": {
        "id": "06c7e45f-2426-4916-971c-e6ef34658bbe"
      },
      "source": [
        "## Hyperparameters Setting"
      ]
    },
    {
      "cell_type": "code",
      "execution_count": null,
      "id": "f863d58c-930e-401e-bae0-0be718fc7ca3",
      "metadata": {
        "id": "f863d58c-930e-401e-bae0-0be718fc7ca3"
      },
      "outputs": [],
      "source": [
        "CFG = {\n",
        "    'IMG_SIZE':128,\n",
        "    'EPOCHS':10,\n",
        "    'LEARNING_RATE':2e-3,\n",
        "    'BATCH_SIZE':8,\n",
        "    'SEED':41\n",
        "}"
      ]
    },
    {
      "cell_type": "markdown",
      "id": "b37fde17-5082-4ed7-a003-c7bcbbf65ffb",
      "metadata": {
        "id": "b37fde17-5082-4ed7-a003-c7bcbbf65ffb"
      },
      "source": [
        "## Fix RandomSeed"
      ]
    },
    {
      "cell_type": "code",
      "execution_count": null,
      "id": "2900cbf8-79f2-496c-a951-b0a74df86aef",
      "metadata": {
        "id": "2900cbf8-79f2-496c-a951-b0a74df86aef"
      },
      "outputs": [],
      "source": [
        "def seed_everything(seed):\n",
        "    random.seed(seed)\n",
        "    os.environ['PYTHONHASHSEED'] = str(seed)\n",
        "    np.random.seed(seed)\n",
        "    torch.manual_seed(seed)\n",
        "    torch.cuda.manual_seed(seed)\n",
        "    torch.backends.cudnn.deterministic = True\n",
        "    torch.backends.cudnn.benchmark = True\n",
        "\n",
        "seed_everything(CFG['SEED']) # Seed 고정"
      ]
    },
    {
      "cell_type": "markdown",
      "id": "7aaad7d5-643e-4ccd-ae32-920a9553b630",
      "metadata": {
        "id": "7aaad7d5-643e-4ccd-ae32-920a9553b630"
      },
      "source": [
        "## Data Pre-processing"
      ]
    },
    {
      "cell_type": "code",
      "execution_count": null,
      "id": "343093ae-587c-4e26-8774-2cab3de75add",
      "metadata": {
        "id": "343093ae-587c-4e26-8774-2cab3de75add"
      },
      "outputs": [],
      "source": [
        "def get_train_data(data_dir):\n",
        "    img_path_list = []\n",
        "    label_list = []\n",
        "    for case_name in os.listdir(data_dir):\n",
        "        current_path = os.path.join(data_dir, case_name)\n",
        "        if os.path.isdir(current_path):\n",
        "            # get image path\n",
        "            img_path_list.extend(glob(os.path.join(current_path, 'image', '*.jpg')))\n",
        "            img_path_list.extend(glob(os.path.join(current_path, 'image', '*.png')))\n",
        "            \n",
        "            # get label\n",
        "            label_df = pd.read_csv(current_path+'/label.csv')\n",
        "            label_list.extend(label_df['leaf_weight'])\n",
        "                \n",
        "    return img_path_list, label_list\n",
        "\n",
        "def get_test_data(data_dir):\n",
        "    # get image path\n",
        "    img_path_list = glob(os.path.join(data_dir, 'image', '*.jpg'))\n",
        "    img_path_list.extend(glob(os.path.join(data_dir, 'image', '*.png')))\n",
        "    img_path_list.sort(key=lambda x:int(x.split('/')[-1].split('.')[0]))\n",
        "    return img_path_list"
      ]
    },
    {
      "cell_type": "code",
      "execution_count": null,
      "id": "14655d2b-3c47-409d-9c1e-8de4753950bd",
      "metadata": {
        "id": "14655d2b-3c47-409d-9c1e-8de4753950bd"
      },
      "outputs": [],
      "source": [
        "all_img_path, all_label = get_train_data('./dataset/train')\n",
        "test_img_path = get_test_data('./dataset/test')"
      ]
    },
    {
      "cell_type": "markdown",
      "id": "68577959-091a-46cc-9c9b-18e2404f5de6",
      "metadata": {
        "id": "68577959-091a-46cc-9c9b-18e2404f5de6"
      },
      "source": [
        "## Train / Validation Split"
      ]
    },
    {
      "cell_type": "code",
      "execution_count": null,
      "id": "31f5a9d4-7af5-466c-b1ac-1480f285dd9c",
      "metadata": {
        "id": "31f5a9d4-7af5-466c-b1ac-1480f285dd9c"
      },
      "outputs": [],
      "source": [
        "# Train : Validation = 0.8 : 0.2 Split\n",
        "train_len = int(len(all_img_path)*0.8)\n",
        "\n",
        "train_img_path = all_img_path[:train_len]\n",
        "train_label = all_label[:train_len]\n",
        "\n",
        "vali_img_path = all_img_path[train_len:]\n",
        "vali_label = all_label[train_len:]"
      ]
    },
    {
      "cell_type": "markdown",
      "id": "5af7e345-7445-4717-909c-2a2e0a4e8993",
      "metadata": {
        "id": "5af7e345-7445-4717-909c-2a2e0a4e8993"
      },
      "source": [
        "## CustomDataset"
      ]
    },
    {
      "cell_type": "code",
      "execution_count": null,
      "id": "10b24583-9c39-47df-84b3-f606ffdf5852",
      "metadata": {
        "id": "10b24583-9c39-47df-84b3-f606ffdf5852"
      },
      "outputs": [],
      "source": [
        "class CustomDataset(Dataset):\n",
        "    def __init__(self, img_path_list, label_list, train_mode=True, transforms=None):\n",
        "        self.transforms = transforms\n",
        "        self.train_mode = train_mode\n",
        "        self.img_path_list = img_path_list\n",
        "        self.label_list = label_list\n",
        "\n",
        "    def __getitem__(self, index):\n",
        "        img_path = self.img_path_list[index]\n",
        "        # Get image data\n",
        "        image = cv2.imread(img_path)\n",
        "        if self.transforms is not None:\n",
        "            image = self.transforms(image)\n",
        "\n",
        "        if self.train_mode:\n",
        "            label = self.label_list[index]\n",
        "            return image, label\n",
        "        else:\n",
        "            return image\n",
        "    \n",
        "    def __len__(self):\n",
        "        return len(self.img_path_list)"
      ]
    },
    {
      "cell_type": "code",
      "execution_count": null,
      "id": "352f1a75-a858-4a10-bccf-c56afce6a2a3",
      "metadata": {
        "id": "352f1a75-a858-4a10-bccf-c56afce6a2a3"
      },
      "outputs": [],
      "source": [
        "train_transform = transforms.Compose([\n",
        "                    transforms.ToTensor(),\n",
        "                    transforms.Resize((CFG['IMG_SIZE'], CFG['IMG_SIZE'])),\n",
        "                    transforms.Normalize(mean=(0.5, 0.5, 0.5), std=(0.5, 0.5, 0.5))\n",
        "                    ])\n",
        "\n",
        "test_transform = transforms.Compose([\n",
        "                    transforms.ToTensor(),\n",
        "                    transforms.Resize((CFG['IMG_SIZE'], CFG['IMG_SIZE'])),\n",
        "                    transforms.Normalize(mean=(0.5, 0.5, 0.5), std=(0.5, 0.5, 0.5))\n",
        "                    ])"
      ]
    },
    {
      "cell_type": "code",
      "execution_count": null,
      "id": "17aa1756-4b35-4a48-aa5d-f5b6e8524f55",
      "metadata": {
        "id": "17aa1756-4b35-4a48-aa5d-f5b6e8524f55"
      },
      "outputs": [],
      "source": [
        "# Get Dataloader\n",
        "train_dataset = CustomDataset(train_img_path, train_label, train_mode=True, transforms=train_transform)\n",
        "train_loader = DataLoader(train_dataset, batch_size = CFG['BATCH_SIZE'], shuffle=True, num_workers=0)\n",
        "\n",
        "vali_dataset = CustomDataset(vali_img_path, vali_label, train_mode=True, transforms=test_transform)\n",
        "vali_loader = DataLoader(vali_dataset, batch_size = CFG['BATCH_SIZE'], shuffle=False, num_workers=0)"
      ]
    },
    {
      "cell_type": "markdown",
      "id": "6e04e913-7a5c-4e20-a9ad-2ad1089f16dd",
      "metadata": {
        "id": "6e04e913-7a5c-4e20-a9ad-2ad1089f16dd"
      },
      "source": [
        "## Define Model Architecture"
      ]
    },
    {
      "cell_type": "code",
      "execution_count": null,
      "id": "7188a84b-6f8a-4f43-8235-6208835b1d90",
      "metadata": {
        "id": "7188a84b-6f8a-4f43-8235-6208835b1d90"
      },
      "outputs": [],
      "source": [
        "class CNNRegressor(torch.nn.Module):\n",
        "    def __init__(self):\n",
        "        super(CNNRegressor, self).__init__()\n",
        "        self.layer1 = torch.nn.Sequential(\n",
        "            nn.Conv2d(3, 8, kernel_size=3, stride=1, padding=1),\n",
        "            nn.ReLU(),\n",
        "            nn.MaxPool2d(kernel_size=2, stride=2))\n",
        "        \n",
        "        self.layer2 = torch.nn.Sequential(\n",
        "            nn.Conv2d(8, 16, kernel_size=3, stride=1, padding=1),\n",
        "            nn.ReLU(),\n",
        "            nn.MaxPool2d(kernel_size=2, stride=2))\n",
        "        \n",
        "        self.layer3 = torch.nn.Sequential(\n",
        "            nn.Conv2d(16, 32, kernel_size=3, stride=1, padding=1),\n",
        "            nn.ReLU(),\n",
        "            nn.MaxPool2d(kernel_size=2, stride=2))\n",
        "        \n",
        "        self.layer4 = torch.nn.Sequential(\n",
        "            nn.Conv2d(32, 64, kernel_size=4, stride=1, padding=1),\n",
        "            nn.ReLU(),\n",
        "            nn.MaxPool2d(kernel_size=2, stride=2))\n",
        "        \n",
        "        self.regressor = nn.Linear(3136,1)\n",
        "\n",
        "\n",
        "    def forward(self, x):\n",
        "        # Simple CNN Model (Batch, 3, 128, 128 -> Batch, 64, 7, 7)\n",
        "        # (Batch, 3, 128, 128)\n",
        "        x = self.layer1(x)\n",
        "        # (Batch, 8, 64, 64)\n",
        "        x = self.layer2(x)\n",
        "        # (Batch, 16, 32, 32)\n",
        "        x = self.layer3(x)\n",
        "        # (Batch, 32, 16, 16)\n",
        "        x = self.layer4(x)\n",
        "        # (Batch, 64, 7, 7) -> Flatten (Batch, 64*7*7(=3136))\n",
        "        x = torch.flatten(x, start_dim=1)\n",
        "        # Regressor (Batch, 3136) -> (Batch, 1)\n",
        "        out = self.regressor(x)\n",
        "        return out"
      ]
    },
    {
      "cell_type": "markdown",
      "id": "629903e0-7438-4494-bef0-1db1db28f4b2",
      "metadata": {
        "id": "629903e0-7438-4494-bef0-1db1db28f4b2"
      },
      "source": [
        "## Train"
      ]
    },
    {
      "cell_type": "code",
      "execution_count": null,
      "id": "e462f95f-cf3c-4b78-84b7-ef50e4690c1b",
      "metadata": {
        "id": "e462f95f-cf3c-4b78-84b7-ef50e4690c1b"
      },
      "outputs": [],
      "source": [
        "def train(model, optimizer, train_loader, vali_loader, scheduler, device):\n",
        "    model.to(device)\n",
        "\n",
        "    # Loss Function\n",
        "    criterion = nn.L1Loss().to(device)\n",
        "    best_mae = 9999\n",
        "    \n",
        "    for epoch in range(1,CFG[\"EPOCHS\"]+1):\n",
        "        model.train()\n",
        "        train_loss = []\n",
        "        for img, label in tqdm(iter(train_loader)):\n",
        "            img, label = img.float().to(device), label.float().to(device)\n",
        "            \n",
        "            optimizer.zero_grad()\n",
        "\n",
        "            # Data -> Model -> Output\n",
        "            logit = model(img)\n",
        "            # Calc loss\n",
        "            loss = criterion(logit.squeeze(1), label)\n",
        "\n",
        "            # backpropagation\n",
        "            loss.backward()\n",
        "            optimizer.step()\n",
        "\n",
        "            train_loss.append(loss.item())\n",
        "            \n",
        "        if scheduler is not None:\n",
        "            scheduler.step()\n",
        "            \n",
        "        # Evaluation Validation set\n",
        "        vali_mae = validation(model, vali_loader, criterion, device)\n",
        "        \n",
        "        print(f'Epoch [{epoch}] Train MAE : [{np.mean(train_loss):.5f}] Validation MAE : [{vali_mae:.5f}]\\n')\n",
        "        \n",
        "        # Model Saved\n",
        "        if best_mae > vali_mae:\n",
        "            best_mae = vali_mae\n",
        "            torch.save(model.state_dict(), './saved/best_model.pth')\n",
        "            print('Model Saved.')"
      ]
    },
    {
      "cell_type": "code",
      "execution_count": null,
      "id": "38eb2190-6eac-4398-85ac-4f94f8fb8b97",
      "metadata": {
        "id": "38eb2190-6eac-4398-85ac-4f94f8fb8b97"
      },
      "outputs": [],
      "source": [
        "def validation(model, vali_loader, criterion, device):\n",
        "    model.eval() # Evaluation\n",
        "    vali_loss = []\n",
        "    with torch.no_grad():\n",
        "        for img, label in tqdm(iter(vali_loader)):\n",
        "            img, label = img.float().to(device), label.float().to(device)\n",
        "\n",
        "            logit = model(img)\n",
        "            loss = criterion(logit.squeeze(1), label)\n",
        "            \n",
        "            vali_loss.append(loss.item())\n",
        "\n",
        "    vali_mae_loss = np.mean(vali_loss)\n",
        "    return vali_mae_loss"
      ]
    },
    {
      "cell_type": "markdown",
      "id": "c87bb28e-f574-43a0-a242-1ba3d34d0656",
      "metadata": {
        "id": "c87bb28e-f574-43a0-a242-1ba3d34d0656"
      },
      "source": [
        "## Run!!"
      ]
    },
    {
      "cell_type": "code",
      "execution_count": null,
      "id": "379342b0-211f-4de4-8ec3-8c16d76e37ef",
      "metadata": {
        "tags": [],
        "colab": {
          "referenced_widgets": [
            "6fa4ccb221134b8b80f03ef047f352aa",
            "c153475fcb8c47bd9787cb28cf50ad79",
            "20a7e18f2f774d3a83047386ce9259da",
            "730582ced39d4d548951e0933527852a",
            "6663f4ab7114446795f5705e6ab4d383",
            "ef4ef4af8d32491bb6b56b5e3a43bdff",
            "6a79785ef168447eb26bd48a0ed51389",
            "d1a30f043c7e4a548af3b4a57a0776b1",
            "03bde1f93727417aa115258a98f1122f",
            "0a1c1056aed7402288efd1a0e33c5f03",
            "9796dbf1b60b471297c1baa42c6f75c5",
            "bd6c5545863f4076ae72f89af80363d5",
            "a0fed13b93f94572950a9c41b3f5b19f",
            "9f9aa0777b724744bc802f7bc87f8cc3",
            "d566685d4b0449e8b19d50e974a25579",
            "364c66489ac6448086c1a99ee701deb0",
            "6d892e3908034414939c92bf46edf71f",
            "b2fff6328363462291e15f3c960c0c3a",
            "895c646d5c5b437aa8f94ee78e0b22b3",
            "d19aaa1a694d4747ada4521610c65052"
          ]
        },
        "id": "379342b0-211f-4de4-8ec3-8c16d76e37ef",
        "outputId": "038f6d42-258b-4244-e18e-c98c28ee5704"
      },
      "outputs": [
        {
          "data": {
            "application/vnd.jupyter.widget-view+json": {
              "model_id": "6fa4ccb221134b8b80f03ef047f352aa",
              "version_major": 2,
              "version_minor": 0
            },
            "text/plain": [
              "  0%|          | 0/160 [00:00<?, ?it/s]"
            ]
          },
          "metadata": {},
          "output_type": "display_data"
        },
        {
          "data": {
            "application/vnd.jupyter.widget-view+json": {
              "model_id": "c153475fcb8c47bd9787cb28cf50ad79",
              "version_major": 2,
              "version_minor": 0
            },
            "text/plain": [
              "  0%|          | 0/40 [00:00<?, ?it/s]"
            ]
          },
          "metadata": {},
          "output_type": "display_data"
        },
        {
          "name": "stdout",
          "output_type": "stream",
          "text": [
            "Epoch [1] Train MAE : [63.01995] Validation MAE : [56.88789]\n",
            "\n",
            "Model Saved.\n"
          ]
        },
        {
          "data": {
            "application/vnd.jupyter.widget-view+json": {
              "model_id": "20a7e18f2f774d3a83047386ce9259da",
              "version_major": 2,
              "version_minor": 0
            },
            "text/plain": [
              "  0%|          | 0/160 [00:00<?, ?it/s]"
            ]
          },
          "metadata": {},
          "output_type": "display_data"
        },
        {
          "data": {
            "application/vnd.jupyter.widget-view+json": {
              "model_id": "730582ced39d4d548951e0933527852a",
              "version_major": 2,
              "version_minor": 0
            },
            "text/plain": [
              "  0%|          | 0/40 [00:00<?, ?it/s]"
            ]
          },
          "metadata": {},
          "output_type": "display_data"
        },
        {
          "name": "stdout",
          "output_type": "stream",
          "text": [
            "Epoch [2] Train MAE : [43.94474] Validation MAE : [24.88520]\n",
            "\n",
            "Model Saved.\n"
          ]
        },
        {
          "data": {
            "application/vnd.jupyter.widget-view+json": {
              "model_id": "6663f4ab7114446795f5705e6ab4d383",
              "version_major": 2,
              "version_minor": 0
            },
            "text/plain": [
              "  0%|          | 0/160 [00:00<?, ?it/s]"
            ]
          },
          "metadata": {},
          "output_type": "display_data"
        },
        {
          "data": {
            "application/vnd.jupyter.widget-view+json": {
              "model_id": "ef4ef4af8d32491bb6b56b5e3a43bdff",
              "version_major": 2,
              "version_minor": 0
            },
            "text/plain": [
              "  0%|          | 0/40 [00:00<?, ?it/s]"
            ]
          },
          "metadata": {},
          "output_type": "display_data"
        },
        {
          "name": "stdout",
          "output_type": "stream",
          "text": [
            "Epoch [3] Train MAE : [38.27210] Validation MAE : [12.71966]\n",
            "\n",
            "Model Saved.\n"
          ]
        },
        {
          "data": {
            "application/vnd.jupyter.widget-view+json": {
              "model_id": "6a79785ef168447eb26bd48a0ed51389",
              "version_major": 2,
              "version_minor": 0
            },
            "text/plain": [
              "  0%|          | 0/160 [00:00<?, ?it/s]"
            ]
          },
          "metadata": {},
          "output_type": "display_data"
        },
        {
          "data": {
            "application/vnd.jupyter.widget-view+json": {
              "model_id": "d1a30f043c7e4a548af3b4a57a0776b1",
              "version_major": 2,
              "version_minor": 0
            },
            "text/plain": [
              "  0%|          | 0/40 [00:00<?, ?it/s]"
            ]
          },
          "metadata": {},
          "output_type": "display_data"
        },
        {
          "name": "stdout",
          "output_type": "stream",
          "text": [
            "Epoch [4] Train MAE : [21.06482] Validation MAE : [18.58724]\n",
            "\n"
          ]
        },
        {
          "data": {
            "application/vnd.jupyter.widget-view+json": {
              "model_id": "03bde1f93727417aa115258a98f1122f",
              "version_major": 2,
              "version_minor": 0
            },
            "text/plain": [
              "  0%|          | 0/160 [00:00<?, ?it/s]"
            ]
          },
          "metadata": {},
          "output_type": "display_data"
        },
        {
          "data": {
            "application/vnd.jupyter.widget-view+json": {
              "model_id": "0a1c1056aed7402288efd1a0e33c5f03",
              "version_major": 2,
              "version_minor": 0
            },
            "text/plain": [
              "  0%|          | 0/40 [00:00<?, ?it/s]"
            ]
          },
          "metadata": {},
          "output_type": "display_data"
        },
        {
          "name": "stdout",
          "output_type": "stream",
          "text": [
            "Epoch [5] Train MAE : [18.39487] Validation MAE : [54.58783]\n",
            "\n"
          ]
        },
        {
          "data": {
            "application/vnd.jupyter.widget-view+json": {
              "model_id": "9796dbf1b60b471297c1baa42c6f75c5",
              "version_major": 2,
              "version_minor": 0
            },
            "text/plain": [
              "  0%|          | 0/160 [00:00<?, ?it/s]"
            ]
          },
          "metadata": {},
          "output_type": "display_data"
        },
        {
          "data": {
            "application/vnd.jupyter.widget-view+json": {
              "model_id": "bd6c5545863f4076ae72f89af80363d5",
              "version_major": 2,
              "version_minor": 0
            },
            "text/plain": [
              "  0%|          | 0/40 [00:00<?, ?it/s]"
            ]
          },
          "metadata": {},
          "output_type": "display_data"
        },
        {
          "name": "stdout",
          "output_type": "stream",
          "text": [
            "Epoch [6] Train MAE : [18.94871] Validation MAE : [43.81117]\n",
            "\n"
          ]
        },
        {
          "data": {
            "application/vnd.jupyter.widget-view+json": {
              "model_id": "a0fed13b93f94572950a9c41b3f5b19f",
              "version_major": 2,
              "version_minor": 0
            },
            "text/plain": [
              "  0%|          | 0/160 [00:00<?, ?it/s]"
            ]
          },
          "metadata": {},
          "output_type": "display_data"
        },
        {
          "data": {
            "application/vnd.jupyter.widget-view+json": {
              "model_id": "9f9aa0777b724744bc802f7bc87f8cc3",
              "version_major": 2,
              "version_minor": 0
            },
            "text/plain": [
              "  0%|          | 0/40 [00:00<?, ?it/s]"
            ]
          },
          "metadata": {},
          "output_type": "display_data"
        },
        {
          "name": "stdout",
          "output_type": "stream",
          "text": [
            "Epoch [7] Train MAE : [17.14110] Validation MAE : [19.56329]\n",
            "\n"
          ]
        },
        {
          "data": {
            "application/vnd.jupyter.widget-view+json": {
              "model_id": "d566685d4b0449e8b19d50e974a25579",
              "version_major": 2,
              "version_minor": 0
            },
            "text/plain": [
              "  0%|          | 0/160 [00:00<?, ?it/s]"
            ]
          },
          "metadata": {},
          "output_type": "display_data"
        },
        {
          "data": {
            "application/vnd.jupyter.widget-view+json": {
              "model_id": "364c66489ac6448086c1a99ee701deb0",
              "version_major": 2,
              "version_minor": 0
            },
            "text/plain": [
              "  0%|          | 0/40 [00:00<?, ?it/s]"
            ]
          },
          "metadata": {},
          "output_type": "display_data"
        },
        {
          "name": "stdout",
          "output_type": "stream",
          "text": [
            "Epoch [8] Train MAE : [15.65310] Validation MAE : [43.01975]\n",
            "\n"
          ]
        },
        {
          "data": {
            "application/vnd.jupyter.widget-view+json": {
              "model_id": "6d892e3908034414939c92bf46edf71f",
              "version_major": 2,
              "version_minor": 0
            },
            "text/plain": [
              "  0%|          | 0/160 [00:00<?, ?it/s]"
            ]
          },
          "metadata": {},
          "output_type": "display_data"
        },
        {
          "data": {
            "application/vnd.jupyter.widget-view+json": {
              "model_id": "b2fff6328363462291e15f3c960c0c3a",
              "version_major": 2,
              "version_minor": 0
            },
            "text/plain": [
              "  0%|          | 0/40 [00:00<?, ?it/s]"
            ]
          },
          "metadata": {},
          "output_type": "display_data"
        },
        {
          "name": "stdout",
          "output_type": "stream",
          "text": [
            "Epoch [9] Train MAE : [15.70300] Validation MAE : [36.53123]\n",
            "\n"
          ]
        },
        {
          "data": {
            "application/vnd.jupyter.widget-view+json": {
              "model_id": "895c646d5c5b437aa8f94ee78e0b22b3",
              "version_major": 2,
              "version_minor": 0
            },
            "text/plain": [
              "  0%|          | 0/160 [00:00<?, ?it/s]"
            ]
          },
          "metadata": {},
          "output_type": "display_data"
        },
        {
          "data": {
            "application/vnd.jupyter.widget-view+json": {
              "model_id": "d19aaa1a694d4747ada4521610c65052",
              "version_major": 2,
              "version_minor": 0
            },
            "text/plain": [
              "  0%|          | 0/40 [00:00<?, ?it/s]"
            ]
          },
          "metadata": {},
          "output_type": "display_data"
        },
        {
          "name": "stdout",
          "output_type": "stream",
          "text": [
            "Epoch [10] Train MAE : [14.46853] Validation MAE : [16.36535]\n",
            "\n"
          ]
        }
      ],
      "source": [
        "model = CNNRegressor().to(device)\n",
        "\n",
        "optimizer = torch.optim.SGD(params = model.parameters(), lr = CFG[\"LEARNING_RATE\"])\n",
        "scheduler = None\n",
        "\n",
        "train(model, optimizer, train_loader, vali_loader, scheduler, device)"
      ]
    },
    {
      "cell_type": "markdown",
      "id": "660aa9ae-6aaf-47fc-8ed4-eca154466544",
      "metadata": {
        "id": "660aa9ae-6aaf-47fc-8ed4-eca154466544"
      },
      "source": [
        "## Inference"
      ]
    },
    {
      "cell_type": "code",
      "execution_count": null,
      "id": "0e55d732-3cd1-4034-a568-8cce6f29f993",
      "metadata": {
        "id": "0e55d732-3cd1-4034-a568-8cce6f29f993"
      },
      "outputs": [],
      "source": [
        "def predict(model, test_loader, device):\n",
        "    model.eval()\n",
        "    model_pred = []\n",
        "    with torch.no_grad():\n",
        "        for img in tqdm(iter(test_loader)):\n",
        "            img = img.float().to(device)\n",
        "\n",
        "            pred_logit = model(img)\n",
        "            pred_logit = pred_logit.squeeze(1).detach().cpu()\n",
        "\n",
        "            model_pred.extend(pred_logit.tolist())\n",
        "    return model_pred"
      ]
    },
    {
      "cell_type": "code",
      "execution_count": null,
      "id": "b1ee67e0-daba-4471-8f97-c5506dbfc990",
      "metadata": {
        "colab": {
          "referenced_widgets": [
            "1674334ee3724eea9155d91180fb52fd"
          ]
        },
        "id": "b1ee67e0-daba-4471-8f97-c5506dbfc990",
        "outputId": "ef90e0b2-6a4a-49fb-e758-8c2d86945960"
      },
      "outputs": [
        {
          "data": {
            "application/vnd.jupyter.widget-view+json": {
              "model_id": "1674334ee3724eea9155d91180fb52fd",
              "version_major": 2,
              "version_minor": 0
            },
            "text/plain": [
              "  0%|          | 0/58 [00:00<?, ?it/s]"
            ]
          },
          "metadata": {},
          "output_type": "display_data"
        }
      ],
      "source": [
        "test_dataset = CustomDataset(test_img_path, None, train_mode=False, transforms=test_transform)\n",
        "test_loader = DataLoader(test_dataset, batch_size = CFG['BATCH_SIZE'], shuffle=False, num_workers=0)\n",
        "\n",
        "# Validation Score가 가장 뛰어난 모델을 불러옵니다.\n",
        "checkpoint = torch.load('./saved/best_model.pth')\n",
        "model = CNNRegressor().to(device)\n",
        "model.load_state_dict(checkpoint)\n",
        "\n",
        "# Inference\n",
        "preds = predict(model, test_loader, device)"
      ]
    },
    {
      "cell_type": "markdown",
      "id": "eb00479c-a650-4b38-bd21-d4c1018ba57e",
      "metadata": {
        "id": "eb00479c-a650-4b38-bd21-d4c1018ba57e"
      },
      "source": [
        "## Submission"
      ]
    },
    {
      "cell_type": "code",
      "execution_count": null,
      "id": "d169965e-8066-464e-b755-9a2db0d018b6",
      "metadata": {
        "id": "d169965e-8066-464e-b755-9a2db0d018b6"
      },
      "outputs": [],
      "source": [
        "submission = pd.read_csv('./sample_submission.csv')\n",
        "submission['leaf_weight'] = preds\n",
        "submission.to_csv('./submit.csv', index=False)"
      ]
    }
  ],
  "metadata": {
    "kernelspec": {
      "display_name": "Python 3 (ipykernel)",
      "language": "python",
      "name": "python3"
    },
    "language_info": {
      "codemirror_mode": {
        "name": "ipython",
        "version": 3
      },
      "file_extension": ".py",
      "mimetype": "text/x-python",
      "name": "python",
      "nbconvert_exporter": "python",
      "pygments_lexer": "ipython3",
      "version": "3.10.2"
    },
    "colab": {
      "name": "Baseline_codes.ipynb",
      "provenance": [],
      "include_colab_link": true
    }
  },
  "nbformat": 4,
  "nbformat_minor": 5
}