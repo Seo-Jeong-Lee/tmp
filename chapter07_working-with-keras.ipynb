{
  "cells": [
    {
      "cell_type": "markdown",
      "metadata": {
        "id": "RYMqNTA2fMvq"
      },
      "source": [
        "This is a companion notebook for the book [Deep Learning with Python, Second Edition](https://www.manning.com/books/deep-learning-with-python-second-edition?a_aid=keras&a_bid=76564dff). For readability, it only contains runnable code blocks and section titles, and omits everything else in the book: text paragraphs, figures, and pseudocode.\n",
        "\n",
        "**If you want to be able to follow what's going on, I recommend reading the notebook side by side with your copy of the book.**\n",
        "\n",
        "This notebook was generated for TensorFlow 2.6."
      ]
    },
    {
      "cell_type": "markdown",
      "metadata": {
        "id": "f9NQgHekfMvv"
      },
      "source": [
        "# Working with Keras: A deep dive"
      ]
    },
    {
      "cell_type": "markdown",
      "metadata": {
        "id": "9IuA1E6AfMvw"
      },
      "source": [
        "## A spectrum of workflows"
      ]
    },
    {
      "cell_type": "markdown",
      "metadata": {
        "id": "bK3WKwjgfMvx"
      },
      "source": [
        "## Different ways to build Keras models"
      ]
    },
    {
      "cell_type": "markdown",
      "metadata": {
        "id": "11g6KPW1fMvx"
      },
      "source": [
        "### The Sequential model"
      ]
    },
    {
      "cell_type": "markdown",
      "metadata": {
        "id": "bYCzWEbZfMvy"
      },
      "source": [
        "**The `Sequential` class**"
      ]
    },
    {
      "cell_type": "code",
      "execution_count": 1,
      "metadata": {
        "id": "LTJzOPgDfMvz"
      },
      "outputs": [],
      "source": [
        "from tensorflow import keras\n",
        "from tensorflow.keras import layers\n",
        "\n",
        "model = keras.Sequential([\n",
        "    layers.Dense(64, activation=\"relu\"),\n",
        "    layers.Dense(10, activation=\"softmax\")\n",
        "])"
      ]
    },
    {
      "cell_type": "code",
      "source": [
        "#생성된 layer의 개수를 확인 가능. 한 줄이 하나의 layer를 의미.\n",
        "model.layers"
      ],
      "metadata": {
        "id": "OSO6y2EvfWTe",
        "outputId": "83ee0ab6-62d6-44e7-8309-f558f3eea8e2",
        "colab": {
          "base_uri": "https://localhost:8080/"
        }
      },
      "execution_count": 3,
      "outputs": [
        {
          "output_type": "execute_result",
          "data": {
            "text/plain": [
              "[<keras.layers.core.dense.Dense at 0x7faf125cf7d0>,\n",
              " <keras.layers.core.dense.Dense at 0x7fae8f530b50>]"
            ]
          },
          "metadata": {},
          "execution_count": 3
        }
      ]
    },
    {
      "cell_type": "markdown",
      "metadata": {
        "id": "5rjYqtT0fMv0"
      },
      "source": [
        "**Incrementally building a Sequential model**"
      ]
    },
    {
      "cell_type": "code",
      "execution_count": 4,
      "metadata": {
        "id": "zvX7Ui9TfMv1"
      },
      "outputs": [],
      "source": [
        "model = keras.Sequential()\n",
        "model.add(layers.Dense(64, activation=\"relu\"))\n",
        "model.add(layers.Dense(10, activation=\"softmax\"))"
      ]
    },
    {
      "cell_type": "markdown",
      "metadata": {
        "id": "voDMDN7ufMv2"
      },
      "source": [
        "**Calling a model for the first time to build it**"
      ]
    },
    {
      "cell_type": "code",
      "execution_count": 5,
      "metadata": {
        "colab": {
          "base_uri": "https://localhost:8080/"
        },
        "id": "8sfzq5pcfMv3",
        "outputId": "e320adb1-04e9-4436-8f48-30f15cf37332"
      },
      "outputs": [
        {
          "output_type": "execute_result",
          "data": {
            "text/plain": [
              "[<tf.Variable 'dense_2/kernel:0' shape=(3, 64) dtype=float32, numpy=\n",
              " array([[ 0.15519178,  0.26362747, -0.11819872, -0.22724286,  0.17810044,\n",
              "          0.22990286,  0.13759288, -0.24603005, -0.2770402 , -0.28155386,\n",
              "          0.12818009, -0.2768229 ,  0.05609798, -0.06495199,  0.11365825,\n",
              "         -0.0825945 ,  0.28625262,  0.23061252,  0.11461928, -0.25500593,\n",
              "          0.01001811,  0.11147457,  0.13600326, -0.23533322,  0.2750092 ,\n",
              "         -0.00548768,  0.09796816, -0.21102557,  0.09307173,  0.22948092,\n",
              "         -0.09915873,  0.0240933 , -0.24105614, -0.12972054, -0.1373929 ,\n",
              "          0.16495353, -0.06581558, -0.05668347, -0.04988441, -0.28737625,\n",
              "          0.11800051, -0.27791464, -0.12211463,  0.04873571, -0.15036471,\n",
              "         -0.2432988 ,  0.2859437 , -0.2284733 ,  0.22752506,  0.05879635,\n",
              "         -0.22306675, -0.21178222,  0.2832247 ,  0.18681717,  0.258969  ,\n",
              "         -0.10728584, -0.02346566, -0.00141439,  0.03575534, -0.26783398,\n",
              "          0.1268971 ,  0.11598316, -0.04372799,  0.02461842],\n",
              "        [ 0.01556158, -0.11138582,  0.17373654, -0.00560632, -0.01818424,\n",
              "         -0.01809743, -0.29594964,  0.08474064, -0.23804449,  0.2972455 ,\n",
              "         -0.06286956, -0.06150827,  0.01483476, -0.05017701, -0.13114029,\n",
              "         -0.1303352 , -0.18907318, -0.08205774,  0.13335028,  0.03597316,\n",
              "          0.2502036 ,  0.19686061, -0.08075416, -0.23388907, -0.23028374,\n",
              "         -0.2118985 , -0.2090775 , -0.18197867,  0.05618331, -0.131003  ,\n",
              "          0.07306206,  0.04369032,  0.24869281,  0.11143604, -0.2959829 ,\n",
              "          0.27392912,  0.00906932,  0.06620413,  0.29529804, -0.19518852,\n",
              "          0.01847029, -0.12112083,  0.15864593,  0.03934282, -0.15167022,\n",
              "          0.26366913,  0.27160776,  0.2299369 ,  0.2199949 , -0.23104973,\n",
              "          0.24017072, -0.29187292, -0.13011596,  0.00503778, -0.23923285,\n",
              "         -0.19247782,  0.12021577, -0.05352826,  0.1996857 , -0.20139197,\n",
              "          0.2248097 , -0.00939354,  0.01649395, -0.0945337 ],\n",
              "        [ 0.29901385, -0.2754988 ,  0.17378208,  0.26778662, -0.10732003,\n",
              "          0.06571755, -0.2584042 ,  0.19723639,  0.07328552, -0.02808008,\n",
              "          0.18410233,  0.17186803, -0.11361864,  0.06536138,  0.29490376,\n",
              "          0.18261617,  0.03224596,  0.05084032,  0.2549051 , -0.1047864 ,\n",
              "          0.03546274, -0.09459992,  0.04159057,  0.13698736, -0.06773175,\n",
              "         -0.2835376 ,  0.11282104,  0.06252524,  0.18425408, -0.18124138,\n",
              "         -0.02380493,  0.16975659, -0.29003814, -0.1030954 ,  0.14162314,\n",
              "          0.16344091,  0.17181024, -0.24690478,  0.07662115,  0.28565568,\n",
              "         -0.23491085, -0.04628214, -0.25572944,  0.19790122,  0.14795366,\n",
              "          0.10266653, -0.01464462,  0.11081704, -0.09102948,  0.2792104 ,\n",
              "         -0.2769337 , -0.08483587,  0.05534735,  0.05797991,  0.14054966,\n",
              "          0.29436272, -0.0923118 ,  0.16376653,  0.00039598, -0.1186751 ,\n",
              "         -0.03251246,  0.01742953,  0.14269   ,  0.12586349]],\n",
              "       dtype=float32)>,\n",
              " <tf.Variable 'dense_2/bias:0' shape=(64,) dtype=float32, numpy=\n",
              " array([0., 0., 0., 0., 0., 0., 0., 0., 0., 0., 0., 0., 0., 0., 0., 0., 0.,\n",
              "        0., 0., 0., 0., 0., 0., 0., 0., 0., 0., 0., 0., 0., 0., 0., 0., 0.,\n",
              "        0., 0., 0., 0., 0., 0., 0., 0., 0., 0., 0., 0., 0., 0., 0., 0., 0.,\n",
              "        0., 0., 0., 0., 0., 0., 0., 0., 0., 0., 0., 0., 0.], dtype=float32)>,\n",
              " <tf.Variable 'dense_3/kernel:0' shape=(64, 10) dtype=float32, numpy=\n",
              " array([[ 1.71001285e-01, -1.89383745e-01, -2.05589682e-01,\n",
              "          1.85877085e-04,  5.28394878e-02,  6.19944632e-02,\n",
              "         -9.16636139e-02,  1.09806895e-01,  6.23266995e-02,\n",
              "          2.62608558e-01],\n",
              "        [ 2.67119020e-01,  7.20686018e-02, -4.38306779e-02,\n",
              "         -6.15042448e-03, -4.15944755e-02, -8.29841346e-02,\n",
              "          1.72701091e-01, -2.83353031e-01, -2.42244765e-01,\n",
              "         -2.12029517e-01],\n",
              "        [ 1.07398331e-01, -1.27770960e-01,  1.32002413e-01,\n",
              "         -2.74681747e-01, -1.41849726e-01,  2.57600099e-01,\n",
              "          1.78343147e-01,  1.60915554e-02, -2.18634844e-01,\n",
              "         -6.38676584e-02],\n",
              "        [ 1.77471340e-01,  2.60194242e-02,  1.16221070e-01,\n",
              "          2.32135326e-01, -1.92015409e-01,  1.69611484e-01,\n",
              "         -2.19645023e-01,  1.16921604e-01, -1.37131035e-01,\n",
              "          1.10024273e-01],\n",
              "        [ 2.38284022e-01,  1.49181008e-01,  8.36836696e-02,\n",
              "         -1.33591026e-01, -2.44605273e-01, -2.73603797e-01,\n",
              "         -1.35145485e-01,  1.63672477e-01, -2.27916643e-01,\n",
              "          5.15501499e-02],\n",
              "        [ 3.03348601e-02,  6.54821992e-02, -8.01163018e-02,\n",
              "         -2.20762074e-01,  2.47581869e-01, -4.97415662e-03,\n",
              "         -9.34372246e-02,  5.54023087e-02,  1.69547647e-01,\n",
              "          2.62617737e-01],\n",
              "        [ 2.83541530e-01, -1.06704503e-01, -1.09634459e-01,\n",
              "          1.28276795e-01, -2.49934629e-01, -1.66172072e-01,\n",
              "          2.28286296e-01, -8.96881819e-02, -1.20388836e-01,\n",
              "          4.04704511e-02],\n",
              "        [-2.10416883e-01,  1.51897103e-01,  2.40992755e-01,\n",
              "          8.77250433e-02,  2.70561129e-01, -1.00838080e-01,\n",
              "         -1.00534007e-01, -2.25039765e-01,  1.84346735e-01,\n",
              "          1.49021119e-01],\n",
              "        [-6.64746016e-02,  1.72838300e-01,  1.95794165e-01,\n",
              "          2.82797217e-03, -2.71703660e-01, -1.81648821e-01,\n",
              "          8.80099535e-02, -1.71341151e-01, -3.23921740e-02,\n",
              "         -2.49549896e-01],\n",
              "        [-6.78492188e-02,  1.42609745e-01,  5.84891438e-02,\n",
              "          1.66342407e-01,  1.44685179e-01,  2.45652229e-01,\n",
              "          1.79312617e-01, -5.66031933e-02,  2.24524230e-01,\n",
              "          2.53609031e-01],\n",
              "        [ 5.53802252e-02, -5.79713583e-02, -2.54674375e-01,\n",
              "          1.40430719e-01, -8.15913230e-02,  8.34721327e-02,\n",
              "         -1.67450279e-01, -2.54009664e-01, -8.93680900e-02,\n",
              "         -1.70422822e-01],\n",
              "        [-9.68973935e-02,  1.08733028e-01, -2.52154261e-01,\n",
              "          1.77980214e-01,  1.89133525e-01, -2.33354688e-01,\n",
              "          2.57044405e-01, -2.17435509e-01,  2.41777867e-01,\n",
              "          2.58712262e-01],\n",
              "        [-1.17343605e-01,  5.49212992e-02, -1.64587349e-01,\n",
              "          1.54568553e-02,  1.62653327e-01, -2.56952643e-02,\n",
              "         -1.11258030e-02,  2.13505417e-01, -1.02733061e-01,\n",
              "          2.59332389e-01],\n",
              "        [ 9.36594307e-02, -1.19608790e-01, -8.01444054e-03,\n",
              "          1.48136735e-01, -1.10206306e-02,  1.35347366e-01,\n",
              "         -2.24180564e-01, -2.01309294e-01,  8.74619484e-02,\n",
              "          8.33907723e-03],\n",
              "        [-1.63575053e-01,  2.29386181e-01, -3.59031558e-03,\n",
              "          2.60898918e-01, -8.41873288e-02,  2.46159703e-01,\n",
              "          2.02145398e-01,  1.15380526e-01, -2.07760990e-01,\n",
              "          2.41932660e-01],\n",
              "        [ 1.95685089e-01, -2.83496410e-01,  4.64330614e-02,\n",
              "          1.11722112e-01,  2.50000864e-01,  1.70347124e-01,\n",
              "          1.00717634e-01,  1.18628144e-03, -1.54530868e-01,\n",
              "          1.65758818e-01],\n",
              "        [ 1.76242471e-01, -6.04141355e-02,  2.82905996e-02,\n",
              "          2.60547608e-01,  1.85133487e-01, -2.59144723e-01,\n",
              "          2.56293923e-01,  1.44782871e-01, -1.44297197e-01,\n",
              "         -1.60427436e-01],\n",
              "        [-7.25624859e-02, -1.87035337e-01, -2.61960089e-01,\n",
              "          6.31504059e-02,  2.17688948e-01,  2.55032092e-01,\n",
              "          1.75299346e-01,  2.69970387e-01,  1.83692873e-01,\n",
              "          3.31813991e-02],\n",
              "        [ 8.68039131e-02,  1.16624117e-01,  1.70651376e-02,\n",
              "          1.73945904e-01, -8.26444924e-02, -2.41050452e-01,\n",
              "         -2.59312212e-01, -2.79421210e-01, -9.90632474e-02,\n",
              "          2.36274689e-01],\n",
              "        [ 1.03472471e-02,  6.24250174e-02, -2.83023834e-01,\n",
              "         -7.39370286e-02, -2.60702163e-01,  9.20408070e-02,\n",
              "         -1.19376957e-01, -1.17407441e-02, -2.69865692e-02,\n",
              "          2.33031243e-01],\n",
              "        [ 2.76567787e-01,  2.50095725e-02, -2.83126742e-01,\n",
              "          1.92045420e-01, -2.62176782e-01,  1.50882244e-01,\n",
              "          5.20246029e-02,  1.80108815e-01,  6.02965057e-02,\n",
              "         -1.87535271e-01],\n",
              "        [ 5.27840853e-02, -9.49044377e-02, -9.51251388e-02,\n",
              "         -2.85694301e-02,  2.03397065e-01, -1.08187348e-01,\n",
              "         -1.19402483e-01, -1.15612090e-01,  2.89664865e-02,\n",
              "          1.24688268e-01],\n",
              "        [-6.22961670e-02, -2.33662724e-02,  1.63991690e-01,\n",
              "         -2.48086140e-01, -9.12865549e-02,  2.13441253e-01,\n",
              "          1.81642920e-01,  2.15410382e-01, -6.94503784e-02,\n",
              "         -2.28363082e-01],\n",
              "        [-3.78884077e-02, -2.46743903e-01,  2.55865127e-01,\n",
              "         -9.49044377e-02,  2.41253704e-01, -9.18564945e-02,\n",
              "         -2.52446592e-01, -2.53517687e-01, -2.16834009e-01,\n",
              "          3.35575640e-02],\n",
              "        [-9.28697288e-02,  2.40753442e-01, -2.14227214e-01,\n",
              "          2.15847939e-01,  2.66189188e-01, -1.46072432e-01,\n",
              "          2.22008973e-01, -1.18185639e-01,  2.40841061e-01,\n",
              "          2.39598602e-01],\n",
              "        [ 1.67305768e-02,  1.47202373e-01,  1.10452324e-01,\n",
              "          2.76389509e-01, -3.75535190e-02,  1.66423410e-01,\n",
              "          1.55362040e-01,  1.70308292e-01,  2.59486139e-02,\n",
              "         -1.16051674e-01],\n",
              "        [-6.91308230e-02, -1.72346860e-01, -7.33068883e-02,\n",
              "          2.61946350e-01,  1.83591932e-01, -2.20443308e-02,\n",
              "          2.02033997e-01,  1.16816789e-01,  2.28159219e-01,\n",
              "         -2.72657156e-01],\n",
              "        [ 5.32666445e-02,  2.77665526e-01,  1.62864655e-01,\n",
              "          2.64149576e-01,  1.37735575e-01,  1.81545973e-01,\n",
              "         -1.83386713e-01, -1.05806589e-02, -2.63202310e-01,\n",
              "         -2.23135963e-01],\n",
              "        [ 1.46937340e-01, -8.90996456e-02,  1.83343261e-01,\n",
              "         -1.54105201e-01,  9.51057971e-02, -5.47479242e-02,\n",
              "         -2.28630900e-01,  1.08337164e-01, -1.15967974e-01,\n",
              "         -4.35086787e-02],\n",
              "        [-2.71782279e-02, -1.47871286e-01,  2.79568404e-01,\n",
              "          1.87654197e-01,  1.78625584e-01, -2.16234088e-01,\n",
              "          1.89274371e-01, -1.36950791e-01,  2.48122245e-01,\n",
              "          1.15660697e-01],\n",
              "        [ 4.08521891e-02,  1.71520293e-01, -2.02031687e-01,\n",
              "         -1.29308179e-01, -1.15614608e-01,  1.53204501e-01,\n",
              "         -2.53647536e-01,  2.39589304e-01,  2.01766163e-01,\n",
              "         -1.89156055e-01],\n",
              "        [-1.62515968e-01, -8.35984647e-02, -2.38089815e-01,\n",
              "         -2.02215880e-01,  1.92636997e-01,  1.22573912e-01,\n",
              "         -2.08176672e-01,  6.78839087e-02, -7.20115006e-02,\n",
              "         -1.55254215e-01],\n",
              "        [-5.52462935e-02, -1.58697143e-01, -2.06643671e-01,\n",
              "          2.40484387e-01, -9.73580182e-02,  4.85710204e-02,\n",
              "          1.64145857e-01, -2.65759826e-01,  1.58000261e-01,\n",
              "         -1.20233983e-01],\n",
              "        [ 6.03932440e-02, -1.49362192e-01, -8.46779644e-02,\n",
              "          2.12070316e-01,  1.85808241e-01,  1.44382745e-01,\n",
              "         -8.92060399e-02,  9.79947448e-02,  5.65557480e-02,\n",
              "         -1.11101404e-01],\n",
              "        [ 2.41561502e-01, -3.41342986e-02,  7.70271420e-02,\n",
              "         -2.05103263e-01, -7.80590475e-02, -7.64001161e-02,\n",
              "         -1.35801628e-01, -6.47221804e-02,  2.54302114e-01,\n",
              "         -7.90930688e-02],\n",
              "        [ 1.38526261e-02,  6.78862035e-02, -2.00290978e-02,\n",
              "          1.06028050e-01,  1.66781723e-01, -1.75844133e-02,\n",
              "          2.24106580e-01, -2.09086314e-01,  6.87054396e-02,\n",
              "         -1.02513507e-01],\n",
              "        [-1.74037158e-01,  1.28026694e-01,  2.09137291e-01,\n",
              "          1.27396226e-01, -9.54017043e-03,  4.89065945e-02,\n",
              "         -1.73857450e-01, -1.43584087e-01, -1.58323765e-01,\n",
              "         -9.20584649e-02],\n",
              "        [-1.79896384e-01, -2.26872981e-01,  2.82141000e-01,\n",
              "         -1.98253393e-01,  2.83154994e-01, -1.34380102e-01,\n",
              "          7.10830986e-02,  2.11038738e-01, -4.00384665e-02,\n",
              "          1.99192762e-01],\n",
              "        [ 9.12893414e-02,  9.73773003e-02, -2.00990275e-01,\n",
              "         -2.61823833e-02,  3.60113382e-02, -1.51224524e-01,\n",
              "          5.53375483e-02, -1.82895452e-01, -2.30852500e-01,\n",
              "         -6.22710437e-02],\n",
              "        [ 7.50853121e-02, -2.39175707e-01, -2.57946700e-01,\n",
              "          1.97025746e-01, -8.44588280e-02,  2.46773988e-01,\n",
              "         -1.83222681e-01,  1.06918216e-01,  8.69896710e-02,\n",
              "         -6.93111420e-02],\n",
              "        [ 1.94447339e-02, -1.76297128e-02,  4.65544462e-02,\n",
              "         -2.27067679e-01, -2.30518073e-01,  1.35321051e-01,\n",
              "         -2.00232357e-01,  2.66828507e-01, -2.33430997e-01,\n",
              "         -3.96960974e-02],\n",
              "        [-2.78451353e-01, -1.97721004e-01,  2.43158430e-01,\n",
              "          1.73514873e-01, -1.26157716e-01,  6.79940879e-02,\n",
              "         -1.50689900e-01,  1.54166847e-01,  5.49728274e-02,\n",
              "          2.78473496e-02],\n",
              "        [ 5.47030568e-03,  8.70439708e-02,  2.50440806e-01,\n",
              "         -1.99972272e-01,  1.80011064e-01,  5.78554571e-02,\n",
              "          5.69163561e-02,  3.13464999e-02,  7.20633566e-02,\n",
              "          1.02765858e-02],\n",
              "        [-2.81572908e-01,  1.43096387e-01, -2.21245646e-01,\n",
              "          2.67191201e-01, -1.69449076e-01,  7.69743919e-02,\n",
              "          2.79774636e-01,  3.61707509e-02, -2.47890964e-01,\n",
              "          1.51226908e-01],\n",
              "        [-1.67011455e-01, -2.90076435e-02, -9.84978080e-02,\n",
              "         -1.53262287e-01,  1.87585980e-01, -7.52365738e-02,\n",
              "         -2.53358543e-01, -2.30856165e-01,  2.20141917e-01,\n",
              "          1.94483906e-01],\n",
              "        [-6.63054883e-02,  8.29554200e-02,  8.66743028e-02,\n",
              "          1.81692660e-01, -2.49020427e-01,  1.88530087e-02,\n",
              "          5.65007329e-02, -2.63083309e-01, -1.61582232e-03,\n",
              "          1.15991801e-01],\n",
              "        [-6.09255582e-02,  2.01349527e-01,  8.77684951e-02,\n",
              "         -2.60488033e-01,  2.21574515e-01, -2.20326304e-01,\n",
              "          2.35861212e-01, -2.70216972e-01, -2.24100113e-01,\n",
              "          4.27239537e-02],\n",
              "        [-3.69256139e-02,  1.82437003e-01, -7.42229819e-03,\n",
              "         -8.46997648e-02, -1.96012855e-02, -1.06797785e-01,\n",
              "         -3.31898928e-02, -1.04009509e-02,  2.07335055e-01,\n",
              "         -2.75012642e-01],\n",
              "        [-2.79980153e-01, -6.24561757e-02,  1.70426220e-01,\n",
              "          4.84793782e-02,  2.16565996e-01,  7.44411349e-03,\n",
              "          2.32264370e-01, -1.18100032e-01, -1.44103512e-01,\n",
              "          2.21291095e-01],\n",
              "        [-5.66712767e-02, -1.78787827e-01,  2.09056318e-01,\n",
              "          3.20128202e-02,  6.64854050e-02,  1.82944328e-01,\n",
              "          8.35802555e-02,  6.03168011e-02, -1.98662221e-01,\n",
              "          9.29613709e-02],\n",
              "        [-1.84476972e-02,  1.28346443e-01,  2.27182597e-01,\n",
              "         -1.70529187e-01, -1.22990489e-01,  1.83349431e-01,\n",
              "          1.80908889e-01, -2.44684353e-01,  1.53266370e-01,\n",
              "         -9.37171280e-02],\n",
              "        [ 8.05246532e-02,  1.80274457e-01,  2.34003752e-01,\n",
              "          4.44291830e-02, -5.85802495e-02,  2.06215829e-01,\n",
              "          2.19559580e-01, -2.44651362e-01, -1.17424458e-01,\n",
              "          1.96258396e-01],\n",
              "        [-2.61887610e-02,  1.04624927e-01,  5.63881099e-02,\n",
              "          2.04035312e-01, -3.63725871e-02,  2.50266880e-01,\n",
              "         -9.86965895e-02,  2.02276766e-01, -2.21142665e-01,\n",
              "         -2.34180212e-01],\n",
              "        [ 1.60805225e-01,  2.28940755e-01,  1.43035352e-02,\n",
              "         -2.00482324e-01, -2.28672579e-01,  2.06325620e-01,\n",
              "          1.52931273e-01,  6.68539107e-02, -2.35782743e-01,\n",
              "          2.41076738e-01],\n",
              "        [ 2.78203875e-01, -2.29191869e-01,  2.24994630e-01,\n",
              "         -2.37917989e-01,  1.68988913e-01,  2.65208036e-01,\n",
              "         -2.00533450e-01, -1.28122687e-01,  1.25154376e-01,\n",
              "          1.04318619e-01],\n",
              "        [-1.42873287e-01, -2.56650627e-01,  1.75839692e-01,\n",
              "         -9.07741338e-02, -1.63849175e-01,  2.14608490e-01,\n",
              "         -1.47742778e-01,  1.10268950e-01,  1.83786303e-01,\n",
              "         -1.77242130e-01],\n",
              "        [-3.98093462e-03,  7.65181184e-02,  1.04809999e-01,\n",
              "         -1.48761854e-01,  1.17276251e-01, -1.37146845e-01,\n",
              "          6.23104870e-02, -5.72222471e-03,  1.39178693e-01,\n",
              "         -1.21150628e-01],\n",
              "        [-2.12648660e-01, -6.22610003e-02, -2.46489257e-01,\n",
              "          1.49730146e-01, -2.44299427e-01, -1.55770048e-01,\n",
              "          4.08800244e-02, -1.65247142e-01, -2.38197356e-01,\n",
              "          7.12276399e-02],\n",
              "        [ 2.02876449e-01,  2.16410071e-01, -1.48515344e-01,\n",
              "         -1.84585899e-01, -1.71510875e-01,  1.68613493e-02,\n",
              "         -8.54256302e-02,  2.24953502e-01,  2.71991163e-01,\n",
              "         -2.64483452e-01],\n",
              "        [-1.64365143e-01,  1.72516406e-02, -7.86281079e-02,\n",
              "         -1.67170182e-01,  2.61636347e-01, -1.07022300e-01,\n",
              "         -5.72042167e-02, -1.34665370e-02,  4.84908521e-02,\n",
              "          1.16574556e-01],\n",
              "        [ 2.84331292e-01, -2.48253971e-01,  3.11428308e-02,\n",
              "         -2.32409477e-01,  3.71313095e-03,  6.00567162e-02,\n",
              "         -5.61796278e-02,  1.37408018e-01, -3.98327559e-02,\n",
              "         -2.59188980e-01],\n",
              "        [ 2.72234946e-01,  4.32379246e-02,  5.05125225e-02,\n",
              "         -1.17076606e-01,  1.48742497e-01, -1.33375064e-01,\n",
              "         -1.24846905e-01, -1.51064441e-01,  4.73384261e-02,\n",
              "         -2.76596904e-01],\n",
              "        [ 1.94729894e-01, -7.06460476e-02, -1.19440570e-01,\n",
              "         -2.91889012e-02, -1.53612942e-01,  9.83731747e-02,\n",
              "         -1.91277921e-01, -1.06548503e-01,  2.53093272e-01,\n",
              "         -2.77438998e-01],\n",
              "        [-4.82116193e-02, -9.65219736e-03, -2.76213884e-01,\n",
              "          2.55459100e-01,  2.41770774e-01,  8.57781172e-02,\n",
              "          5.17837405e-02,  1.79182738e-01, -1.32095352e-01,\n",
              "          1.56483412e-01]], dtype=float32)>,\n",
              " <tf.Variable 'dense_3/bias:0' shape=(10,) dtype=float32, numpy=array([0., 0., 0., 0., 0., 0., 0., 0., 0., 0.], dtype=float32)>]"
            ]
          },
          "metadata": {},
          "execution_count": 5
        }
      ],
      "source": [
        "model.build(input_shape=(None, 3))\n",
        "model.weights"
      ]
    },
    {
      "cell_type": "markdown",
      "metadata": {
        "id": "9Sf2T77UfMv3"
      },
      "source": [
        "**The summary method**"
      ]
    },
    {
      "cell_type": "code",
      "execution_count": 6,
      "metadata": {
        "colab": {
          "base_uri": "https://localhost:8080/"
        },
        "id": "uqgWr0BufMv3",
        "outputId": "079895e3-f60e-4220-fbaa-b68cc649c715"
      },
      "outputs": [
        {
          "output_type": "stream",
          "name": "stdout",
          "text": [
            "Model: \"sequential_1\"\n",
            "_________________________________________________________________\n",
            " Layer (type)                Output Shape              Param #   \n",
            "=================================================================\n",
            " dense_2 (Dense)             (None, 64)                256       \n",
            "                                                                 \n",
            " dense_3 (Dense)             (None, 10)                650       \n",
            "                                                                 \n",
            "=================================================================\n",
            "Total params: 906\n",
            "Trainable params: 906\n",
            "Non-trainable params: 0\n",
            "_________________________________________________________________\n"
          ]
        }
      ],
      "source": [
        "model.summary()"
      ]
    },
    {
      "cell_type": "markdown",
      "metadata": {
        "id": "AHqRcmFrfMv4"
      },
      "source": [
        "**Naming models and layers with the `name` argument**"
      ]
    },
    {
      "cell_type": "code",
      "execution_count": 7,
      "metadata": {
        "colab": {
          "base_uri": "https://localhost:8080/"
        },
        "id": "MODeMJVafMv4",
        "outputId": "e1b07540-ce7d-4454-bbe4-40eb922dcbe3"
      },
      "outputs": [
        {
          "output_type": "stream",
          "name": "stdout",
          "text": [
            "Model: \"my_example_model\"\n",
            "_________________________________________________________________\n",
            " Layer (type)                Output Shape              Param #   \n",
            "=================================================================\n",
            " my_first_layer (Dense)      (None, 64)                256       \n",
            "                                                                 \n",
            " my_last_layer (Dense)       (None, 10)                650       \n",
            "                                                                 \n",
            "=================================================================\n",
            "Total params: 906\n",
            "Trainable params: 906\n",
            "Non-trainable params: 0\n",
            "_________________________________________________________________\n"
          ]
        }
      ],
      "source": [
        "model = keras.Sequential(name=\"my_example_model\")\n",
        "model.add(layers.Dense(64, activation=\"relu\", name=\"my_first_layer\"))\n",
        "model.add(layers.Dense(10, activation=\"softmax\", name=\"my_last_layer\"))\n",
        "model.build((None, 3))\n",
        "model.summary()"
      ]
    },
    {
      "cell_type": "markdown",
      "metadata": {
        "id": "XWyX4UFHfMv4"
      },
      "source": [
        "**Specifying the input shape of your model in advance**"
      ]
    },
    {
      "cell_type": "code",
      "execution_count": 8,
      "metadata": {
        "id": "PWtqCv6lfMv4"
      },
      "outputs": [],
      "source": [
        "model = keras.Sequential()\n",
        "model.add(keras.Input(shape=(3,)))\n",
        "model.add(layers.Dense(64, activation=\"relu\"))"
      ]
    },
    {
      "cell_type": "code",
      "execution_count": 9,
      "metadata": {
        "colab": {
          "base_uri": "https://localhost:8080/"
        },
        "id": "fby-psfLfMv5",
        "outputId": "d6cd4b4e-698b-4f5e-8818-642b4d9937f3"
      },
      "outputs": [
        {
          "output_type": "stream",
          "name": "stdout",
          "text": [
            "Model: \"sequential_2\"\n",
            "_________________________________________________________________\n",
            " Layer (type)                Output Shape              Param #   \n",
            "=================================================================\n",
            " dense_4 (Dense)             (None, 64)                256       \n",
            "                                                                 \n",
            "=================================================================\n",
            "Total params: 256\n",
            "Trainable params: 256\n",
            "Non-trainable params: 0\n",
            "_________________________________________________________________\n"
          ]
        }
      ],
      "source": [
        "model.summary()"
      ]
    },
    {
      "cell_type": "code",
      "execution_count": 10,
      "metadata": {
        "colab": {
          "base_uri": "https://localhost:8080/"
        },
        "id": "PtUc95j6fMv5",
        "outputId": "8d5145e3-897d-46b6-ac24-96368561c61c"
      },
      "outputs": [
        {
          "output_type": "stream",
          "name": "stdout",
          "text": [
            "Model: \"sequential_2\"\n",
            "_________________________________________________________________\n",
            " Layer (type)                Output Shape              Param #   \n",
            "=================================================================\n",
            " dense_4 (Dense)             (None, 64)                256       \n",
            "                                                                 \n",
            " dense_5 (Dense)             (None, 10)                650       \n",
            "                                                                 \n",
            "=================================================================\n",
            "Total params: 906\n",
            "Trainable params: 906\n",
            "Non-trainable params: 0\n",
            "_________________________________________________________________\n"
          ]
        }
      ],
      "source": [
        "model.add(layers.Dense(10, activation=\"softmax\"))\n",
        "model.summary()"
      ]
    },
    {
      "cell_type": "markdown",
      "metadata": {
        "id": "DlYH7sXXfMv5"
      },
      "source": [
        "### The Functional API"
      ]
    },
    {
      "cell_type": "markdown",
      "metadata": {
        "id": "bsCovx3UfMv6"
      },
      "source": [
        "#### A simple example"
      ]
    },
    {
      "cell_type": "markdown",
      "metadata": {
        "id": "UecaLhGPfMv6"
      },
      "source": [
        "**A simple Functional model with two `Dense` layers**"
      ]
    },
    {
      "cell_type": "code",
      "execution_count": null,
      "metadata": {
        "id": "Z_12czVJfMv6"
      },
      "outputs": [],
      "source": [
        "inputs = keras.Input(shape=(3,), name=\"my_input\")\n",
        "features = layers.Dense(64, activation=\"relu\")(inputs)\n",
        "outputs = layers.Dense(10, activation=\"softmax\")(features)\n",
        "model = keras.Model(inputs=inputs, outputs=outputs)"
      ]
    },
    {
      "cell_type": "code",
      "execution_count": null,
      "metadata": {
        "id": "GuWEOd7qfMv6"
      },
      "outputs": [],
      "source": [
        "inputs = keras.Input(shape=(3,), name=\"my_input\")"
      ]
    },
    {
      "cell_type": "code",
      "execution_count": null,
      "metadata": {
        "id": "FuT5bILHfMv6"
      },
      "outputs": [],
      "source": [
        "inputs.shape"
      ]
    },
    {
      "cell_type": "code",
      "execution_count": null,
      "metadata": {
        "id": "TVZ4qZptfMv7"
      },
      "outputs": [],
      "source": [
        "inputs.dtype"
      ]
    },
    {
      "cell_type": "code",
      "execution_count": null,
      "metadata": {
        "id": "RFOqJL3wfMv7"
      },
      "outputs": [],
      "source": [
        "features = layers.Dense(64, activation=\"relu\")(inputs)"
      ]
    },
    {
      "cell_type": "code",
      "execution_count": null,
      "metadata": {
        "id": "Oy4PyU5tfMv7"
      },
      "outputs": [],
      "source": [
        "features.shape"
      ]
    },
    {
      "cell_type": "code",
      "execution_count": null,
      "metadata": {
        "id": "Q2do0vTYfMv7"
      },
      "outputs": [],
      "source": [
        "outputs = layers.Dense(10, activation=\"softmax\")(features)\n",
        "model = keras.Model(inputs=inputs, outputs=outputs)"
      ]
    },
    {
      "cell_type": "code",
      "execution_count": null,
      "metadata": {
        "id": "6zCMQo_mfMv7"
      },
      "outputs": [],
      "source": [
        "model.summary()"
      ]
    },
    {
      "cell_type": "markdown",
      "metadata": {
        "id": "hOmVeYNIfMv8"
      },
      "source": [
        "#### Multi-input, multi-output models"
      ]
    },
    {
      "cell_type": "markdown",
      "metadata": {
        "id": "9wrUlsF3fMv8"
      },
      "source": [
        "**A multi-input, multi-output Functional model**"
      ]
    },
    {
      "cell_type": "code",
      "execution_count": null,
      "metadata": {
        "id": "nYzA9RG3fMv8"
      },
      "outputs": [],
      "source": [
        "vocabulary_size = 10000\n",
        "num_tags = 100\n",
        "num_departments = 4\n",
        "\n",
        "title = keras.Input(shape=(vocabulary_size,), name=\"title\")\n",
        "text_body = keras.Input(shape=(vocabulary_size,), name=\"text_body\")\n",
        "tags = keras.Input(shape=(num_tags,), name=\"tags\")\n",
        "\n",
        "features = layers.Concatenate()([title, text_body, tags])\n",
        "features = layers.Dense(64, activation=\"relu\")(features)\n",
        "\n",
        "priority = layers.Dense(1, activation=\"sigmoid\", name=\"priority\")(features)\n",
        "department = layers.Dense(\n",
        "    num_departments, activation=\"softmax\", name=\"department\")(features)\n",
        "\n",
        "model = keras.Model(inputs=[title, text_body, tags], outputs=[priority, department])"
      ]
    },
    {
      "cell_type": "markdown",
      "metadata": {
        "id": "B9LFBG3MfMv8"
      },
      "source": [
        "#### Training a multi-input, multi-output model"
      ]
    },
    {
      "cell_type": "markdown",
      "metadata": {
        "id": "lM_HV7TOfMv8"
      },
      "source": [
        "**Training a model by providing lists of input & target arrays**"
      ]
    },
    {
      "cell_type": "code",
      "execution_count": null,
      "metadata": {
        "id": "S1B6weWjfMv8"
      },
      "outputs": [],
      "source": [
        "import numpy as np\n",
        "\n",
        "num_samples = 1280\n",
        "\n",
        "title_data = np.random.randint(0, 2, size=(num_samples, vocabulary_size))\n",
        "text_body_data = np.random.randint(0, 2, size=(num_samples, vocabulary_size))\n",
        "tags_data = np.random.randint(0, 2, size=(num_samples, num_tags))\n",
        "\n",
        "priority_data = np.random.random(size=(num_samples, 1))\n",
        "department_data = np.random.randint(0, 2, size=(num_samples, num_departments))\n",
        "\n",
        "model.compile(optimizer=\"rmsprop\",\n",
        "              loss=[\"mean_squared_error\", \"categorical_crossentropy\"],\n",
        "              metrics=[[\"mean_absolute_error\"], [\"accuracy\"]])\n",
        "model.fit([title_data, text_body_data, tags_data],\n",
        "          [priority_data, department_data],\n",
        "          epochs=1)\n",
        "model.evaluate([title_data, text_body_data, tags_data],\n",
        "               [priority_data, department_data])\n",
        "priority_preds, department_preds = model.predict([title_data, text_body_data, tags_data])"
      ]
    },
    {
      "cell_type": "markdown",
      "metadata": {
        "id": "zA4hWABLfMv9"
      },
      "source": [
        "**Training a model by providing dicts of input & target arrays**"
      ]
    },
    {
      "cell_type": "code",
      "execution_count": null,
      "metadata": {
        "id": "sSjABKgsfMv9"
      },
      "outputs": [],
      "source": [
        "model.compile(optimizer=\"rmsprop\",\n",
        "              loss={\"priority\": \"mean_squared_error\", \"department\": \"categorical_crossentropy\"},\n",
        "              metrics={\"priority\": [\"mean_absolute_error\"], \"department\": [\"accuracy\"]})\n",
        "model.fit({\"title\": title_data, \"text_body\": text_body_data, \"tags\": tags_data},\n",
        "          {\"priority\": priority_data, \"department\": department_data},\n",
        "          epochs=1)\n",
        "model.evaluate({\"title\": title_data, \"text_body\": text_body_data, \"tags\": tags_data},\n",
        "               {\"priority\": priority_data, \"department\": department_data})\n",
        "priority_preds, department_preds = model.predict(\n",
        "    {\"title\": title_data, \"text_body\": text_body_data, \"tags\": tags_data})"
      ]
    },
    {
      "cell_type": "markdown",
      "metadata": {
        "id": "KfH3XeiJfMv9"
      },
      "source": [
        "#### The power of the Functional API: Access to layer connectivity"
      ]
    },
    {
      "cell_type": "code",
      "execution_count": null,
      "metadata": {
        "id": "29r_R9S7fMv9"
      },
      "outputs": [],
      "source": [
        "keras.utils.plot_model(model, \"ticket_classifier.png\")"
      ]
    },
    {
      "cell_type": "code",
      "execution_count": null,
      "metadata": {
        "id": "u1OIH79nfMv-"
      },
      "outputs": [],
      "source": [
        "keras.utils.plot_model(model, \"ticket_classifier_with_shape_info.png\", show_shapes=True)"
      ]
    },
    {
      "cell_type": "markdown",
      "metadata": {
        "id": "JdFq6oiGfMv-"
      },
      "source": [
        "**Retrieving the inputs or outputs of a layer in a Functional model**"
      ]
    },
    {
      "cell_type": "code",
      "execution_count": null,
      "metadata": {
        "id": "IxMbsLWwfMv-"
      },
      "outputs": [],
      "source": [
        "model.layers"
      ]
    },
    {
      "cell_type": "code",
      "execution_count": null,
      "metadata": {
        "id": "DCh2ZXVgfMv-"
      },
      "outputs": [],
      "source": [
        "model.layers[3].input"
      ]
    },
    {
      "cell_type": "code",
      "execution_count": null,
      "metadata": {
        "id": "cW2qLyTUfMv-"
      },
      "outputs": [],
      "source": [
        "model.layers[3].output"
      ]
    },
    {
      "cell_type": "markdown",
      "metadata": {
        "id": "M9BeCYPYfMv-"
      },
      "source": [
        "**Creating a new model by reusing intermediate layer outputs**"
      ]
    },
    {
      "cell_type": "code",
      "execution_count": null,
      "metadata": {
        "id": "WD96CulmfMv-"
      },
      "outputs": [],
      "source": [
        "features = model.layers[4].output\n",
        "difficulty = layers.Dense(3, activation=\"softmax\", name=\"difficulty\")(features)\n",
        "\n",
        "new_model = keras.Model(\n",
        "    inputs=[title, text_body, tags],\n",
        "    outputs=[priority, department, difficulty])"
      ]
    },
    {
      "cell_type": "code",
      "execution_count": null,
      "metadata": {
        "id": "9igVc5rTfMv-"
      },
      "outputs": [],
      "source": [
        "keras.utils.plot_model(new_model, \"updated_ticket_classifier.png\", show_shapes=True)"
      ]
    },
    {
      "cell_type": "markdown",
      "metadata": {
        "id": "j9P31E6TfMv_"
      },
      "source": [
        "### Subclassing the Model class"
      ]
    },
    {
      "cell_type": "markdown",
      "metadata": {
        "id": "LR0cevx_fMv_"
      },
      "source": [
        "#### Rewriting our previous example as a subclassed model"
      ]
    },
    {
      "cell_type": "markdown",
      "metadata": {
        "id": "OfxZ_HgXfMv_"
      },
      "source": [
        "**A simple subclassed model**"
      ]
    },
    {
      "cell_type": "code",
      "execution_count": null,
      "metadata": {
        "id": "1WMzt8VcfMv_"
      },
      "outputs": [],
      "source": [
        "class CustomerTicketModel(keras.Model):\n",
        "\n",
        "    def __init__(self, num_departments):\n",
        "        super().__init__()\n",
        "        self.concat_layer = layers.Concatenate()\n",
        "        self.mixing_layer = layers.Dense(64, activation=\"relu\")\n",
        "        self.priority_scorer = layers.Dense(1, activation=\"sigmoid\")\n",
        "        self.department_classifier = layers.Dense(\n",
        "            num_departments, activation=\"softmax\")\n",
        "\n",
        "    def call(self, inputs):\n",
        "        title = inputs[\"title\"]\n",
        "        text_body = inputs[\"text_body\"]\n",
        "        tags = inputs[\"tags\"]\n",
        "\n",
        "        features = self.concat_layer([title, text_body, tags])\n",
        "        features = self.mixing_layer(features)\n",
        "        priority = self.priority_scorer(features)\n",
        "        department = self.department_classifier(features)\n",
        "        return priority, department"
      ]
    },
    {
      "cell_type": "code",
      "execution_count": null,
      "metadata": {
        "id": "802seN1cfMv_"
      },
      "outputs": [],
      "source": [
        "model = CustomerTicketModel(num_departments=4)\n",
        "\n",
        "priority, department = model(\n",
        "    {\"title\": title_data, \"text_body\": text_body_data, \"tags\": tags_data})"
      ]
    },
    {
      "cell_type": "code",
      "execution_count": null,
      "metadata": {
        "id": "J-nAAcNPfMv_"
      },
      "outputs": [],
      "source": [
        "model.compile(optimizer=\"rmsprop\",\n",
        "              loss=[\"mean_squared_error\", \"categorical_crossentropy\"],\n",
        "              metrics=[[\"mean_absolute_error\"], [\"accuracy\"]])\n",
        "model.fit({\"title\": title_data,\n",
        "           \"text_body\": text_body_data,\n",
        "           \"tags\": tags_data},\n",
        "          [priority_data, department_data],\n",
        "          epochs=1)\n",
        "model.evaluate({\"title\": title_data,\n",
        "                \"text_body\": text_body_data,\n",
        "                \"tags\": tags_data},\n",
        "               [priority_data, department_data])\n",
        "priority_preds, department_preds = model.predict({\"title\": title_data,\n",
        "                                                  \"text_body\": text_body_data,\n",
        "                                                  \"tags\": tags_data})"
      ]
    },
    {
      "cell_type": "markdown",
      "metadata": {
        "id": "WhWGeeJLfMv_"
      },
      "source": [
        "#### Beware: What subclassed models don't support"
      ]
    },
    {
      "cell_type": "markdown",
      "metadata": {
        "id": "neq3rWI0fMv_"
      },
      "source": [
        "### Mixing and matching different components"
      ]
    },
    {
      "cell_type": "markdown",
      "metadata": {
        "id": "hOtxzTTcfMv_"
      },
      "source": [
        "**Creating a Functional model that includes a subclassed model**"
      ]
    },
    {
      "cell_type": "code",
      "execution_count": null,
      "metadata": {
        "id": "N_cFNFvOfMwA"
      },
      "outputs": [],
      "source": [
        "class Classifier(keras.Model):\n",
        "\n",
        "    def __init__(self, num_classes=2):\n",
        "        super().__init__()\n",
        "        if num_classes == 2:\n",
        "            num_units = 1\n",
        "            activation = \"sigmoid\"\n",
        "        else:\n",
        "            num_units = num_classes\n",
        "            activation = \"softmax\"\n",
        "        self.dense = layers.Dense(num_units, activation=activation)\n",
        "\n",
        "    def call(self, inputs):\n",
        "        return self.dense(inputs)\n",
        "\n",
        "inputs = keras.Input(shape=(3,))\n",
        "features = layers.Dense(64, activation=\"relu\")(inputs)\n",
        "outputs = Classifier(num_classes=10)(features)\n",
        "model = keras.Model(inputs=inputs, outputs=outputs)"
      ]
    },
    {
      "cell_type": "markdown",
      "metadata": {
        "id": "nGI4gIQAfMwA"
      },
      "source": [
        "**Creating a subclassed model that includes a Functional model**"
      ]
    },
    {
      "cell_type": "code",
      "execution_count": null,
      "metadata": {
        "id": "160eSrxJfMwA"
      },
      "outputs": [],
      "source": [
        "inputs = keras.Input(shape=(64,))\n",
        "outputs = layers.Dense(1, activation=\"sigmoid\")(inputs)\n",
        "binary_classifier = keras.Model(inputs=inputs, outputs=outputs)\n",
        "\n",
        "class MyModel(keras.Model):\n",
        "\n",
        "    def __init__(self, num_classes=2):\n",
        "        super().__init__()\n",
        "        self.dense = layers.Dense(64, activation=\"relu\")\n",
        "        self.classifier = binary_classifier\n",
        "\n",
        "    def call(self, inputs):\n",
        "        features = self.dense(inputs)\n",
        "        return self.classifier(features)\n",
        "\n",
        "model = MyModel()"
      ]
    },
    {
      "cell_type": "markdown",
      "metadata": {
        "id": "t4DL6BVXfMwA"
      },
      "source": [
        "### Remember: Use the right tool for the job"
      ]
    },
    {
      "cell_type": "markdown",
      "metadata": {
        "id": "yKD8ZYP_fMwA"
      },
      "source": [
        "## Using built-in training and evaluation loops"
      ]
    },
    {
      "cell_type": "markdown",
      "metadata": {
        "id": "ZSmN0SlxfMwA"
      },
      "source": [
        "**The standard workflow: `compile()`, `fit()`, `evaluate()`, `predict()`**"
      ]
    },
    {
      "cell_type": "code",
      "execution_count": null,
      "metadata": {
        "id": "WomGbY0efMwA"
      },
      "outputs": [],
      "source": [
        "from tensorflow.keras.datasets import mnist\n",
        "\n",
        "def get_mnist_model():\n",
        "    inputs = keras.Input(shape=(28 * 28,))\n",
        "    features = layers.Dense(512, activation=\"relu\")(inputs)\n",
        "    features = layers.Dropout(0.5)(features)\n",
        "    outputs = layers.Dense(10, activation=\"softmax\")(features)\n",
        "    model = keras.Model(inputs, outputs)\n",
        "    return model\n",
        "\n",
        "(images, labels), (test_images, test_labels) = mnist.load_data()\n",
        "images = images.reshape((60000, 28 * 28)).astype(\"float32\") / 255\n",
        "test_images = test_images.reshape((10000, 28 * 28)).astype(\"float32\") / 255\n",
        "train_images, val_images = images[10000:], images[:10000]\n",
        "train_labels, val_labels = labels[10000:], labels[:10000]\n",
        "\n",
        "model = get_mnist_model()\n",
        "model.compile(optimizer=\"rmsprop\",\n",
        "              loss=\"sparse_categorical_crossentropy\",\n",
        "              metrics=[\"accuracy\"])\n",
        "model.fit(train_images, train_labels,\n",
        "          epochs=3,\n",
        "          validation_data=(val_images, val_labels))\n",
        "test_metrics = model.evaluate(test_images, test_labels)\n",
        "predictions = model.predict(test_images)"
      ]
    },
    {
      "cell_type": "markdown",
      "metadata": {
        "id": "51sHJiLLfMwB"
      },
      "source": [
        "### Writing your own metrics"
      ]
    },
    {
      "cell_type": "markdown",
      "metadata": {
        "id": "aKWdFuRTfMwB"
      },
      "source": [
        "**Implementing a custom metric by subclassing the `Metric` class**"
      ]
    },
    {
      "cell_type": "code",
      "execution_count": null,
      "metadata": {
        "id": "wQykp_y9fMwB"
      },
      "outputs": [],
      "source": [
        "import tensorflow as tf\n",
        "\n",
        "class RootMeanSquaredError(keras.metrics.Metric):\n",
        "\n",
        "    def __init__(self, name=\"rmse\", **kwargs):\n",
        "        super().__init__(name=name, **kwargs)\n",
        "        self.mse_sum = self.add_weight(name=\"mse_sum\", initializer=\"zeros\")\n",
        "        self.total_samples = self.add_weight(\n",
        "            name=\"total_samples\", initializer=\"zeros\", dtype=\"int32\")\n",
        "\n",
        "    def update_state(self, y_true, y_pred, sample_weight=None):\n",
        "        y_true = tf.one_hot(y_true, depth=tf.shape(y_pred)[1])\n",
        "        mse = tf.reduce_sum(tf.square(y_true - y_pred))\n",
        "        self.mse_sum.assign_add(mse)\n",
        "        num_samples = tf.shape(y_pred)[0]\n",
        "        self.total_samples.assign_add(num_samples)\n",
        "\n",
        "    def result(self):\n",
        "        return tf.sqrt(self.mse_sum / tf.cast(self.total_samples, tf.float32))\n",
        "\n",
        "    def reset_state(self):\n",
        "        self.mse_sum.assign(0.)\n",
        "        self.total_samples.assign(0)"
      ]
    },
    {
      "cell_type": "code",
      "execution_count": null,
      "metadata": {
        "id": "1PUZQk1rfMwB"
      },
      "outputs": [],
      "source": [
        "model = get_mnist_model()\n",
        "model.compile(optimizer=\"rmsprop\",\n",
        "              loss=\"sparse_categorical_crossentropy\",\n",
        "              metrics=[\"accuracy\", RootMeanSquaredError()])\n",
        "model.fit(train_images, train_labels,\n",
        "          epochs=3,\n",
        "          validation_data=(val_images, val_labels))\n",
        "test_metrics = model.evaluate(test_images, test_labels)"
      ]
    },
    {
      "cell_type": "markdown",
      "metadata": {
        "id": "CJ7r9AlbfMwB"
      },
      "source": [
        "### Using callbacks"
      ]
    },
    {
      "cell_type": "markdown",
      "metadata": {
        "id": "Iarj-nsefMwB"
      },
      "source": [
        "#### The EarlyStopping and ModelCheckpoint callbacks"
      ]
    },
    {
      "cell_type": "markdown",
      "metadata": {
        "id": "iY0EbVM9fMwB"
      },
      "source": [
        "**Using the `callbacks` argument in the `fit()` method**"
      ]
    },
    {
      "cell_type": "code",
      "execution_count": null,
      "metadata": {
        "id": "UCW9clvsfMwB"
      },
      "outputs": [],
      "source": [
        "callbacks_list = [\n",
        "    keras.callbacks.EarlyStopping(\n",
        "        monitor=\"val_accuracy\",\n",
        "        patience=2,\n",
        "    ),\n",
        "    keras.callbacks.ModelCheckpoint(\n",
        "        filepath=\"checkpoint_path.keras\",\n",
        "        monitor=\"val_loss\",\n",
        "        save_best_only=True,\n",
        "    )\n",
        "]\n",
        "model = get_mnist_model()\n",
        "model.compile(optimizer=\"rmsprop\",\n",
        "              loss=\"sparse_categorical_crossentropy\",\n",
        "              metrics=[\"accuracy\"])\n",
        "model.fit(train_images, train_labels,\n",
        "          epochs=10,\n",
        "          callbacks=callbacks_list,\n",
        "          validation_data=(val_images, val_labels))"
      ]
    },
    {
      "cell_type": "code",
      "execution_count": null,
      "metadata": {
        "id": "XzMxtKZYfMwC"
      },
      "outputs": [],
      "source": [
        "model = keras.models.load_model(\"checkpoint_path.keras\")"
      ]
    },
    {
      "cell_type": "markdown",
      "metadata": {
        "id": "1HnkjCvyfMwC"
      },
      "source": [
        "### Writing your own callbacks"
      ]
    },
    {
      "cell_type": "markdown",
      "metadata": {
        "id": "5V3OgS_rfMwC"
      },
      "source": [
        "**Creating a custom callback by subclassing the `Callback` class**"
      ]
    },
    {
      "cell_type": "code",
      "execution_count": null,
      "metadata": {
        "id": "FjzJvpvlfMwC"
      },
      "outputs": [],
      "source": [
        "from matplotlib import pyplot as plt\n",
        "\n",
        "class LossHistory(keras.callbacks.Callback):\n",
        "    def on_train_begin(self, logs):\n",
        "        self.per_batch_losses = []\n",
        "\n",
        "    def on_batch_end(self, batch, logs):\n",
        "        self.per_batch_losses.append(logs.get(\"loss\"))\n",
        "\n",
        "    def on_epoch_end(self, epoch, logs):\n",
        "        plt.clf()\n",
        "        plt.plot(range(len(self.per_batch_losses)), self.per_batch_losses,\n",
        "                 label=\"Training loss for each batch\")\n",
        "        plt.xlabel(f\"Batch (epoch {epoch})\")\n",
        "        plt.ylabel(\"Loss\")\n",
        "        plt.legend()\n",
        "        plt.savefig(f\"plot_at_epoch_{epoch}\")\n",
        "        self.per_batch_losses = []"
      ]
    },
    {
      "cell_type": "code",
      "execution_count": null,
      "metadata": {
        "id": "-wl99WdzfMwC"
      },
      "outputs": [],
      "source": [
        "model = get_mnist_model()\n",
        "model.compile(optimizer=\"rmsprop\",\n",
        "              loss=\"sparse_categorical_crossentropy\",\n",
        "              metrics=[\"accuracy\"])\n",
        "model.fit(train_images, train_labels,\n",
        "          epochs=10,\n",
        "          callbacks=[LossHistory()],\n",
        "          validation_data=(val_images, val_labels))"
      ]
    },
    {
      "cell_type": "markdown",
      "metadata": {
        "id": "QCp_PiXVfMwC"
      },
      "source": [
        "### Monitoring and visualization with TensorBoard"
      ]
    },
    {
      "cell_type": "code",
      "execution_count": null,
      "metadata": {
        "id": "F_3k0zcOfMwC"
      },
      "outputs": [],
      "source": [
        "model = get_mnist_model()\n",
        "model.compile(optimizer=\"rmsprop\",\n",
        "              loss=\"sparse_categorical_crossentropy\",\n",
        "              metrics=[\"accuracy\"])\n",
        "\n",
        "tensorboard = keras.callbacks.TensorBoard(\n",
        "    log_dir=\"/full_path_to_your_log_dir\",\n",
        ")\n",
        "model.fit(train_images, train_labels,\n",
        "          epochs=10,\n",
        "          validation_data=(val_images, val_labels),\n",
        "          callbacks=[tensorboard])"
      ]
    },
    {
      "cell_type": "code",
      "execution_count": null,
      "metadata": {
        "id": "tFdDcGI5fMwC"
      },
      "outputs": [],
      "source": [
        "%load_ext tensorboard\n",
        "%tensorboard --logdir /full_path_to_your_log_dir"
      ]
    },
    {
      "cell_type": "markdown",
      "metadata": {
        "id": "EAH1YtV3fMwD"
      },
      "source": [
        "## Writing your own training and evaluation loops"
      ]
    },
    {
      "cell_type": "markdown",
      "metadata": {
        "id": "zLhMhRbWfMwD"
      },
      "source": [
        "### Training versus inference"
      ]
    },
    {
      "cell_type": "markdown",
      "metadata": {
        "id": "SwYdxNW5fMwD"
      },
      "source": [
        "### Low-level usage of metrics"
      ]
    },
    {
      "cell_type": "code",
      "execution_count": null,
      "metadata": {
        "id": "L4s76I1TfMwD"
      },
      "outputs": [],
      "source": [
        "metric = keras.metrics.SparseCategoricalAccuracy()\n",
        "targets = [0, 1, 2]\n",
        "predictions = [[1, 0, 0], [0, 1, 0], [0, 0, 1]]\n",
        "metric.update_state(targets, predictions)\n",
        "current_result = metric.result()\n",
        "print(f\"result: {current_result:.2f}\")"
      ]
    },
    {
      "cell_type": "code",
      "execution_count": null,
      "metadata": {
        "id": "FCEiOnEBfMwD"
      },
      "outputs": [],
      "source": [
        "values = [0, 1, 2, 3, 4]\n",
        "mean_tracker = keras.metrics.Mean()\n",
        "for value in values:\n",
        "    mean_tracker.update_state(value)\n",
        "print(f\"Mean of values: {mean_tracker.result():.2f}\")"
      ]
    },
    {
      "cell_type": "markdown",
      "metadata": {
        "id": "rImTFgI-fMwD"
      },
      "source": [
        "### A complete training and evaluation loop"
      ]
    },
    {
      "cell_type": "markdown",
      "metadata": {
        "id": "SENVsnU2fMwD"
      },
      "source": [
        "**Writing a step-by-step training loop: the training step function**"
      ]
    },
    {
      "cell_type": "code",
      "execution_count": null,
      "metadata": {
        "id": "gIlTreJGfMwD"
      },
      "outputs": [],
      "source": [
        "model = get_mnist_model()\n",
        "\n",
        "loss_fn = keras.losses.SparseCategoricalCrossentropy()\n",
        "optimizer = keras.optimizers.RMSprop()\n",
        "metrics = [keras.metrics.SparseCategoricalAccuracy()]\n",
        "loss_tracking_metric = keras.metrics.Mean()\n",
        "\n",
        "def train_step(inputs, targets):\n",
        "    with tf.GradientTape() as tape:\n",
        "        predictions = model(inputs, training=True)\n",
        "        loss = loss_fn(targets, predictions)\n",
        "    gradients = tape.gradient(loss, model.trainable_weights)\n",
        "    optimizer.apply_gradients(zip(gradients, model.trainable_weights))\n",
        "\n",
        "    logs = {}\n",
        "    for metric in metrics:\n",
        "        metric.update_state(targets, predictions)\n",
        "        logs[metric.name] = metric.result()\n",
        "\n",
        "    loss_tracking_metric.update_state(loss)\n",
        "    logs[\"loss\"] = loss_tracking_metric.result()\n",
        "    return logs"
      ]
    },
    {
      "cell_type": "markdown",
      "metadata": {
        "id": "eCE28RDdfMwE"
      },
      "source": [
        "**Writing a step-by-step training loop: resetting the metrics**"
      ]
    },
    {
      "cell_type": "code",
      "execution_count": null,
      "metadata": {
        "id": "G94uL-pjfMwE"
      },
      "outputs": [],
      "source": [
        "def reset_metrics():\n",
        "    for metric in metrics:\n",
        "        metric.reset_state()\n",
        "    loss_tracking_metric.reset_state()"
      ]
    },
    {
      "cell_type": "markdown",
      "metadata": {
        "id": "zWRw7sygfMwE"
      },
      "source": [
        "**Writing a step-by-step training loop: the loop itself**"
      ]
    },
    {
      "cell_type": "code",
      "execution_count": null,
      "metadata": {
        "id": "cQQTa3U8fMwE"
      },
      "outputs": [],
      "source": [
        "training_dataset = tf.data.Dataset.from_tensor_slices((train_images, train_labels))\n",
        "training_dataset = training_dataset.batch(32)\n",
        "epochs = 3\n",
        "for epoch in range(epochs):\n",
        "    reset_metrics()\n",
        "    for inputs_batch, targets_batch in training_dataset:\n",
        "        logs = train_step(inputs_batch, targets_batch)\n",
        "    print(f\"Results at the end of epoch {epoch}\")\n",
        "    for key, value in logs.items():\n",
        "        print(f\"...{key}: {value:.4f}\")"
      ]
    },
    {
      "cell_type": "markdown",
      "metadata": {
        "id": "59WvoFrQfMwE"
      },
      "source": [
        "**Writing a step-by-step evaluation loop**"
      ]
    },
    {
      "cell_type": "code",
      "execution_count": null,
      "metadata": {
        "id": "AAkV7y4GfMwE"
      },
      "outputs": [],
      "source": [
        "def test_step(inputs, targets):\n",
        "    predictions = model(inputs, training=False)\n",
        "    loss = loss_fn(targets, predictions)\n",
        "\n",
        "    logs = {}\n",
        "    for metric in metrics:\n",
        "        metric.update_state(targets, predictions)\n",
        "        logs[\"val_\" + metric.name] = metric.result()\n",
        "\n",
        "    loss_tracking_metric.update_state(loss)\n",
        "    logs[\"val_loss\"] = loss_tracking_metric.result()\n",
        "    return logs\n",
        "\n",
        "val_dataset = tf.data.Dataset.from_tensor_slices((val_images, val_labels))\n",
        "val_dataset = val_dataset.batch(32)\n",
        "reset_metrics()\n",
        "for inputs_batch, targets_batch in val_dataset:\n",
        "    logs = test_step(inputs_batch, targets_batch)\n",
        "print(\"Evaluation results:\")\n",
        "for key, value in logs.items():\n",
        "    print(f\"...{key}: {value:.4f}\")"
      ]
    },
    {
      "cell_type": "markdown",
      "metadata": {
        "id": "cTds1wvkfMwE"
      },
      "source": [
        "### Make it fast with tf.function"
      ]
    },
    {
      "cell_type": "markdown",
      "metadata": {
        "id": "OZPL0aOifMwE"
      },
      "source": [
        "**Adding a `tf.function` decorator to our evaluation-step function**"
      ]
    },
    {
      "cell_type": "code",
      "execution_count": null,
      "metadata": {
        "id": "J6l_qgZtfMwE"
      },
      "outputs": [],
      "source": [
        "@tf.function\n",
        "def test_step(inputs, targets):\n",
        "    predictions = model(inputs, training=False)\n",
        "    loss = loss_fn(targets, predictions)\n",
        "\n",
        "    logs = {}\n",
        "    for metric in metrics:\n",
        "        metric.update_state(targets, predictions)\n",
        "        logs[\"val_\" + metric.name] = metric.result()\n",
        "\n",
        "    loss_tracking_metric.update_state(loss)\n",
        "    logs[\"val_loss\"] = loss_tracking_metric.result()\n",
        "    return logs\n",
        "\n",
        "val_dataset = tf.data.Dataset.from_tensor_slices((val_images, val_labels))\n",
        "val_dataset = val_dataset.batch(32)\n",
        "reset_metrics()\n",
        "for inputs_batch, targets_batch in val_dataset:\n",
        "    logs = test_step(inputs_batch, targets_batch)\n",
        "print(\"Evaluation results:\")\n",
        "for key, value in logs.items():\n",
        "    print(f\"...{key}: {value:.4f}\")"
      ]
    },
    {
      "cell_type": "markdown",
      "metadata": {
        "id": "20peT_wYfMwF"
      },
      "source": [
        "### Leveraging fit() with a custom training loop"
      ]
    },
    {
      "cell_type": "markdown",
      "metadata": {
        "id": "-diayZwkfMwF"
      },
      "source": [
        "**Implementing a custom training step to use with `fit()`**"
      ]
    },
    {
      "cell_type": "code",
      "execution_count": null,
      "metadata": {
        "id": "cO4ey2dufMwF"
      },
      "outputs": [],
      "source": [
        "loss_fn = keras.losses.SparseCategoricalCrossentropy()\n",
        "loss_tracker = keras.metrics.Mean(name=\"loss\")\n",
        "\n",
        "class CustomModel(keras.Model):\n",
        "    def train_step(self, data):\n",
        "        inputs, targets = data\n",
        "        with tf.GradientTape() as tape:\n",
        "            predictions = self(inputs, training=True)\n",
        "            loss = loss_fn(targets, predictions)\n",
        "        gradients = tape.gradient(loss, self.trainable_weights)\n",
        "        self.optimizer.apply_gradients(zip(gradients, self.trainable_weights))\n",
        "\n",
        "        loss_tracker.update_state(loss)\n",
        "        return {\"loss\": loss_tracker.result()}\n",
        "\n",
        "    @property\n",
        "    def metrics(self):\n",
        "        return [loss_tracker]"
      ]
    },
    {
      "cell_type": "code",
      "execution_count": null,
      "metadata": {
        "id": "5_gs9x4IfMwF"
      },
      "outputs": [],
      "source": [
        "inputs = keras.Input(shape=(28 * 28,))\n",
        "features = layers.Dense(512, activation=\"relu\")(inputs)\n",
        "features = layers.Dropout(0.5)(features)\n",
        "outputs = layers.Dense(10, activation=\"softmax\")(features)\n",
        "model = CustomModel(inputs, outputs)\n",
        "\n",
        "model.compile(optimizer=keras.optimizers.RMSprop())\n",
        "model.fit(train_images, train_labels, epochs=3)"
      ]
    },
    {
      "cell_type": "code",
      "execution_count": null,
      "metadata": {
        "id": "eVMR2XAcfMwF"
      },
      "outputs": [],
      "source": [
        "class CustomModel(keras.Model):\n",
        "    def train_step(self, data):\n",
        "        inputs, targets = data\n",
        "        with tf.GradientTape() as tape:\n",
        "            predictions = self(inputs, training=True)\n",
        "            loss = self.compiled_loss(targets, predictions)\n",
        "        gradients = tape.gradient(loss, self.trainable_weights)\n",
        "        self.optimizer.apply_gradients(zip(gradients, self.trainable_weights))\n",
        "        self.compiled_metrics.update_state(targets, predictions)\n",
        "        return {m.name: m.result() for m in self.metrics}"
      ]
    },
    {
      "cell_type": "code",
      "execution_count": null,
      "metadata": {
        "id": "ul4dkAY5fMwF"
      },
      "outputs": [],
      "source": [
        "inputs = keras.Input(shape=(28 * 28,))\n",
        "features = layers.Dense(512, activation=\"relu\")(inputs)\n",
        "features = layers.Dropout(0.5)(features)\n",
        "outputs = layers.Dense(10, activation=\"softmax\")(features)\n",
        "model = CustomModel(inputs, outputs)\n",
        "\n",
        "model.compile(optimizer=keras.optimizers.RMSprop(),\n",
        "              loss=keras.losses.SparseCategoricalCrossentropy(),\n",
        "              metrics=[keras.metrics.SparseCategoricalAccuracy()])\n",
        "model.fit(train_images, train_labels, epochs=3)"
      ]
    },
    {
      "cell_type": "markdown",
      "metadata": {
        "id": "8cyPy7-XfMwF"
      },
      "source": [
        "## Summary"
      ]
    }
  ],
  "metadata": {
    "colab": {
      "collapsed_sections": [],
      "name": "chapter07_working-with-keras.i",
      "provenance": [],
      "toc_visible": true
    },
    "kernelspec": {
      "display_name": "Python 3",
      "language": "python",
      "name": "python3"
    },
    "language_info": {
      "codemirror_mode": {
        "name": "ipython",
        "version": 3
      },
      "file_extension": ".py",
      "mimetype": "text/x-python",
      "name": "python",
      "nbconvert_exporter": "python",
      "pygments_lexer": "ipython3",
      "version": "3.7.0"
    },
    "accelerator": "GPU"
  },
  "nbformat": 4,
  "nbformat_minor": 0
}